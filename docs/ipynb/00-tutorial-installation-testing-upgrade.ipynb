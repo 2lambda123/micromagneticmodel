{
 "cells": [
  {
   "cell_type": "markdown",
   "metadata": {},
   "source": [
    "# Tutorial 00: Installation, testing, and upgrade\n",
    "\n",
    "> Interactive online tutorial:\n",
    "> [![Binder](https://mybinder.org/badge_logo.svg)](https://mybinder.org/v2/gh/ubermag/micromagneticmodel/master?filepath=docs%2Fipynb%2Findex.ipynb)\n",
    "\n",
    "## Installation\n",
    "\n",
    "We recommend installing `micromagneticmodel` using `conda` package manager. Alternatively, it can be installed using `pip`.\n",
    "\n",
    "### `conda`\n",
    "\n",
    "If you do not already have it, [Download Anaconda](https://www.anaconda.com/download) for your operating system and follow instructions to install it. For further information on the `conda` package, dependency, and environment management, please have a look at its [documentation](https://conda.io/docs/).\n",
    "\n",
    "`micromagneticmodel` is installed using `conda` by running\n",
    "\n",
    "    $ conda install --channel conda-forge micromagneticmodel\n",
    "\n",
    "### `pip`\n",
    "\n",
    "After installing [Anaconda](https://www.anaconda.com/) on MacOS or Windows, `pip` will also be installed. However, on Linux, if you do not already have it, you can install it with\n",
    "\n",
    "    $ sudo apt-get install python3-pip\n",
    "\n",
    "`micromagneticmodel` is then installed by running\n",
    "\n",
    "    $ python3 -m pip install micromagneticmodel\n",
    "    \n",
    "## Testing\n",
    "\n",
    "After the installation, you can test the `micromagneticmodel` package with\n",
    "\n",
    "    $ python3 -c \"import micromagneticmodel; micromagneticmodel.test()\"\n",
    "    \n",
    "## Upgrade\n",
    "\n",
    "If you used `conda` for the installation, upgrade `micromagneticmodel` by running:\n",
    "\n",
    "    $ conda upgrade micromagneticmodel\n",
    "    \n",
    "Alternatively, if `pip` was used, the upgrade command is\n",
    "\n",
    "    $ python3 -m pip install --upgrade micromagneticmodel"
   ]
  }
 ],
 "metadata": {
  "kernelspec": {
   "display_name": "Python 3",
   "language": "python",
   "name": "python3"
  },
  "language_info": {
   "codemirror_mode": {
    "name": "ipython",
    "version": 3
   },
   "file_extension": ".py",
   "mimetype": "text/x-python",
   "name": "python",
   "nbconvert_exporter": "python",
   "pygments_lexer": "ipython3",
   "version": "3.7.4"
  }
 },
 "nbformat": 4,
 "nbformat_minor": 4
}
