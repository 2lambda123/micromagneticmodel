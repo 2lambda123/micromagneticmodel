{
 "cells": [
  {
   "cell_type": "markdown",
   "metadata": {},
   "source": [
    "# Tutorials\n",
    "\n",
    "The following tutorials are available:\n",
    "\n",
    "- [Tutorial 00: Installation, testing, and upgrade](00-tutorial-installation-testing-upgrade.ipynb)\n",
    "- [Tutorial 01: Deriving an energy term](01-tutorial-deriving-energy-term.ipynb)\n",
    "- [Tutorial 02: Deriving a dynamics term](02-tutorial-deriving-dynamics-term.ipynb)\n",
    "- [Tutorial 03: Defining energy and dynamics parameters](03-tutorial-defining-parameters.ipynb)\n",
    "- [Tutorial 04: Defining energy terms and Hamiltonian](04-tutorial-energy-terms.ipynb)\n",
    "- [Tutorial 05: Defining dynamics terms and dynamics equation](05-tutorial-dynamics-terms.ipynb)\n",
    "- [Tutorial 06: Driver base class](06-tutorial-driver.ipynb)\n",
    "- [Tutorial 07: Defined constants](07-tutorial-constants.ipynb)\n",
    "- [Tutorial 08: Support, License, How to cite, and Acknowledgements](08-tutorial-other.ipynb)\n",
    "\n",
    "All available Jupyter notebooks can be found [here](./)."
   ]
  }
 ],
 "metadata": {
  "kernelspec": {
   "display_name": "Python 3",
   "language": "python",
   "name": "python3"
  },
  "language_info": {
   "codemirror_mode": {
    "name": "ipython",
    "version": 3
   },
   "file_extension": ".py",
   "mimetype": "text/x-python",
   "name": "python",
   "nbconvert_exporter": "python",
   "pygments_lexer": "ipython3",
   "version": "3.7.4"
  }
 },
 "nbformat": 4,
 "nbformat_minor": 2
}
