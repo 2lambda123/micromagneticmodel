{
 "cells": [
  {
   "cell_type": "markdown",
   "metadata": {},
   "source": [
    "# Tutorial 08: Defining micromagnetic system\n",
    "\n",
    "> Interactive online tutorial:\n",
    "> [![Binder](https://mybinder.org/badge_logo.svg)](https://mybinder.org/v2/gh/ubermag/micromagneticmodel/master?filepath=docs%2Fipynb%2Findex.ipynb)\n",
    "\n",
    "A micromagnetic system is the main entity of the micromagnetic model. It consists of three main components:\n",
    "- Energy equation\n",
    "- Dynamics equation\n",
    "- Magnetisation configuration\n",
    "\n",
    "In this tutorial, we will assemble a micromagnetic system, which can then be \"driven\" using different drivers."
   ]
  },
  {
   "cell_type": "code",
   "execution_count": 1,
   "metadata": {},
   "outputs": [],
   "source": [
    "import micromagneticmodel as mm"
   ]
  },
  {
   "cell_type": "markdown",
   "metadata": {},
   "source": [
    "Firstly, we create a Hamiltonian:"
   ]
  },
  {
   "cell_type": "code",
   "execution_count": 2,
   "metadata": {},
   "outputs": [],
   "source": [
    "energy = mm.Exchange(A=1e-11) + mm.Zeeman(H=(1e6, 0, 0))"
   ]
  },
  {
   "cell_type": "markdown",
   "metadata": {},
   "source": [
    "Next, we define the dynamics equation."
   ]
  },
  {
   "cell_type": "code",
   "execution_count": 3,
   "metadata": {},
   "outputs": [],
   "source": [
    "dynamics = mm.Precession(gamma0=mm.consts.gamma0) + mm.Damping(alpha=0.1)"
   ]
  },
  {
   "cell_type": "markdown",
   "metadata": {},
   "source": [
    "Finally, magnetisation configuration must be defined as `discretisationfield.Field`."
   ]
  },
  {
   "cell_type": "code",
   "execution_count": 4,
   "metadata": {},
   "outputs": [],
   "source": [
    "import discretisedfield as df\n",
    "\n",
    "p1 = (0, 0, 0)\n",
    "p2 = (10e-9, 10e-9, 10e-9)\n",
    "n = (5, 5, 5)\n",
    "Ms = 1e6\n",
    "mesh = df.Mesh(p1=p1, p2=p2, n=n)\n",
    "m = df.Field(mesh, dim=3, value=(0, 0, 1), norm=Ms)"
   ]
  },
  {
   "cell_type": "markdown",
   "metadata": {},
   "source": [
    "Using these three parameters we can assemble the system object."
   ]
  },
  {
   "cell_type": "code",
   "execution_count": 5,
   "metadata": {},
   "outputs": [],
   "source": [
    "system = mm.System(energy=energy, dynamics=dynamics, m=m, name='mysystem')"
   ]
  },
  {
   "cell_type": "markdown",
   "metadata": {},
   "source": [
    "We can now check some basics properties of the assembled system."
   ]
  },
  {
   "cell_type": "code",
   "execution_count": 6,
   "metadata": {},
   "outputs": [
    {
     "data": {
      "text/plain": [
       "System(name='mysystem')"
      ]
     },
     "execution_count": 6,
     "metadata": {},
     "output_type": "execute_result"
    }
   ],
   "source": [
    "system"
   ]
  },
  {
   "cell_type": "code",
   "execution_count": 7,
   "metadata": {},
   "outputs": [
    {
     "data": {
      "text/latex": [
       "$A \\left[ (\\nabla \\mathbf{m}_\\text{x})^{2} + (\\nabla \\mathbf{m}_\\text{y})^{2} + (\\nabla \\mathbf{m}_\\text{z})^{2} \\right]-\\mu_{0}M_\\text{s} \\mathbf{m} \\cdot \\mathbf{H}$"
      ],
      "text/plain": [
       "Exchange(A=1e-11) + Zeeman(H=(1000000.0, 0, 0))"
      ]
     },
     "execution_count": 7,
     "metadata": {},
     "output_type": "execute_result"
    }
   ],
   "source": [
    "system.energy"
   ]
  },
  {
   "cell_type": "code",
   "execution_count": 8,
   "metadata": {},
   "outputs": [
    {
     "data": {
      "text/latex": [
       "$-\\frac{\\gamma_{0}}{1 + \\alpha^{2}} \\mathbf{m} \\times \\mathbf{H}_\\text{eff}-\\frac{\\gamma_{0} \\alpha}{1 + \\alpha^{2}} \\mathbf{m} \\times (\\mathbf{m} \\times \\mathbf{H}_\\text{eff})$"
      ],
      "text/plain": [
       "Precession(gamma0=221276.14872118403) + Damping(alpha=0.1)"
      ]
     },
     "execution_count": 8,
     "metadata": {},
     "output_type": "execute_result"
    }
   ],
   "source": [
    "system.dynamics"
   ]
  },
  {
   "cell_type": "code",
   "execution_count": 9,
   "metadata": {},
   "outputs": [
    {
     "data": {
      "application/vnd.jupyter.widget-view+json": {
       "model_id": "1bfd04a61a33486fa259a3a684837f10",
       "version_major": 2,
       "version_minor": 0
      },
      "text/plain": [
       "Output()"
      ]
     },
     "metadata": {},
     "output_type": "display_data"
    }
   ],
   "source": [
    "# NBVAL_IGNORE_OUTPUT\n",
    "system.m.k3d_vector()"
   ]
  }
 ],
 "metadata": {
  "kernelspec": {
   "display_name": "Python 3",
   "language": "python",
   "name": "python3"
  },
  "language_info": {
   "codemirror_mode": {
    "name": "ipython",
    "version": 3
   },
   "file_extension": ".py",
   "mimetype": "text/x-python",
   "name": "python",
   "nbconvert_exporter": "python",
   "pygments_lexer": "ipython3",
   "version": "3.8.3"
  },
  "widgets": {
   "application/vnd.jupyter.widget-state+json": {
    "state": {
     "1bfd04a61a33486fa259a3a684837f10": {
      "model_module": "@jupyter-widgets/output",
      "model_module_version": "1.0.0",
      "model_name": "OutputModel",
      "state": {
       "layout": "IPY_MODEL_39e15bfe52de4c98b8f14837fa1b75fc",
       "outputs": [
        {
         "data": {
          "application/vnd.jupyter.widget-view+json": {
           "model_id": "eeb0fbddc16b460b88e5a81507071c69",
           "version_major": 2,
           "version_minor": 0
          },
          "text/plain": "Plot(antialias=3, axes=['x', 'y', 'z'], axes_helper=1.0, background_color=16777215, camera=[2, -3, 0.2, 0.0, 0…"
         },
         "metadata": {},
         "output_type": "display_data"
        }
       ]
      }
     },
     "24053387840840a38afeb0380b2a10c6": {
      "buffers": [
       {
        "data": "",
        "encoding": "base64",
        "path": [
         "colors",
         "data"
        ]
       },
       {
        "data": "AACAPwAAAAAAAAAAAAAAAAAAAAAAAIA/AAAAAAAAAAAAAAAAAAAAAAAAgD8AAAAAAAAAAAAAAAAAAAAAAACAPw==",
        "encoding": "base64",
        "path": [
         "model_matrix",
         "data"
        ]
       },
       {
        "data": "",
        "encoding": "base64",
        "path": [
         "opacities",
         "data"
        ]
       },
       {
        "data": "AACAPwAAgD8AAIA/AABAQAAAgD8AAIA/AACgQAAAgD8AAIA/AADgQAAAgD8AAIA/AAAQQQAAgD8AAIA/AACAPwAAQEAAAIA/AABAQAAAQEAAAIA/AACgQAAAQEAAAIA/AADgQAAAQEAAAIA/AAAQQQAAQEAAAIA/AACAPwAAoEAAAIA/AABAQAAAoEAAAIA/AACgQAAAoEAAAIA/AADgQAAAoEAAAIA/AAAQQQAAoEAAAIA/AACAPwAA4EAAAIA/AABAQAAA4EAAAIA/AACgQAAA4EAAAIA/AADgQAAA4EAAAIA/AAAQQQAA4EAAAIA/AACAPwAAEEEAAIA/AABAQAAAEEEAAIA/AACgQAAAEEEAAIA/AADgQAAAEEEAAIA/AAAQQQAAEEEAAIA/AACAPwAAgD8AAEBAAABAQAAAgD8AAEBAAACgQAAAgD8AAEBAAADgQAAAgD8AAEBAAAAQQQAAgD8AAEBAAACAPwAAQEAAAEBAAABAQAAAQEAAAEBAAACgQAAAQEAAAEBAAADgQAAAQEAAAEBAAAAQQQAAQEAAAEBAAACAPwAAoEAAAEBAAABAQAAAoEAAAEBAAACgQAAAoEAAAEBAAADgQAAAoEAAAEBAAAAQQQAAoEAAAEBAAACAPwAA4EAAAEBAAABAQAAA4EAAAEBAAACgQAAA4EAAAEBAAADgQAAA4EAAAEBAAAAQQQAA4EAAAEBAAACAPwAAEEEAAEBAAABAQAAAEEEAAEBAAACgQAAAEEEAAEBAAADgQAAAEEEAAEBAAAAQQQAAEEEAAEBAAACAPwAAgD8AAKBAAABAQAAAgD8AAKBAAACgQAAAgD8AAKBAAADgQAAAgD8AAKBAAAAQQQAAgD8AAKBAAACAPwAAQEAAAKBAAABAQAAAQEAAAKBAAACgQAAAQEAAAKBAAADgQAAAQEAAAKBAAAAQQQAAQEAAAKBAAACAPwAAoEAAAKBAAABAQAAAoEAAAKBAAACgQAAAoEAAAKBAAADgQAAAoEAAAKBAAAAQQQAAoEAAAKBAAACAPwAA4EAAAKBAAABAQAAA4EAAAKBAAACgQAAA4EAAAKBAAADgQAAA4EAAAKBAAAAQQQAA4EAAAKBAAACAPwAAEEEAAKBAAABAQAAAEEEAAKBAAACgQAAAEEEAAKBAAADgQAAAEEEAAKBAAAAQQQAAEEEAAKBAAACAPwAAgD8AAOBAAABAQAAAgD8AAOBAAACgQAAAgD8AAOBAAADgQAAAgD8AAOBAAAAQQQAAgD8AAOBAAACAPwAAQEAAAOBAAABAQAAAQEAAAOBAAACgQAAAQEAAAOBAAADgQAAAQEAAAOBAAAAQQQAAQEAAAOBAAACAPwAAoEAAAOBAAABAQAAAoEAAAOBAAACgQAAAoEAAAOBAAADgQAAAoEAAAOBAAAAQQQAAoEAAAOBAAACAPwAA4EAAAOBAAABAQAAA4EAAAOBAAACgQAAA4EAAAOBAAADgQAAA4EAAAOBAAAAQQQAA4EAAAOBAAACAPwAAEEEAAOBAAABAQAAAEEEAAOBAAACgQAAAEEEAAOBAAADgQAAAEEEAAOBAAAAQQQAAEEEAAOBAAACAPwAAgD8AABBBAABAQAAAgD8AABBBAACgQAAAgD8AABBBAADgQAAAgD8AABBBAAAQQQAAgD8AABBBAACAPwAAQEAAABBBAABAQAAAQEAAABBBAACgQAAAQEAAABBBAADgQAAAQEAAABBBAAAQQQAAQEAAABBBAACAPwAAoEAAABBBAABAQAAAoEAAABBBAACgQAAAoEAAABBBAADgQAAAoEAAABBBAAAQQQAAoEAAABBBAACAPwAA4EAAABBBAABAQAAA4EAAABBBAACgQAAA4EAAABBBAADgQAAA4EAAABBBAAAQQQAA4EAAABBBAACAPwAAEEEAABBBAABAQAAAEEEAABBBAACgQAAAEEEAABBBAADgQAAAEEEAABBBAAAQQQAAEEEAABBB",
        "encoding": "base64",
        "path": [
         "positions",
         "data"
        ]
       }
      ],
      "model_module": "k3d",
      "model_module_version": "2.8.1",
      "model_name": "ObjectModel",
      "state": {
       "_view_count": null,
       "_view_module": null,
       "_view_module_version": "",
       "_view_name": null,
       "color": 5010096,
       "colorLegend": false,
       "colors": {
        "dtype": "uint32",
        "shape": [
         0
        ]
       },
       "compression_level": 0,
       "id": 140286159629088,
       "mesh_detail": 2,
       "model_matrix": {
        "dtype": "float32",
        "shape": [
         4,
         4
        ]
       },
       "name": "Points #1",
       "opacities": {
        "dtype": "float32",
        "shape": [
         0
        ]
       },
       "opacity": 1,
       "point_size": 0.5,
       "positions": {
        "dtype": "float32",
        "shape": [
         125,
         3
        ]
       },
       "shader": "3dSpecular",
       "type": "Points",
       "visible": true
      }
     },
     "39e15bfe52de4c98b8f14837fa1b75fc": {
      "model_module": "@jupyter-widgets/base",
      "model_module_version": "1.2.0",
      "model_name": "LayoutModel",
      "state": {}
     },
     "64df345bc61940d3a99d816706a67aff": {
      "buffers": [
       {
        "data": "UoTdAFKE3QBShN0AUoTdAFKE3QBShN0AUoTdAFKE3QBShN0AUoTdAFKE3QBShN0AUoTdAFKE3QBShN0AUoTdAFKE3QBShN0AUoTdAFKE3QBShN0AUoTdAFKE3QBShN0AUoTdAFKE3QBShN0AUoTdAFKE3QBShN0AUoTdAFKE3QBShN0AUoTdAFKE3QBShN0AUoTdAFKE3QBShN0AUoTdAFKE3QBShN0AUoTdAFKE3QBShN0AUoTdAFKE3QBShN0AUoTdAFKE3QBShN0AUoTdAFKE3QBShN0AUoTdAFKE3QBShN0AUoTdAFKE3QBShN0AUoTdAFKE3QBShN0AUoTdAFKE3QBShN0AUoTdAFKE3QBShN0AUoTdAFKE3QBShN0AUoTdAFKE3QBShN0AUoTdAFKE3QBShN0AUoTdAFKE3QBShN0AUoTdAFKE3QBShN0AUoTdAFKE3QBShN0AUoTdAFKE3QBShN0AUoTdAFKE3QBShN0AUoTdAFKE3QBShN0AUoTdAFKE3QBShN0AUoTdAFKE3QBShN0AUoTdAFKE3QBShN0AUoTdAFKE3QBShN0AUoTdAFKE3QBShN0AUoTdAFKE3QBShN0AUoTdAFKE3QBShN0AUoTdAFKE3QBShN0AUoTdAFKE3QBShN0AUoTdAFKE3QBShN0AUoTdAFKE3QBShN0AUoTdAFKE3QBShN0AUoTdAFKE3QBShN0AUoTdAFKE3QBShN0AUoTdAFKE3QBShN0AUoTdAFKE3QBShN0AUoTdAFKE3QBShN0AUoTdAFKE3QBShN0AUoTdAFKE3QBShN0AUoTdAFKE3QBShN0AUoTdAFKE3QBShN0AUoTdAFKE3QBShN0AUoTdAFKE3QBShN0AUoTdAFKE3QBShN0AUoTdAFKE3QBShN0AUoTdAFKE3QBShN0AUoTdAFKE3QBShN0AUoTdAFKE3QBShN0AUoTdAFKE3QBShN0AUoTdAFKE3QBShN0AUoTdAFKE3QBShN0AUoTdAFKE3QBShN0AUoTdAFKE3QBShN0AUoTdAFKE3QBShN0AUoTdAFKE3QBShN0AUoTdAFKE3QBShN0AUoTdAFKE3QBShN0AUoTdAFKE3QBShN0AUoTdAFKE3QBShN0AUoTdAFKE3QBShN0AUoTdAFKE3QBShN0AUoTdAFKE3QBShN0AUoTdAFKE3QBShN0AUoTdAFKE3QBShN0AUoTdAFKE3QBShN0AUoTdAFKE3QBShN0AUoTdAFKE3QBShN0AUoTdAFKE3QBShN0AUoTdAFKE3QBShN0AUoTdAFKE3QBShN0AUoTdAFKE3QBShN0AUoTdAA==",
        "encoding": "base64",
        "path": [
         "colors",
         "data"
        ]
       },
       {
        "data": "AACAPwAAAAAAAAAAAAAAAAAAAAAAAIA/AAAAAAAAAAAAAAAAAAAAAAAAgD8AAAAAAAAAAAAAAAAAAAAAAACAPw==",
        "encoding": "base64",
        "path": [
         "model_matrix",
         "data"
        ]
       },
       {
        "data": "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",
        "encoding": "base64",
        "path": [
         "origins",
         "data"
        ]
       },
       {
        "data": "AAAAAAAAAAAAAABAAAAAAAAAAAAAAABAAAAAAAAAAAAAAABAAAAAAAAAAAAAAABAAAAAAAAAAAAAAABAAAAAAAAAAAAAAABAAAAAAAAAAAAAAABAAAAAAAAAAAAAAABAAAAAAAAAAAAAAABAAAAAAAAAAAAAAABAAAAAAAAAAAAAAABAAAAAAAAAAAAAAABAAAAAAAAAAAAAAABAAAAAAAAAAAAAAABAAAAAAAAAAAAAAABAAAAAAAAAAAAAAABAAAAAAAAAAAAAAABAAAAAAAAAAAAAAABAAAAAAAAAAAAAAABAAAAAAAAAAAAAAABAAAAAAAAAAAAAAABAAAAAAAAAAAAAAABAAAAAAAAAAAAAAABAAAAAAAAAAAAAAABAAAAAAAAAAAAAAABAAAAAAAAAAAAAAABAAAAAAAAAAAAAAABAAAAAAAAAAAAAAABAAAAAAAAAAAAAAABAAAAAAAAAAAAAAABAAAAAAAAAAAAAAABAAAAAAAAAAAAAAABAAAAAAAAAAAAAAABAAAAAAAAAAAAAAABAAAAAAAAAAAAAAABAAAAAAAAAAAAAAABAAAAAAAAAAAAAAABAAAAAAAAAAAAAAABAAAAAAAAAAAAAAABAAAAAAAAAAAAAAABAAAAAAAAAAAAAAABAAAAAAAAAAAAAAABAAAAAAAAAAAAAAABAAAAAAAAAAAAAAABAAAAAAAAAAAAAAABAAAAAAAAAAAAAAABAAAAAAAAAAAAAAABAAAAAAAAAAAAAAABAAAAAAAAAAAAAAABAAAAAAAAAAAAAAABAAAAAAAAAAAAAAABAAAAAAAAAAAAAAABAAAAAAAAAAAAAAABAAAAAAAAAAAAAAABAAAAAAAAAAAAAAABAAAAAAAAAAAAAAABAAAAAAAAAAAAAAABAAAAAAAAAAAAAAABAAAAAAAAAAAAAAABAAAAAAAAAAAAAAABAAAAAAAAAAAAAAABAAAAAAAAAAAAAAABAAAAAAAAAAAAAAABAAAAAAAAAAAAAAABAAAAAAAAAAAAAAABAAAAAAAAAAAAAAABAAAAAAAAAAAAAAABAAAAAAAAAAAAAAABAAAAAAAAAAAAAAABAAAAAAAAAAAAAAABAAAAAAAAAAAAAAABAAAAAAAAAAAAAAABAAAAAAAAAAAAAAABAAAAAAAAAAAAAAABAAAAAAAAAAAAAAABAAAAAAAAAAAAAAABAAAAAAAAAAAAAAABAAAAAAAAAAAAAAABAAAAAAAAAAAAAAABAAAAAAAAAAAAAAABAAAAAAAAAAAAAAABAAAAAAAAAAAAAAABAAAAAAAAAAAAAAABAAAAAAAAAAAAAAABAAAAAAAAAAAAAAABAAAAAAAAAAAAAAABAAAAAAAAAAAAAAABAAAAAAAAAAAAAAABAAAAAAAAAAAAAAABAAAAAAAAAAAAAAABAAAAAAAAAAAAAAABAAAAAAAAAAAAAAABAAAAAAAAAAAAAAABAAAAAAAAAAAAAAABAAAAAAAAAAAAAAABAAAAAAAAAAAAAAABAAAAAAAAAAAAAAABAAAAAAAAAAAAAAABAAAAAAAAAAAAAAABAAAAAAAAAAAAAAABAAAAAAAAAAAAAAABAAAAAAAAAAAAAAABAAAAAAAAAAAAAAABAAAAAAAAAAAAAAABAAAAAAAAAAAAAAABAAAAAAAAAAAAAAABAAAAAAAAAAAAAAABAAAAAAAAAAAAAAABAAAAAAAAAAAAAAABAAAAAAAAAAAAAAABAAAAAAAAAAAAAAABAAAAAAAAAAAAAAABAAAAAAAAAAAAAAABAAAAAAAAAAAAAAABAAAAAAAAAAAAAAABAAAAAAAAAAAAAAABAAAAAAAAAAAAAAABAAAAAAAAAAAAAAABAAAAAAAAAAAAAAABAAAAAAAAAAAAAAABAAAAAAAAAAAAAAABAAAAAAAAAAAAAAABAAAAAAAAAAAAAAABAAAAAAAAAAAAAAABAAAAAAAAAAAAAAABA",
        "encoding": "base64",
        "path": [
         "vectors",
         "data"
        ]
       }
      ],
      "model_module": "k3d",
      "model_module_version": "2.8.1",
      "model_name": "ObjectModel",
      "state": {
       "_view_count": null,
       "_view_module": null,
       "_view_module_version": "",
       "_view_name": null,
       "colorLegend": false,
       "colors": {
        "dtype": "uint32",
        "shape": [
         125,
         2
        ]
       },
       "compression_level": 0,
       "head_color": 255,
       "head_size": 1,
       "id": 140286159507072,
       "label_size": 1,
       "labels": [],
       "line_width": 0.01,
       "model_matrix": {
        "dtype": "float32",
        "shape": [
         4,
         4
        ]
       },
       "name": "Vectors #1",
       "origin_color": 255,
       "origins": {
        "dtype": "float32",
        "shape": [
         125,
         3
        ]
       },
       "type": "Vectors",
       "use_head": true,
       "vectors": {
        "dtype": "float32",
        "shape": [
         125,
         3
        ]
       },
       "visible": true
      }
     },
     "a0f07b827bfb4faba22ce8dafc3acb5d": {
      "model_module": "@jupyter-widgets/base",
      "model_module_version": "1.2.0",
      "model_name": "LayoutModel",
      "state": {}
     },
     "eeb0fbddc16b460b88e5a81507071c69": {
      "model_module": "k3d",
      "model_module_version": "2.8.1",
      "model_name": "PlotModel",
      "state": {
       "_backend_version": "2.8.1",
       "_dom_classes": [],
       "_view_count": null,
       "antialias": 3,
       "auto_rendering": true,
       "axes": [
        "x\\,\\text{(nm)}",
        "y\\,\\text{(nm)}",
        "z\\,\\text{(nm)}"
       ],
       "axes_helper": 1,
       "background_color": 16777215,
       "camera": [
        17.99038105676658,
        -14.48557158514987,
        6.299038105676685,
        5,
        5,
        5,
        0,
        0,
        1
       ],
       "camera_animation": [],
       "camera_auto_fit": true,
       "camera_fov": 60,
       "camera_mode": "trackball",
       "camera_no_pan": false,
       "camera_no_rotate": false,
       "camera_no_zoom": false,
       "clipping_planes": [],
       "colorbar_object_id": -1,
       "colorbar_scientific": false,
       "fps": 25,
       "fps_meter": false,
       "grid": [
        -1,
        -1,
        -1,
        1,
        1,
        1
       ],
       "grid_auto_fit": true,
       "grid_visible": true,
       "height": 512,
       "layout": "IPY_MODEL_a0f07b827bfb4faba22ce8dafc3acb5d",
       "lighting": 1.5,
       "manipulate_mode": "translate",
       "menu_visibility": true,
       "mode": "view",
       "name": null,
       "object_ids": [
        140286159507072,
        140286159629088
       ],
       "rendering_steps": 1,
       "screenshot": "",
       "screenshot_scale": 2,
       "snapshot": "",
       "snapshot_include_js": true,
       "time": 0,
       "voxel_paint_color": 0
      }
     }
    },
    "version_major": 2,
    "version_minor": 0
   }
  }
 },
 "nbformat": 4,
 "nbformat_minor": 2
}
