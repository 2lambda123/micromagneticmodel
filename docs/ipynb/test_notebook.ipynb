{
 "cells": [
  {
   "cell_type": "code",
   "execution_count": 1,
   "metadata": {},
   "outputs": [],
   "source": [
    "import micromagneticmodel as mm"
   ]
  },
  {
   "cell_type": "code",
   "execution_count": 2,
   "metadata": {},
   "outputs": [],
   "source": [
    "system = mm.System()"
   ]
  },
  {
   "cell_type": "code",
   "execution_count": 3,
   "metadata": {},
   "outputs": [],
   "source": [
    "system.hamiltonian = mm.Exchange(A=1e-12) + \\\n",
    "                     mm.Zeeman(H=(0, 0, 1e6)) + \\\n",
    "                     mm.UniaxialAnisotropy(K1=5e6, K2=5e3, u=(0, 0, 1)) + \\\n",
    "                     mm.Demag() + \\\n",
    "                     mm.CubicAnisotropy(K1=5e6, u1=(1, 0, 0), u2=(0, 1, 0)) + \\\n",
    "                     mm.DMI(crystalclass=\"cnv\", D=5e-3)"
   ]
  },
  {
   "cell_type": "code",
   "execution_count": 4,
   "metadata": {},
   "outputs": [
    {
     "data": {
      "text/latex": [
       "$w=A (\\nabla \\mathbf{m})^{2}-\\mu_{0}M_\\text{s} \\mathbf{m} \\cdot \\mathbf{H}-K_{1} (\\mathbf{m} \\cdot \\mathbf{u})^{2}-K_{2} (\\mathbf{m} \\cdot \\mathbf{u})^{4}-\\frac{1}{2}\\mu_{0}M_\\text{s}\\mathbf{m} \\cdot \\mathbf{H}_\\text{d}-K_{1} [(\\mathbf{m} \\cdot \\mathbf{u}_{1})^{2}(\\mathbf{m} \\cdot \\mathbf{u}_{2})^{2}+(\\mathbf{m} \\cdot \\mathbf{u}_{2})^{2}(\\mathbf{m} \\cdot \\mathbf{u}_{3})^{2}+(\\mathbf{m} \\cdot \\mathbf{u}_{3})^{2}(\\mathbf{m} \\cdot \\mathbf{u}_{1})^{2}]+D ( \\mathbf{m} \\cdot \\nabla m_{z} - m_{z} \\nabla \\cdot \\mathbf{m} )$"
      ],
      "text/plain": [
       "Exchange(A=1e-12, name='exchange') + Zeeman(H=(0, 0, 1000000.0), name='zeeman') + UniaxialAnisotropy(K1=5000000.0, K2=5000.0, u=(0, 0, 1), name='uniaxialanisotropy') + Demag(name='demag') + CubicAnisotropy(K1=5000000.0, u1=(1, 0, 0), u2=(0, 1, 0), name='cubicanisotropy') + DMI(D=0.005, crystalclass='cnv', name='dmi')"
      ]
     },
     "execution_count": 4,
     "metadata": {},
     "output_type": "execute_result"
    }
   ],
   "source": [
    "system.hamiltonian"
   ]
  },
  {
   "cell_type": "code",
   "execution_count": 6,
   "metadata": {},
   "outputs": [],
   "source": [
    "system.dynamics = mm.Precession(gamma=mm.consts.gamma0) + mm.Damping(alpha=0.3)"
   ]
  },
  {
   "cell_type": "code",
   "execution_count": 7,
   "metadata": {},
   "outputs": [
    {
     "data": {
      "text/latex": [
       "$\\frac{\\partial \\mathbf{m}}{\\partial t}=-\\gamma_{0}^{*} \\mathbf{m} \\times \\mathbf{H}_\\text{eff}+\\alpha \\mathbf{m} \\times\\frac{\\partial \\mathbf{m}}{\\partial t}$"
      ],
      "text/plain": [
       "Precession(gamma=221276.14872118403, name='precession') + Damping(alpha={self.alpha}, name='{self.name}')"
      ]
     },
     "execution_count": 7,
     "metadata": {},
     "output_type": "execute_result"
    }
   ],
   "source": [
    "system.dynamics"
   ]
  },
  {
   "cell_type": "code",
   "execution_count": 8,
   "metadata": {},
   "outputs": [
    {
     "data": {
      "text/plain": [
       "\"Exchange(A=1e-12, name='exchange') + Zeeman(H=(0, 0, 1000000.0), name='zeeman') + UniaxialAnisotropy(K1=5000000.0, K2=5000.0, u=(0, 0, 1), name='uniaxialanisotropy') + Demag(name='demag') + CubicAnisotropy(K1=5000000.0, u1=(1, 0, 0), u2=(0, 1, 0), name='cubicanisotropy') + DMI(D=0.005, crystalclass='cnv', name='dmi')\""
      ]
     },
     "execution_count": 8,
     "metadata": {},
     "output_type": "execute_result"
    }
   ],
   "source": [
    "repr(system.hamiltonian)"
   ]
  },
  {
   "cell_type": "code",
   "execution_count": 9,
   "metadata": {},
   "outputs": [
    {
     "data": {
      "text/plain": [
       "\"Precession(gamma=221276.14872118403, name='precession') + Damping(alpha={self.alpha}, name='{self.name}')\""
      ]
     },
     "execution_count": 9,
     "metadata": {},
     "output_type": "execute_result"
    }
   ],
   "source": [
    "repr(system.dynamics)"
   ]
  }
 ],
 "metadata": {
  "kernelspec": {
   "display_name": "Python 3",
   "language": "python",
   "name": "python3"
  },
  "language_info": {
   "codemirror_mode": {
    "name": "ipython",
    "version": 3
   },
   "file_extension": ".py",
   "mimetype": "text/x-python",
   "name": "python",
   "nbconvert_exporter": "python",
   "pygments_lexer": "ipython3",
   "version": "3.7.4"
  }
 },
 "nbformat": 4,
 "nbformat_minor": 2
}
