{
 "cells": [
  {
   "cell_type": "markdown",
   "metadata": {},
   "source": [
    "## Abstract Hamiltonian terms"
   ]
  },
  {
   "cell_type": "code",
   "execution_count": 1,
   "metadata": {
    "collapsed": true
   },
   "outputs": [],
   "source": [
    "from energies import Hamiltonian\n",
    "from energies import Exchange, DMI, Zeeman, Demag, UniaxialAnisotropy"
   ]
  },
  {
   "cell_type": "code",
   "execution_count": 2,
   "metadata": {
    "collapsed": false
   },
   "outputs": [
    {
     "data": {
      "text/latex": [
       "$$\\mathcal{H}=0$$"
      ],
      "text/plain": [
       "<IPython.core.display.Math object>"
      ]
     },
     "execution_count": 2,
     "metadata": {},
     "output_type": "execute_result"
    }
   ],
   "source": [
    "hamiltonian = Hamiltonian()\n",
    "hamiltonian.show()"
   ]
  },
  {
   "cell_type": "code",
   "execution_count": 3,
   "metadata": {
    "collapsed": false
   },
   "outputs": [
    {
     "data": {
      "text/latex": [
       "$$A [(\\nabla m_{x})^{2} + (\\nabla m_{y})^{2} + (\\nabla m_{z})^{2}]$$"
      ],
      "text/plain": [
       "<IPython.core.display.Math object>"
      ]
     },
     "execution_count": 3,
     "metadata": {},
     "output_type": "execute_result"
    }
   ],
   "source": [
    "exchange = Exchange(8.78e-12)\n",
    "exchange.show()"
   ]
  },
  {
   "cell_type": "code",
   "execution_count": 4,
   "metadata": {
    "collapsed": false
   },
   "outputs": [
    {
     "data": {
      "text/latex": [
       "$$\\mathcal{H}=A [(\\nabla m_{x})^{2} + (\\nabla m_{y})^{2} + (\\nabla m_{z})^{2}]$$"
      ],
      "text/plain": [
       "<IPython.core.display.Math object>"
      ]
     },
     "execution_count": 4,
     "metadata": {},
     "output_type": "execute_result"
    }
   ],
   "source": [
    "hamiltonian.add(exchange)\n",
    "hamiltonian.show()"
   ]
  },
  {
   "cell_type": "code",
   "execution_count": 5,
   "metadata": {
    "collapsed": false
   },
   "outputs": [
    {
     "data": {
      "text/latex": [
       "$$D \\mathbf{m} \\cdot (\\nabla \\times \\mathbf{m})$$"
      ],
      "text/plain": [
       "<IPython.core.display.Math object>"
      ]
     },
     "execution_count": 5,
     "metadata": {},
     "output_type": "execute_result"
    }
   ],
   "source": [
    "dmi = DMI(1e-3)\n",
    "dmi.show()"
   ]
  },
  {
   "cell_type": "code",
   "execution_count": 6,
   "metadata": {
    "collapsed": false
   },
   "outputs": [
    {
     "data": {
      "text/latex": [
       "$$\\mathcal{H}=A [(\\nabla m_{x})^{2} + (\\nabla m_{y})^{2} + (\\nabla m_{z})^{2}]+D \\mathbf{m} \\cdot (\\nabla \\times \\mathbf{m})$$"
      ],
      "text/plain": [
       "<IPython.core.display.Math object>"
      ]
     },
     "execution_count": 6,
     "metadata": {},
     "output_type": "execute_result"
    }
   ],
   "source": [
    "hamiltonian.add(dmi)\n",
    "hamiltonian.show()"
   ]
  },
  {
   "cell_type": "code",
   "execution_count": 7,
   "metadata": {
    "collapsed": false
   },
   "outputs": [
    {
     "data": {
      "text/latex": [
       "$$- \\mu_{0}M_\\text{s} \\mathbf{m} \\cdot \\mathbf{H}$$"
      ],
      "text/plain": [
       "<IPython.core.display.Math object>"
      ]
     },
     "execution_count": 7,
     "metadata": {},
     "output_type": "execute_result"
    }
   ],
   "source": [
    "zeeman = Zeeman((1e6, 1e6, 1e6))\n",
    "zeeman.show()"
   ]
  },
  {
   "cell_type": "code",
   "execution_count": 8,
   "metadata": {
    "collapsed": false
   },
   "outputs": [
    {
     "data": {
      "text/latex": [
       "$$\\mathcal{H}=A [(\\nabla m_{x})^{2} + (\\nabla m_{y})^{2} + (\\nabla m_{z})^{2}]+D \\mathbf{m} \\cdot (\\nabla \\times \\mathbf{m})- \\mu_{0}M_\\text{s} \\mathbf{m} \\cdot \\mathbf{H}$$"
      ],
      "text/plain": [
       "<IPython.core.display.Math object>"
      ]
     },
     "execution_count": 8,
     "metadata": {},
     "output_type": "execute_result"
    }
   ],
   "source": [
    "hamiltonian.add(zeeman)\n",
    "hamiltonian.show()"
   ]
  },
  {
   "cell_type": "code",
   "execution_count": 9,
   "metadata": {
    "collapsed": false
   },
   "outputs": [
    {
     "data": {
      "text/latex": [
       "$$K (\\mathbf{m} \\cdot \\mathbf{u})^{2}$$"
      ],
      "text/plain": [
       "<IPython.core.display.Math object>"
      ]
     },
     "execution_count": 9,
     "metadata": {},
     "output_type": "execute_result"
    }
   ],
   "source": [
    "anisotropy = UniaxialAnisotropy(1e3, (0, 0, 1))\n",
    "anisotropy.show()"
   ]
  },
  {
   "cell_type": "code",
   "execution_count": 10,
   "metadata": {
    "collapsed": false
   },
   "outputs": [
    {
     "data": {
      "text/latex": [
       "$$\\mathcal{H}=A [(\\nabla m_{x})^{2} + (\\nabla m_{y})^{2} + (\\nabla m_{z})^{2}]+D \\mathbf{m} \\cdot (\\nabla \\times \\mathbf{m})- \\mu_{0}M_\\text{s} \\mathbf{m} \\cdot \\mathbf{H}+K (\\mathbf{m} \\cdot \\mathbf{u})^{2}$$"
      ],
      "text/plain": [
       "<IPython.core.display.Math object>"
      ]
     },
     "execution_count": 10,
     "metadata": {},
     "output_type": "execute_result"
    }
   ],
   "source": [
    "hamiltonian.add(anisotropy)\n",
    "hamiltonian.show()"
   ]
  },
  {
   "cell_type": "code",
   "execution_count": 11,
   "metadata": {
    "collapsed": false
   },
   "outputs": [
    {
     "data": {
      "text/latex": [
       "$$w_\\text{d}$$"
      ],
      "text/plain": [
       "<IPython.core.display.Math object>"
      ]
     },
     "execution_count": 11,
     "metadata": {},
     "output_type": "execute_result"
    }
   ],
   "source": [
    "demag = Demag()\n",
    "demag.show()"
   ]
  },
  {
   "cell_type": "code",
   "execution_count": 12,
   "metadata": {
    "collapsed": false
   },
   "outputs": [
    {
     "data": {
      "text/latex": [
       "$$\\mathcal{H}=A [(\\nabla m_{x})^{2} + (\\nabla m_{y})^{2} + (\\nabla m_{z})^{2}]+D \\mathbf{m} \\cdot (\\nabla \\times \\mathbf{m})- \\mu_{0}M_\\text{s} \\mathbf{m} \\cdot \\mathbf{H}+K (\\mathbf{m} \\cdot \\mathbf{u})^{2}+w_\\text{d}$$"
      ],
      "text/plain": [
       "<IPython.core.display.Math object>"
      ]
     },
     "execution_count": 12,
     "metadata": {},
     "output_type": "execute_result"
    }
   ],
   "source": [
    "hamiltonian.add(demag)\n",
    "hamiltonian.show()"
   ]
  },
  {
   "cell_type": "markdown",
   "metadata": {},
   "source": [
    "## Dynamics"
   ]
  },
  {
   "cell_type": "code",
   "execution_count": 13,
   "metadata": {
    "collapsed": true
   },
   "outputs": [],
   "source": [
    "from dynamics import Dynamics\n",
    "from dynamics import Precession, Damping"
   ]
  },
  {
   "cell_type": "code",
   "execution_count": 14,
   "metadata": {
    "collapsed": false
   },
   "outputs": [
    {
     "data": {
      "text/latex": [
       "$$\\frac{\\partial \\mathbf{m}}{\\partial t}=0$$"
      ],
      "text/plain": [
       "<IPython.core.display.Math object>"
      ]
     },
     "execution_count": 14,
     "metadata": {},
     "output_type": "execute_result"
    }
   ],
   "source": [
    "dynamics = Dynamics()\n",
    "dynamics.show()"
   ]
  },
  {
   "cell_type": "code",
   "execution_count": 15,
   "metadata": {
    "collapsed": false
   },
   "outputs": [
    {
     "data": {
      "text/latex": [
       "$$\\gamma \\mathbf{m} \\times \\mathbf{H}_\\text{eff}$$"
      ],
      "text/plain": [
       "<IPython.core.display.Math object>"
      ]
     },
     "execution_count": 15,
     "metadata": {},
     "output_type": "execute_result"
    }
   ],
   "source": [
    "gamma = 2.21e5\n",
    "precession = Precession(gamma)\n",
    "precession.show()"
   ]
  },
  {
   "cell_type": "code",
   "execution_count": 16,
   "metadata": {
    "collapsed": false
   },
   "outputs": [
    {
     "data": {
      "text/latex": [
       "$$\\frac{\\partial \\mathbf{m}}{\\partial t}=\\gamma \\mathbf{m} \\times \\mathbf{H}_\\text{eff}$$"
      ],
      "text/plain": [
       "<IPython.core.display.Math object>"
      ]
     },
     "execution_count": 16,
     "metadata": {},
     "output_type": "execute_result"
    }
   ],
   "source": [
    "dynamics.add(precession)\n",
    "dynamics.show()"
   ]
  },
  {
   "cell_type": "code",
   "execution_count": 17,
   "metadata": {
    "collapsed": false
   },
   "outputs": [
    {
     "data": {
      "text/latex": [
       "$$\\alpha \\mathbf{m} \\times \\frac{\\partial \\mathbf{m}}{\\partial t}$$"
      ],
      "text/plain": [
       "<IPython.core.display.Math object>"
      ]
     },
     "execution_count": 17,
     "metadata": {},
     "output_type": "execute_result"
    }
   ],
   "source": [
    "alpha = 0.1\n",
    "damping = Damping(alpha)\n",
    "damping.show()"
   ]
  },
  {
   "cell_type": "code",
   "execution_count": 18,
   "metadata": {
    "collapsed": false
   },
   "outputs": [
    {
     "data": {
      "text/latex": [
       "$$\\frac{\\partial \\mathbf{m}}{\\partial t}=\\gamma \\mathbf{m} \\times \\mathbf{H}_\\text{eff}+\\alpha \\mathbf{m} \\times \\frac{\\partial \\mathbf{m}}{\\partial t}$$"
      ],
      "text/plain": [
       "<IPython.core.display.Math object>"
      ]
     },
     "execution_count": 18,
     "metadata": {},
     "output_type": "execute_result"
    }
   ],
   "source": [
    "dynamics.add(damping)\n",
    "dynamics.show()"
   ]
  },
  {
   "cell_type": "markdown",
   "metadata": {},
   "source": [
    "## Mesh"
   ]
  },
  {
   "cell_type": "code",
   "execution_count": 8,
   "metadata": {
    "collapsed": false
   },
   "outputs": [
    {
     "name": "stdout",
     "output_type": "stream",
     "text": [
      "The autoreload extension is already loaded. To reload it, use:\n",
      "  %reload_ext autoreload\n"
     ]
    }
   ],
   "source": [
    "%load_ext autoreload\n",
    "%autoreload 2"
   ]
  },
  {
   "cell_type": "code",
   "execution_count": 9,
   "metadata": {
    "collapsed": true
   },
   "outputs": [],
   "source": [
    "from mesh import Mesh"
   ]
  },
  {
   "cell_type": "code",
   "execution_count": 10,
   "metadata": {
    "collapsed": false
   },
   "outputs": [],
   "source": [
    "cmin = (0, 0, 0)\n",
    "cmax = (100, 100, 100)\n",
    "d = (10, 10, 25)\n",
    "\n",
    "mesh = Mesh(cmin, cmax, d)"
   ]
  },
  {
   "cell_type": "code",
   "execution_count": 11,
   "metadata": {
    "collapsed": false
   },
   "outputs": [
    {
     "data": {
      "application/javascript": [
       "/* Put everything inside the global mpl namespace */\n",
       "window.mpl = {};\n",
       "\n",
       "mpl.get_websocket_type = function() {\n",
       "    if (typeof(WebSocket) !== 'undefined') {\n",
       "        return WebSocket;\n",
       "    } else if (typeof(MozWebSocket) !== 'undefined') {\n",
       "        return MozWebSocket;\n",
       "    } else {\n",
       "        alert('Your browser does not have WebSocket support.' +\n",
       "              'Please try Chrome, Safari or Firefox ≥ 6. ' +\n",
       "              'Firefox 4 and 5 are also supported but you ' +\n",
       "              'have to enable WebSockets in about:config.');\n",
       "    };\n",
       "}\n",
       "\n",
       "mpl.figure = function(figure_id, websocket, ondownload, parent_element) {\n",
       "    this.id = figure_id;\n",
       "\n",
       "    this.ws = websocket;\n",
       "\n",
       "    this.supports_binary = (this.ws.binaryType != undefined);\n",
       "\n",
       "    if (!this.supports_binary) {\n",
       "        var warnings = document.getElementById(\"mpl-warnings\");\n",
       "        if (warnings) {\n",
       "            warnings.style.display = 'block';\n",
       "            warnings.textContent = (\n",
       "                \"This browser does not support binary websocket messages. \" +\n",
       "                    \"Performance may be slow.\");\n",
       "        }\n",
       "    }\n",
       "\n",
       "    this.imageObj = new Image();\n",
       "\n",
       "    this.context = undefined;\n",
       "    this.message = undefined;\n",
       "    this.canvas = undefined;\n",
       "    this.rubberband_canvas = undefined;\n",
       "    this.rubberband_context = undefined;\n",
       "    this.format_dropdown = undefined;\n",
       "\n",
       "    this.image_mode = 'full';\n",
       "\n",
       "    this.root = $('<div/>');\n",
       "    this._root_extra_style(this.root)\n",
       "    this.root.attr('style', 'display: inline-block');\n",
       "\n",
       "    $(parent_element).append(this.root);\n",
       "\n",
       "    this._init_header(this);\n",
       "    this._init_canvas(this);\n",
       "    this._init_toolbar(this);\n",
       "\n",
       "    var fig = this;\n",
       "\n",
       "    this.waiting = false;\n",
       "\n",
       "    this.ws.onopen =  function () {\n",
       "            fig.send_message(\"supports_binary\", {value: fig.supports_binary});\n",
       "            fig.send_message(\"send_image_mode\", {});\n",
       "            fig.send_message(\"refresh\", {});\n",
       "        }\n",
       "\n",
       "    this.imageObj.onload = function() {\n",
       "            if (fig.image_mode == 'full') {\n",
       "                // Full images could contain transparency (where diff images\n",
       "                // almost always do), so we need to clear the canvas so that\n",
       "                // there is no ghosting.\n",
       "                fig.context.clearRect(0, 0, fig.canvas.width, fig.canvas.height);\n",
       "            }\n",
       "            fig.context.drawImage(fig.imageObj, 0, 0);\n",
       "        };\n",
       "\n",
       "    this.imageObj.onunload = function() {\n",
       "        this.ws.close();\n",
       "    }\n",
       "\n",
       "    this.ws.onmessage = this._make_on_message_function(this);\n",
       "\n",
       "    this.ondownload = ondownload;\n",
       "}\n",
       "\n",
       "mpl.figure.prototype._init_header = function() {\n",
       "    var titlebar = $(\n",
       "        '<div class=\"ui-dialog-titlebar ui-widget-header ui-corner-all ' +\n",
       "        'ui-helper-clearfix\"/>');\n",
       "    var titletext = $(\n",
       "        '<div class=\"ui-dialog-title\" style=\"width: 100%; ' +\n",
       "        'text-align: center; padding: 3px;\"/>');\n",
       "    titlebar.append(titletext)\n",
       "    this.root.append(titlebar);\n",
       "    this.header = titletext[0];\n",
       "}\n",
       "\n",
       "\n",
       "\n",
       "mpl.figure.prototype._canvas_extra_style = function(canvas_div) {\n",
       "\n",
       "}\n",
       "\n",
       "\n",
       "mpl.figure.prototype._root_extra_style = function(canvas_div) {\n",
       "\n",
       "}\n",
       "\n",
       "mpl.figure.prototype._init_canvas = function() {\n",
       "    var fig = this;\n",
       "\n",
       "    var canvas_div = $('<div/>');\n",
       "\n",
       "    canvas_div.attr('style', 'position: relative; clear: both; outline: 0');\n",
       "\n",
       "    function canvas_keyboard_event(event) {\n",
       "        return fig.key_event(event, event['data']);\n",
       "    }\n",
       "\n",
       "    canvas_div.keydown('key_press', canvas_keyboard_event);\n",
       "    canvas_div.keyup('key_release', canvas_keyboard_event);\n",
       "    this.canvas_div = canvas_div\n",
       "    this._canvas_extra_style(canvas_div)\n",
       "    this.root.append(canvas_div);\n",
       "\n",
       "    var canvas = $('<canvas/>');\n",
       "    canvas.addClass('mpl-canvas');\n",
       "    canvas.attr('style', \"left: 0; top: 0; z-index: 0; outline: 0\")\n",
       "\n",
       "    this.canvas = canvas[0];\n",
       "    this.context = canvas[0].getContext(\"2d\");\n",
       "\n",
       "    var rubberband = $('<canvas/>');\n",
       "    rubberband.attr('style', \"position: absolute; left: 0; top: 0; z-index: 1;\")\n",
       "\n",
       "    var pass_mouse_events = true;\n",
       "\n",
       "    canvas_div.resizable({\n",
       "        start: function(event, ui) {\n",
       "            pass_mouse_events = false;\n",
       "        },\n",
       "        resize: function(event, ui) {\n",
       "            fig.request_resize(ui.size.width, ui.size.height);\n",
       "        },\n",
       "        stop: function(event, ui) {\n",
       "            pass_mouse_events = true;\n",
       "            fig.request_resize(ui.size.width, ui.size.height);\n",
       "        },\n",
       "    });\n",
       "\n",
       "    function mouse_event_fn(event) {\n",
       "        if (pass_mouse_events)\n",
       "            return fig.mouse_event(event, event['data']);\n",
       "    }\n",
       "\n",
       "    rubberband.mousedown('button_press', mouse_event_fn);\n",
       "    rubberband.mouseup('button_release', mouse_event_fn);\n",
       "    // Throttle sequential mouse events to 1 every 20ms.\n",
       "    rubberband.mousemove('motion_notify', mouse_event_fn);\n",
       "\n",
       "    rubberband.mouseenter('figure_enter', mouse_event_fn);\n",
       "    rubberband.mouseleave('figure_leave', mouse_event_fn);\n",
       "\n",
       "    canvas_div.on(\"wheel\", function (event) {\n",
       "        event = event.originalEvent;\n",
       "        event['data'] = 'scroll'\n",
       "        if (event.deltaY < 0) {\n",
       "            event.step = 1;\n",
       "        } else {\n",
       "            event.step = -1;\n",
       "        }\n",
       "        mouse_event_fn(event);\n",
       "    });\n",
       "\n",
       "    canvas_div.append(canvas);\n",
       "    canvas_div.append(rubberband);\n",
       "\n",
       "    this.rubberband = rubberband;\n",
       "    this.rubberband_canvas = rubberband[0];\n",
       "    this.rubberband_context = rubberband[0].getContext(\"2d\");\n",
       "    this.rubberband_context.strokeStyle = \"#000000\";\n",
       "\n",
       "    this._resize_canvas = function(width, height) {\n",
       "        // Keep the size of the canvas, canvas container, and rubber band\n",
       "        // canvas in synch.\n",
       "        canvas_div.css('width', width)\n",
       "        canvas_div.css('height', height)\n",
       "\n",
       "        canvas.attr('width', width);\n",
       "        canvas.attr('height', height);\n",
       "\n",
       "        rubberband.attr('width', width);\n",
       "        rubberband.attr('height', height);\n",
       "    }\n",
       "\n",
       "    // Set the figure to an initial 600x600px, this will subsequently be updated\n",
       "    // upon first draw.\n",
       "    this._resize_canvas(600, 600);\n",
       "\n",
       "    // Disable right mouse context menu.\n",
       "    $(this.rubberband_canvas).bind(\"contextmenu\",function(e){\n",
       "        return false;\n",
       "    });\n",
       "\n",
       "    function set_focus () {\n",
       "        canvas.focus();\n",
       "        canvas_div.focus();\n",
       "    }\n",
       "\n",
       "    window.setTimeout(set_focus, 100);\n",
       "}\n",
       "\n",
       "mpl.figure.prototype._init_toolbar = function() {\n",
       "    var fig = this;\n",
       "\n",
       "    var nav_element = $('<div/>')\n",
       "    nav_element.attr('style', 'width: 100%');\n",
       "    this.root.append(nav_element);\n",
       "\n",
       "    // Define a callback function for later on.\n",
       "    function toolbar_event(event) {\n",
       "        return fig.toolbar_button_onclick(event['data']);\n",
       "    }\n",
       "    function toolbar_mouse_event(event) {\n",
       "        return fig.toolbar_button_onmouseover(event['data']);\n",
       "    }\n",
       "\n",
       "    for(var toolbar_ind in mpl.toolbar_items) {\n",
       "        var name = mpl.toolbar_items[toolbar_ind][0];\n",
       "        var tooltip = mpl.toolbar_items[toolbar_ind][1];\n",
       "        var image = mpl.toolbar_items[toolbar_ind][2];\n",
       "        var method_name = mpl.toolbar_items[toolbar_ind][3];\n",
       "\n",
       "        if (!name) {\n",
       "            // put a spacer in here.\n",
       "            continue;\n",
       "        }\n",
       "        var button = $('<button/>');\n",
       "        button.addClass('ui-button ui-widget ui-state-default ui-corner-all ' +\n",
       "                        'ui-button-icon-only');\n",
       "        button.attr('role', 'button');\n",
       "        button.attr('aria-disabled', 'false');\n",
       "        button.click(method_name, toolbar_event);\n",
       "        button.mouseover(tooltip, toolbar_mouse_event);\n",
       "\n",
       "        var icon_img = $('<span/>');\n",
       "        icon_img.addClass('ui-button-icon-primary ui-icon');\n",
       "        icon_img.addClass(image);\n",
       "        icon_img.addClass('ui-corner-all');\n",
       "\n",
       "        var tooltip_span = $('<span/>');\n",
       "        tooltip_span.addClass('ui-button-text');\n",
       "        tooltip_span.html(tooltip);\n",
       "\n",
       "        button.append(icon_img);\n",
       "        button.append(tooltip_span);\n",
       "\n",
       "        nav_element.append(button);\n",
       "    }\n",
       "\n",
       "    var fmt_picker_span = $('<span/>');\n",
       "\n",
       "    var fmt_picker = $('<select/>');\n",
       "    fmt_picker.addClass('mpl-toolbar-option ui-widget ui-widget-content');\n",
       "    fmt_picker_span.append(fmt_picker);\n",
       "    nav_element.append(fmt_picker_span);\n",
       "    this.format_dropdown = fmt_picker[0];\n",
       "\n",
       "    for (var ind in mpl.extensions) {\n",
       "        var fmt = mpl.extensions[ind];\n",
       "        var option = $(\n",
       "            '<option/>', {selected: fmt === mpl.default_extension}).html(fmt);\n",
       "        fmt_picker.append(option)\n",
       "    }\n",
       "\n",
       "    // Add hover states to the ui-buttons\n",
       "    $( \".ui-button\" ).hover(\n",
       "        function() { $(this).addClass(\"ui-state-hover\");},\n",
       "        function() { $(this).removeClass(\"ui-state-hover\");}\n",
       "    );\n",
       "\n",
       "    var status_bar = $('<span class=\"mpl-message\"/>');\n",
       "    nav_element.append(status_bar);\n",
       "    this.message = status_bar[0];\n",
       "}\n",
       "\n",
       "mpl.figure.prototype.request_resize = function(x_pixels, y_pixels) {\n",
       "    // Request matplotlib to resize the figure. Matplotlib will then trigger a resize in the client,\n",
       "    // which will in turn request a refresh of the image.\n",
       "    this.send_message('resize', {'width': x_pixels, 'height': y_pixels});\n",
       "}\n",
       "\n",
       "mpl.figure.prototype.send_message = function(type, properties) {\n",
       "    properties['type'] = type;\n",
       "    properties['figure_id'] = this.id;\n",
       "    this.ws.send(JSON.stringify(properties));\n",
       "}\n",
       "\n",
       "mpl.figure.prototype.send_draw_message = function() {\n",
       "    if (!this.waiting) {\n",
       "        this.waiting = true;\n",
       "        this.ws.send(JSON.stringify({type: \"draw\", figure_id: this.id}));\n",
       "    }\n",
       "}\n",
       "\n",
       "\n",
       "mpl.figure.prototype.handle_save = function(fig, msg) {\n",
       "    var format_dropdown = fig.format_dropdown;\n",
       "    var format = format_dropdown.options[format_dropdown.selectedIndex].value;\n",
       "    fig.ondownload(fig, format);\n",
       "}\n",
       "\n",
       "\n",
       "mpl.figure.prototype.handle_resize = function(fig, msg) {\n",
       "    var size = msg['size'];\n",
       "    if (size[0] != fig.canvas.width || size[1] != fig.canvas.height) {\n",
       "        fig._resize_canvas(size[0], size[1]);\n",
       "        fig.send_message(\"refresh\", {});\n",
       "    };\n",
       "}\n",
       "\n",
       "mpl.figure.prototype.handle_rubberband = function(fig, msg) {\n",
       "    var x0 = msg['x0'];\n",
       "    var y0 = fig.canvas.height - msg['y0'];\n",
       "    var x1 = msg['x1'];\n",
       "    var y1 = fig.canvas.height - msg['y1'];\n",
       "    x0 = Math.floor(x0) + 0.5;\n",
       "    y0 = Math.floor(y0) + 0.5;\n",
       "    x1 = Math.floor(x1) + 0.5;\n",
       "    y1 = Math.floor(y1) + 0.5;\n",
       "    var min_x = Math.min(x0, x1);\n",
       "    var min_y = Math.min(y0, y1);\n",
       "    var width = Math.abs(x1 - x0);\n",
       "    var height = Math.abs(y1 - y0);\n",
       "\n",
       "    fig.rubberband_context.clearRect(\n",
       "        0, 0, fig.canvas.width, fig.canvas.height);\n",
       "\n",
       "    fig.rubberband_context.strokeRect(min_x, min_y, width, height);\n",
       "}\n",
       "\n",
       "mpl.figure.prototype.handle_figure_label = function(fig, msg) {\n",
       "    // Updates the figure title.\n",
       "    fig.header.textContent = msg['label'];\n",
       "}\n",
       "\n",
       "mpl.figure.prototype.handle_cursor = function(fig, msg) {\n",
       "    var cursor = msg['cursor'];\n",
       "    switch(cursor)\n",
       "    {\n",
       "    case 0:\n",
       "        cursor = 'pointer';\n",
       "        break;\n",
       "    case 1:\n",
       "        cursor = 'default';\n",
       "        break;\n",
       "    case 2:\n",
       "        cursor = 'crosshair';\n",
       "        break;\n",
       "    case 3:\n",
       "        cursor = 'move';\n",
       "        break;\n",
       "    }\n",
       "    fig.rubberband_canvas.style.cursor = cursor;\n",
       "}\n",
       "\n",
       "mpl.figure.prototype.handle_message = function(fig, msg) {\n",
       "    fig.message.textContent = msg['message'];\n",
       "}\n",
       "\n",
       "mpl.figure.prototype.handle_draw = function(fig, msg) {\n",
       "    // Request the server to send over a new figure.\n",
       "    fig.send_draw_message();\n",
       "}\n",
       "\n",
       "mpl.figure.prototype.handle_image_mode = function(fig, msg) {\n",
       "    fig.image_mode = msg['mode'];\n",
       "}\n",
       "\n",
       "mpl.figure.prototype.updated_canvas_event = function() {\n",
       "    // Called whenever the canvas gets updated.\n",
       "    this.send_message(\"ack\", {});\n",
       "}\n",
       "\n",
       "// A function to construct a web socket function for onmessage handling.\n",
       "// Called in the figure constructor.\n",
       "mpl.figure.prototype._make_on_message_function = function(fig) {\n",
       "    return function socket_on_message(evt) {\n",
       "        if (evt.data instanceof Blob) {\n",
       "            /* FIXME: We get \"Resource interpreted as Image but\n",
       "             * transferred with MIME type text/plain:\" errors on\n",
       "             * Chrome.  But how to set the MIME type?  It doesn't seem\n",
       "             * to be part of the websocket stream */\n",
       "            evt.data.type = \"image/png\";\n",
       "\n",
       "            /* Free the memory for the previous frames */\n",
       "            if (fig.imageObj.src) {\n",
       "                (window.URL || window.webkitURL).revokeObjectURL(\n",
       "                    fig.imageObj.src);\n",
       "            }\n",
       "\n",
       "            fig.imageObj.src = (window.URL || window.webkitURL).createObjectURL(\n",
       "                evt.data);\n",
       "            fig.updated_canvas_event();\n",
       "            fig.waiting = false;\n",
       "            return;\n",
       "        }\n",
       "        else if (typeof evt.data === 'string' && evt.data.slice(0, 21) == \"data:image/png;base64\") {\n",
       "            fig.imageObj.src = evt.data;\n",
       "            fig.updated_canvas_event();\n",
       "            fig.waiting = false;\n",
       "            return;\n",
       "        }\n",
       "\n",
       "        var msg = JSON.parse(evt.data);\n",
       "        var msg_type = msg['type'];\n",
       "\n",
       "        // Call the  \"handle_{type}\" callback, which takes\n",
       "        // the figure and JSON message as its only arguments.\n",
       "        try {\n",
       "            var callback = fig[\"handle_\" + msg_type];\n",
       "        } catch (e) {\n",
       "            console.log(\"No handler for the '\" + msg_type + \"' message type: \", msg);\n",
       "            return;\n",
       "        }\n",
       "\n",
       "        if (callback) {\n",
       "            try {\n",
       "                // console.log(\"Handling '\" + msg_type + \"' message: \", msg);\n",
       "                callback(fig, msg);\n",
       "            } catch (e) {\n",
       "                console.log(\"Exception inside the 'handler_\" + msg_type + \"' callback:\", e, e.stack, msg);\n",
       "            }\n",
       "        }\n",
       "    };\n",
       "}\n",
       "\n",
       "// from http://stackoverflow.com/questions/1114465/getting-mouse-location-in-canvas\n",
       "mpl.findpos = function(e) {\n",
       "    //this section is from http://www.quirksmode.org/js/events_properties.html\n",
       "    var targ;\n",
       "    if (!e)\n",
       "        e = window.event;\n",
       "    if (e.target)\n",
       "        targ = e.target;\n",
       "    else if (e.srcElement)\n",
       "        targ = e.srcElement;\n",
       "    if (targ.nodeType == 3) // defeat Safari bug\n",
       "        targ = targ.parentNode;\n",
       "\n",
       "    // jQuery normalizes the pageX and pageY\n",
       "    // pageX,Y are the mouse positions relative to the document\n",
       "    // offset() returns the position of the element relative to the document\n",
       "    var x = e.pageX - $(targ).offset().left;\n",
       "    var y = e.pageY - $(targ).offset().top;\n",
       "\n",
       "    return {\"x\": x, \"y\": y};\n",
       "};\n",
       "\n",
       "/*\n",
       " * return a copy of an object with only non-object keys\n",
       " * we need this to avoid circular references\n",
       " * http://stackoverflow.com/a/24161582/3208463\n",
       " */\n",
       "function simpleKeys (original) {\n",
       "  return Object.keys(original).reduce(function (obj, key) {\n",
       "    if (typeof original[key] !== 'object')\n",
       "        obj[key] = original[key]\n",
       "    return obj;\n",
       "  }, {});\n",
       "}\n",
       "\n",
       "mpl.figure.prototype.mouse_event = function(event, name) {\n",
       "    var canvas_pos = mpl.findpos(event)\n",
       "\n",
       "    if (name === 'button_press')\n",
       "    {\n",
       "        this.canvas.focus();\n",
       "        this.canvas_div.focus();\n",
       "    }\n",
       "\n",
       "    var x = canvas_pos.x;\n",
       "    var y = canvas_pos.y;\n",
       "\n",
       "    this.send_message(name, {x: x, y: y, button: event.button,\n",
       "                             step: event.step,\n",
       "                             guiEvent: simpleKeys(event)});\n",
       "\n",
       "    /* This prevents the web browser from automatically changing to\n",
       "     * the text insertion cursor when the button is pressed.  We want\n",
       "     * to control all of the cursor setting manually through the\n",
       "     * 'cursor' event from matplotlib */\n",
       "    event.preventDefault();\n",
       "    return false;\n",
       "}\n",
       "\n",
       "mpl.figure.prototype._key_event_extra = function(event, name) {\n",
       "    // Handle any extra behaviour associated with a key event\n",
       "}\n",
       "\n",
       "mpl.figure.prototype.key_event = function(event, name) {\n",
       "\n",
       "    // Prevent repeat events\n",
       "    if (name == 'key_press')\n",
       "    {\n",
       "        if (event.which === this._key)\n",
       "            return;\n",
       "        else\n",
       "            this._key = event.which;\n",
       "    }\n",
       "    if (name == 'key_release')\n",
       "        this._key = null;\n",
       "\n",
       "    var value = '';\n",
       "    if (event.ctrlKey && event.which != 17)\n",
       "        value += \"ctrl+\";\n",
       "    if (event.altKey && event.which != 18)\n",
       "        value += \"alt+\";\n",
       "    if (event.shiftKey && event.which != 16)\n",
       "        value += \"shift+\";\n",
       "\n",
       "    value += 'k';\n",
       "    value += event.which.toString();\n",
       "\n",
       "    this._key_event_extra(event, name);\n",
       "\n",
       "    this.send_message(name, {key: value,\n",
       "                             guiEvent: simpleKeys(event)});\n",
       "    return false;\n",
       "}\n",
       "\n",
       "mpl.figure.prototype.toolbar_button_onclick = function(name) {\n",
       "    if (name == 'download') {\n",
       "        this.handle_save(this, null);\n",
       "    } else {\n",
       "        this.send_message(\"toolbar_button\", {name: name});\n",
       "    }\n",
       "};\n",
       "\n",
       "mpl.figure.prototype.toolbar_button_onmouseover = function(tooltip) {\n",
       "    this.message.textContent = tooltip;\n",
       "};\n",
       "mpl.toolbar_items = [[\"Home\", \"Reset original view\", \"fa fa-home icon-home\", \"home\"], [\"Back\", \"Back to  previous view\", \"fa fa-arrow-left icon-arrow-left\", \"back\"], [\"Forward\", \"Forward to next view\", \"fa fa-arrow-right icon-arrow-right\", \"forward\"], [\"\", \"\", \"\", \"\"], [\"Pan\", \"Pan axes with left mouse, zoom with right\", \"fa fa-arrows icon-move\", \"pan\"], [\"Zoom\", \"Zoom to rectangle\", \"fa fa-square-o icon-check-empty\", \"zoom\"], [\"\", \"\", \"\", \"\"], [\"Download\", \"Download plot\", \"fa fa-floppy-o icon-save\", \"download\"]];\n",
       "\n",
       "mpl.extensions = [\"eps\", \"jpeg\", \"pdf\", \"png\", \"ps\", \"raw\", \"svg\", \"tif\"];\n",
       "\n",
       "mpl.default_extension = \"png\";var comm_websocket_adapter = function(comm) {\n",
       "    // Create a \"websocket\"-like object which calls the given IPython comm\n",
       "    // object with the appropriate methods. Currently this is a non binary\n",
       "    // socket, so there is still some room for performance tuning.\n",
       "    var ws = {};\n",
       "\n",
       "    ws.close = function() {\n",
       "        comm.close()\n",
       "    };\n",
       "    ws.send = function(m) {\n",
       "        //console.log('sending', m);\n",
       "        comm.send(m);\n",
       "    };\n",
       "    // Register the callback with on_msg.\n",
       "    comm.on_msg(function(msg) {\n",
       "        //console.log('receiving', msg['content']['data'], msg);\n",
       "        // Pass the mpl event to the overriden (by mpl) onmessage function.\n",
       "        ws.onmessage(msg['content']['data'])\n",
       "    });\n",
       "    return ws;\n",
       "}\n",
       "\n",
       "mpl.mpl_figure_comm = function(comm, msg) {\n",
       "    // This is the function which gets called when the mpl process\n",
       "    // starts-up an IPython Comm through the \"matplotlib\" channel.\n",
       "\n",
       "    var id = msg.content.data.id;\n",
       "    // Get hold of the div created by the display call when the Comm\n",
       "    // socket was opened in Python.\n",
       "    var element = $(\"#\" + id);\n",
       "    var ws_proxy = comm_websocket_adapter(comm)\n",
       "\n",
       "    function ondownload(figure, format) {\n",
       "        window.open(figure.imageObj.src);\n",
       "    }\n",
       "\n",
       "    var fig = new mpl.figure(id, ws_proxy,\n",
       "                           ondownload,\n",
       "                           element.get(0));\n",
       "\n",
       "    // Call onopen now - mpl needs it, as it is assuming we've passed it a real\n",
       "    // web socket which is closed, not our websocket->open comm proxy.\n",
       "    ws_proxy.onopen();\n",
       "\n",
       "    fig.parent_element = element.get(0);\n",
       "    fig.cell_info = mpl.find_output_cell(\"<div id='\" + id + \"'></div>\");\n",
       "    if (!fig.cell_info) {\n",
       "        console.error(\"Failed to find cell for figure\", id, fig);\n",
       "        return;\n",
       "    }\n",
       "\n",
       "    var output_index = fig.cell_info[2]\n",
       "    var cell = fig.cell_info[0];\n",
       "\n",
       "};\n",
       "\n",
       "mpl.figure.prototype.handle_close = function(fig, msg) {\n",
       "    fig.root.unbind('remove')\n",
       "\n",
       "    // Update the output cell to use the data from the current canvas.\n",
       "    fig.push_to_output();\n",
       "    var dataURL = fig.canvas.toDataURL();\n",
       "    // Re-enable the keyboard manager in IPython - without this line, in FF,\n",
       "    // the notebook keyboard shortcuts fail.\n",
       "    IPython.keyboard_manager.enable()\n",
       "    $(fig.parent_element).html('<img src=\"' + dataURL + '\">');\n",
       "    fig.close_ws(fig, msg);\n",
       "}\n",
       "\n",
       "mpl.figure.prototype.close_ws = function(fig, msg){\n",
       "    fig.send_message('closing', msg);\n",
       "    // fig.ws.close()\n",
       "}\n",
       "\n",
       "mpl.figure.prototype.push_to_output = function(remove_interactive) {\n",
       "    // Turn the data on the canvas into data in the output cell.\n",
       "    var dataURL = this.canvas.toDataURL();\n",
       "    this.cell_info[1]['text/html'] = '<img src=\"' + dataURL + '\">';\n",
       "}\n",
       "\n",
       "mpl.figure.prototype.updated_canvas_event = function() {\n",
       "    // Tell IPython that the notebook contents must change.\n",
       "    IPython.notebook.set_dirty(true);\n",
       "    this.send_message(\"ack\", {});\n",
       "    var fig = this;\n",
       "    // Wait a second, then push the new image to the DOM so\n",
       "    // that it is saved nicely (might be nice to debounce this).\n",
       "    setTimeout(function () { fig.push_to_output() }, 1000);\n",
       "}\n",
       "\n",
       "mpl.figure.prototype._init_toolbar = function() {\n",
       "    var fig = this;\n",
       "\n",
       "    var nav_element = $('<div/>')\n",
       "    nav_element.attr('style', 'width: 100%');\n",
       "    this.root.append(nav_element);\n",
       "\n",
       "    // Define a callback function for later on.\n",
       "    function toolbar_event(event) {\n",
       "        return fig.toolbar_button_onclick(event['data']);\n",
       "    }\n",
       "    function toolbar_mouse_event(event) {\n",
       "        return fig.toolbar_button_onmouseover(event['data']);\n",
       "    }\n",
       "\n",
       "    for(var toolbar_ind in mpl.toolbar_items){\n",
       "        var name = mpl.toolbar_items[toolbar_ind][0];\n",
       "        var tooltip = mpl.toolbar_items[toolbar_ind][1];\n",
       "        var image = mpl.toolbar_items[toolbar_ind][2];\n",
       "        var method_name = mpl.toolbar_items[toolbar_ind][3];\n",
       "\n",
       "        if (!name) { continue; };\n",
       "\n",
       "        var button = $('<button class=\"btn btn-default\" href=\"#\" title=\"' + name + '\"><i class=\"fa ' + image + ' fa-lg\"></i></button>');\n",
       "        button.click(method_name, toolbar_event);\n",
       "        button.mouseover(tooltip, toolbar_mouse_event);\n",
       "        nav_element.append(button);\n",
       "    }\n",
       "\n",
       "    // Add the status bar.\n",
       "    var status_bar = $('<span class=\"mpl-message\" style=\"text-align:right; float: right;\"/>');\n",
       "    nav_element.append(status_bar);\n",
       "    this.message = status_bar[0];\n",
       "\n",
       "    // Add the close button to the window.\n",
       "    var buttongrp = $('<div class=\"btn-group inline pull-right\"></div>');\n",
       "    var button = $('<button class=\"btn btn-mini btn-primary\" href=\"#\" title=\"Stop Interaction\"><i class=\"fa fa-power-off icon-remove icon-large\"></i></button>');\n",
       "    button.click(function (evt) { fig.handle_close(fig, {}); } );\n",
       "    button.mouseover('Stop Interaction', toolbar_mouse_event);\n",
       "    buttongrp.append(button);\n",
       "    var titlebar = this.root.find($('.ui-dialog-titlebar'));\n",
       "    titlebar.prepend(buttongrp);\n",
       "}\n",
       "\n",
       "mpl.figure.prototype._root_extra_style = function(el){\n",
       "    var fig = this\n",
       "    el.on(\"remove\", function(){\n",
       "\tfig.close_ws(fig, {});\n",
       "    });\n",
       "}\n",
       "\n",
       "mpl.figure.prototype._canvas_extra_style = function(el){\n",
       "    // this is important to make the div 'focusable\n",
       "    el.attr('tabindex', 0)\n",
       "    // reach out to IPython and tell the keyboard manager to turn it's self\n",
       "    // off when our div gets focus\n",
       "\n",
       "    // location in version 3\n",
       "    if (IPython.notebook.keyboard_manager) {\n",
       "        IPython.notebook.keyboard_manager.register_events(el);\n",
       "    }\n",
       "    else {\n",
       "        // location in version 2\n",
       "        IPython.keyboard_manager.register_events(el);\n",
       "    }\n",
       "\n",
       "}\n",
       "\n",
       "mpl.figure.prototype._key_event_extra = function(event, name) {\n",
       "    var manager = IPython.notebook.keyboard_manager;\n",
       "    if (!manager)\n",
       "        manager = IPython.keyboard_manager;\n",
       "\n",
       "    // Check for shift+enter\n",
       "    if (event.shiftKey && event.which == 13) {\n",
       "        this.canvas_div.blur();\n",
       "        event.shiftKey = false;\n",
       "        // Send a \"J\" for go to next cell\n",
       "        event.which = 74;\n",
       "        event.keyCode = 74;\n",
       "        manager.command_mode();\n",
       "        manager.handle_keydown(event);\n",
       "    }\n",
       "}\n",
       "\n",
       "mpl.figure.prototype.handle_save = function(fig, msg) {\n",
       "    fig.ondownload(fig, null);\n",
       "}\n",
       "\n",
       "\n",
       "mpl.find_output_cell = function(html_output) {\n",
       "    // Return the cell and output element which can be found *uniquely* in the notebook.\n",
       "    // Note - this is a bit hacky, but it is done because the \"notebook_saving.Notebook\"\n",
       "    // IPython event is triggered only after the cells have been serialised, which for\n",
       "    // our purposes (turning an active figure into a static one), is too late.\n",
       "    var cells = IPython.notebook.get_cells();\n",
       "    var ncells = cells.length;\n",
       "    for (var i=0; i<ncells; i++) {\n",
       "        var cell = cells[i];\n",
       "        if (cell.cell_type === 'code'){\n",
       "            for (var j=0; j<cell.output_area.outputs.length; j++) {\n",
       "                var data = cell.output_area.outputs[j];\n",
       "                if (data.data) {\n",
       "                    // IPython >= 3 moved mimebundle to data attribute of output\n",
       "                    data = data.data;\n",
       "                }\n",
       "                if (data['text/html'] == html_output) {\n",
       "                    return [cell, data, j];\n",
       "                }\n",
       "            }\n",
       "        }\n",
       "    }\n",
       "}\n",
       "\n",
       "// Register the function which deals with the matplotlib target/channel.\n",
       "// The kernel may be null if the page has been refreshed.\n",
       "if (IPython.notebook.kernel != null) {\n",
       "    IPython.notebook.kernel.comm_manager.register_target('matplotlib', mpl.mpl_figure_comm);\n",
       "}\n"
      ],
      "text/plain": [
       "<IPython.core.display.Javascript object>"
      ]
     },
     "metadata": {},
     "output_type": "display_data"
    },
    {
     "data": {
      "text/html": [
       "<img src=\"data:image/png;base64,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\">"
      ],
      "text/plain": [
       "<IPython.core.display.HTML object>"
      ]
     },
     "metadata": {},
     "output_type": "display_data"
    }
   ],
   "source": [
    "mesh"
   ]
  },
  {
   "cell_type": "markdown",
   "metadata": {},
   "source": [
    "## Abstract micormagnetic Model"
   ]
  },
  {
   "cell_type": "code",
   "execution_count": 22,
   "metadata": {
    "collapsed": true
   },
   "outputs": [],
   "source": [
    "from micromagneticmodel import MicromagneticModel"
   ]
  },
  {
   "cell_type": "code",
   "execution_count": 23,
   "metadata": {
    "collapsed": true
   },
   "outputs": [],
   "source": [
    "cmin = (0, 0, 0)\n",
    "cmax = (100, 100, 100)\n",
    "d = (10, 10, 10)\n",
    "\n",
    "mesh = Mesh(cmin, cmax, d)"
   ]
  },
  {
   "cell_type": "code",
   "execution_count": 24,
   "metadata": {
    "collapsed": false
   },
   "outputs": [],
   "source": [
    "Ms = 8.6e5\n",
    "\n",
    "mumagmodel = MicromagneticModel(mesh, Ms, name='mumag_model')"
   ]
  },
  {
   "cell_type": "code",
   "execution_count": 25,
   "metadata": {
    "collapsed": false
   },
   "outputs": [],
   "source": [
    "A = 8.78e-12\n",
    "D = 1.58e-3\n",
    "K = 1.5e3\n",
    "u = (0, 0, 1)\n",
    "H = (0.5*Ms, 0, 0)\n",
    "\n",
    "mumagmodel.hamiltonian.add(Exchange(A))  # or mumagmodel.add_energy(Exchange(A))\n",
    "mumagmodel.hamiltonian.add(DMI(D))\n",
    "mumagmodel.hamiltonian.add(Zeeman(H))\n",
    "mumagmodel.hamiltonian.add(UniaxialAnisotropy(K, u))\n",
    "mumagmodel.hamiltonian.add(Demag())"
   ]
  },
  {
   "cell_type": "code",
   "execution_count": 26,
   "metadata": {
    "collapsed": true
   },
   "outputs": [],
   "source": [
    "gamma = 2.21e5\n",
    "alpha = 0.1\n",
    "\n",
    "mumagmodel.dynamics.add(Precession(gamma))\n",
    "mumagmodel.dynamics.add(Damping(alpha))"
   ]
  },
  {
   "cell_type": "code",
   "execution_count": 27,
   "metadata": {
    "collapsed": false
   },
   "outputs": [
    {
     "data": {
      "image/png": "[encoded data removed]",
      "text/plain": [
       "<matplotlib.figure.Figure at 0x7fea68097990>"
      ]
     },
     "metadata": {},
     "output_type": "display_data"
    }
   ],
   "source": [
    "mumagmodel.show_mesh()"
   ]
  },
  {
   "cell_type": "code",
   "execution_count": 28,
   "metadata": {
    "collapsed": false
   },
   "outputs": [
    {
     "data": {
      "text/latex": [
       "$$\\mathcal{H}=A [(\\nabla m_{x})^{2} + (\\nabla m_{y})^{2} + (\\nabla m_{z})^{2}]+D \\mathbf{m} \\cdot (\\nabla \\times \\mathbf{m})- \\mu_{0}M_\\text{s} \\mathbf{m} \\cdot \\mathbf{H}+K (\\mathbf{m} \\cdot \\mathbf{u})^{2}+w_\\text{d}$$"
      ],
      "text/plain": [
       "<IPython.core.display.Math object>"
      ]
     },
     "execution_count": 28,
     "metadata": {},
     "output_type": "execute_result"
    }
   ],
   "source": [
    "mumagmodel.show_hamiltonian()"
   ]
  },
  {
   "cell_type": "code",
   "execution_count": 29,
   "metadata": {
    "collapsed": false
   },
   "outputs": [
    {
     "data": {
      "text/latex": [
       "$$\\frac{\\partial \\mathbf{m}}{\\partial t}=\\gamma \\mathbf{m} \\times \\mathbf{H}_\\text{eff}+\\alpha \\mathbf{m} \\times \\frac{\\partial \\mathbf{m}}{\\partial t}$$"
      ],
      "text/plain": [
       "<IPython.core.display.Math object>"
      ]
     },
     "execution_count": 29,
     "metadata": {},
     "output_type": "execute_result"
    }
   ],
   "source": [
    "mumagmodel.show_dynamics()"
   ]
  },
  {
   "cell_type": "code",
   "execution_count": null,
   "metadata": {
    "collapsed": true
   },
   "outputs": [],
   "source": []
  }
 ],
 "metadata": {
  "kernelspec": {
   "display_name": "Python 2",
   "language": "python",
   "name": "python2"
  },
  "language_info": {
   "codemirror_mode": {
    "name": "ipython",
    "version": 2
   },
   "file_extension": ".py",
   "mimetype": "text/x-python",
   "name": "python",
   "nbconvert_exporter": "python",
   "pygments_lexer": "ipython2",
   "version": "2.7.6"
  }
 },
 "nbformat": 4,
 "nbformat_minor": 0
}
