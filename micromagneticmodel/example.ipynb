{
 "cells": [
  {
   "cell_type": "markdown",
   "metadata": {},
   "source": [
    "## Abstract Hamiltonian terms"
   ]
  },
  {
   "cell_type": "code",
   "execution_count": 1,
   "metadata": {
    "collapsed": true
   },
   "outputs": [],
   "source": [
    "from energies import Hamiltonian\n",
    "from energies import Exchange, DMI, Zeeman, Demag, UniaxialAnisotropy"
   ]
  },
  {
   "cell_type": "code",
   "execution_count": 2,
   "metadata": {
    "collapsed": false
   },
   "outputs": [
    {
     "data": {
      "text/latex": [
       "$$\\mathcal{H}=0$$"
      ],
      "text/plain": [
       "<IPython.core.display.Math object>"
      ]
     },
     "execution_count": 2,
     "metadata": {},
     "output_type": "execute_result"
    }
   ],
   "source": [
    "hamiltonian = Hamiltonian()\n",
    "hamiltonian.show()"
   ]
  },
  {
   "cell_type": "code",
   "execution_count": 3,
   "metadata": {
    "collapsed": false
   },
   "outputs": [
    {
     "data": {
      "text/latex": [
       "$$A [(\\nabla m_{x})^{2} + (\\nabla m_{y})^{2} + (\\nabla m_{z})^{2}]$$"
      ],
      "text/plain": [
       "<IPython.core.display.Math object>"
      ]
     },
     "execution_count": 3,
     "metadata": {},
     "output_type": "execute_result"
    }
   ],
   "source": [
    "exchange = Exchange(8.78e-12)\n",
    "exchange.show()"
   ]
  },
  {
   "cell_type": "code",
   "execution_count": 4,
   "metadata": {
    "collapsed": false
   },
   "outputs": [
    {
     "data": {
      "text/latex": [
       "$$\\mathcal{H}=A [(\\nabla m_{x})^{2} + (\\nabla m_{y})^{2} + (\\nabla m_{z})^{2}]$$"
      ],
      "text/plain": [
       "<IPython.core.display.Math object>"
      ]
     },
     "execution_count": 4,
     "metadata": {},
     "output_type": "execute_result"
    }
   ],
   "source": [
    "hamiltonian.add(exchange)\n",
    "hamiltonian.show()"
   ]
  },
  {
   "cell_type": "code",
   "execution_count": 5,
   "metadata": {
    "collapsed": false
   },
   "outputs": [
    {
     "data": {
      "text/latex": [
       "$$D \\mathbf{m} \\cdot (\\nabla \\times \\mathbf{m})$$"
      ],
      "text/plain": [
       "<IPython.core.display.Math object>"
      ]
     },
     "execution_count": 5,
     "metadata": {},
     "output_type": "execute_result"
    }
   ],
   "source": [
    "dmi = DMI(1e-3)\n",
    "dmi.show()"
   ]
  },
  {
   "cell_type": "code",
   "execution_count": 6,
   "metadata": {
    "collapsed": false
   },
   "outputs": [
    {
     "data": {
      "text/latex": [
       "$$\\mathcal{H}=A [(\\nabla m_{x})^{2} + (\\nabla m_{y})^{2} + (\\nabla m_{z})^{2}]+D \\mathbf{m} \\cdot (\\nabla \\times \\mathbf{m})$$"
      ],
      "text/plain": [
       "<IPython.core.display.Math object>"
      ]
     },
     "execution_count": 6,
     "metadata": {},
     "output_type": "execute_result"
    }
   ],
   "source": [
    "hamiltonian.add(dmi)\n",
    "hamiltonian.show()"
   ]
  },
  {
   "cell_type": "code",
   "execution_count": 7,
   "metadata": {
    "collapsed": false
   },
   "outputs": [
    {
     "data": {
      "text/latex": [
       "$$- \\mu_{0}M_\\text{s} \\mathbf{m} \\cdot \\mathbf{H}$$"
      ],
      "text/plain": [
       "<IPython.core.display.Math object>"
      ]
     },
     "execution_count": 7,
     "metadata": {},
     "output_type": "execute_result"
    }
   ],
   "source": [
    "zeeman = Zeeman((1e6, 1e6, 1e6))\n",
    "zeeman.show()"
   ]
  },
  {
   "cell_type": "code",
   "execution_count": 8,
   "metadata": {
    "collapsed": false
   },
   "outputs": [
    {
     "data": {
      "text/latex": [
       "$$\\mathcal{H}=A [(\\nabla m_{x})^{2} + (\\nabla m_{y})^{2} + (\\nabla m_{z})^{2}]+D \\mathbf{m} \\cdot (\\nabla \\times \\mathbf{m})- \\mu_{0}M_\\text{s} \\mathbf{m} \\cdot \\mathbf{H}$$"
      ],
      "text/plain": [
       "<IPython.core.display.Math object>"
      ]
     },
     "execution_count": 8,
     "metadata": {},
     "output_type": "execute_result"
    }
   ],
   "source": [
    "hamiltonian.add(zeeman)\n",
    "hamiltonian.show()"
   ]
  },
  {
   "cell_type": "code",
   "execution_count": 9,
   "metadata": {
    "collapsed": false
   },
   "outputs": [
    {
     "data": {
      "text/latex": [
       "$$K (\\mathbf{m} \\cdot \\mathbf{u})^{2}$$"
      ],
      "text/plain": [
       "<IPython.core.display.Math object>"
      ]
     },
     "execution_count": 9,
     "metadata": {},
     "output_type": "execute_result"
    }
   ],
   "source": [
    "anisotropy = UniaxialAnisotropy(1e3, (0, 0, 1))\n",
    "anisotropy.show()"
   ]
  },
  {
   "cell_type": "code",
   "execution_count": 10,
   "metadata": {
    "collapsed": false
   },
   "outputs": [
    {
     "data": {
      "text/latex": [
       "$$\\mathcal{H}=A [(\\nabla m_{x})^{2} + (\\nabla m_{y})^{2} + (\\nabla m_{z})^{2}]+D \\mathbf{m} \\cdot (\\nabla \\times \\mathbf{m})- \\mu_{0}M_\\text{s} \\mathbf{m} \\cdot \\mathbf{H}+K (\\mathbf{m} \\cdot \\mathbf{u})^{2}$$"
      ],
      "text/plain": [
       "<IPython.core.display.Math object>"
      ]
     },
     "execution_count": 10,
     "metadata": {},
     "output_type": "execute_result"
    }
   ],
   "source": [
    "hamiltonian.add(anisotropy)\n",
    "hamiltonian.show()"
   ]
  },
  {
   "cell_type": "code",
   "execution_count": 11,
   "metadata": {
    "collapsed": false
   },
   "outputs": [
    {
     "data": {
      "text/latex": [
       "$$w_\\text{d}$$"
      ],
      "text/plain": [
       "<IPython.core.display.Math object>"
      ]
     },
     "execution_count": 11,
     "metadata": {},
     "output_type": "execute_result"
    }
   ],
   "source": [
    "demag = Demag()\n",
    "demag.show()"
   ]
  },
  {
   "cell_type": "code",
   "execution_count": 12,
   "metadata": {
    "collapsed": false
   },
   "outputs": [
    {
     "data": {
      "text/latex": [
       "$$\\mathcal{H}=A [(\\nabla m_{x})^{2} + (\\nabla m_{y})^{2} + (\\nabla m_{z})^{2}]+D \\mathbf{m} \\cdot (\\nabla \\times \\mathbf{m})- \\mu_{0}M_\\text{s} \\mathbf{m} \\cdot \\mathbf{H}+K (\\mathbf{m} \\cdot \\mathbf{u})^{2}+w_\\text{d}$$"
      ],
      "text/plain": [
       "<IPython.core.display.Math object>"
      ]
     },
     "execution_count": 12,
     "metadata": {},
     "output_type": "execute_result"
    }
   ],
   "source": [
    "hamiltonian.add(demag)\n",
    "hamiltonian.show()"
   ]
  },
  {
   "cell_type": "markdown",
   "metadata": {},
   "source": [
    "## Dynamics"
   ]
  },
  {
   "cell_type": "code",
   "execution_count": 13,
   "metadata": {
    "collapsed": true
   },
   "outputs": [],
   "source": [
    "from dynamics import Dynamics\n",
    "from dynamics import Precession, Damping"
   ]
  },
  {
   "cell_type": "code",
   "execution_count": 14,
   "metadata": {
    "collapsed": false
   },
   "outputs": [
    {
     "data": {
      "text/latex": [
       "$$\\frac{\\partial \\mathbf{m}}{\\partial t}=0$$"
      ],
      "text/plain": [
       "<IPython.core.display.Math object>"
      ]
     },
     "execution_count": 14,
     "metadata": {},
     "output_type": "execute_result"
    }
   ],
   "source": [
    "dynamics = Dynamics()\n",
    "dynamics.show()"
   ]
  },
  {
   "cell_type": "code",
   "execution_count": 15,
   "metadata": {
    "collapsed": false
   },
   "outputs": [
    {
     "data": {
      "text/latex": [
       "$$\\gamma \\mathbf{m} \\times \\mathbf{H}_\\text{eff}$$"
      ],
      "text/plain": [
       "<IPython.core.display.Math object>"
      ]
     },
     "execution_count": 15,
     "metadata": {},
     "output_type": "execute_result"
    }
   ],
   "source": [
    "gamma = 2.21e5\n",
    "precession = Precession(gamma)\n",
    "precession.show()"
   ]
  },
  {
   "cell_type": "code",
   "execution_count": 16,
   "metadata": {
    "collapsed": false
   },
   "outputs": [
    {
     "data": {
      "text/latex": [
       "$$\\frac{\\partial \\mathbf{m}}{\\partial t}=\\gamma \\mathbf{m} \\times \\mathbf{H}_\\text{eff}$$"
      ],
      "text/plain": [
       "<IPython.core.display.Math object>"
      ]
     },
     "execution_count": 16,
     "metadata": {},
     "output_type": "execute_result"
    }
   ],
   "source": [
    "dynamics.add(precession)\n",
    "dynamics.show()"
   ]
  },
  {
   "cell_type": "code",
   "execution_count": 17,
   "metadata": {
    "collapsed": false
   },
   "outputs": [
    {
     "data": {
      "text/latex": [
       "$$\\alpha \\mathbf{m} \\times \\frac{\\partial \\mathbf{m}}{\\partial t}$$"
      ],
      "text/plain": [
       "<IPython.core.display.Math object>"
      ]
     },
     "execution_count": 17,
     "metadata": {},
     "output_type": "execute_result"
    }
   ],
   "source": [
    "alpha = 0.1\n",
    "damping = Damping(alpha)\n",
    "damping.show()"
   ]
  },
  {
   "cell_type": "code",
   "execution_count": 18,
   "metadata": {
    "collapsed": false
   },
   "outputs": [
    {
     "data": {
      "text/latex": [
       "$$\\frac{\\partial \\mathbf{m}}{\\partial t}=\\gamma \\mathbf{m} \\times \\mathbf{H}_\\text{eff}+\\alpha \\mathbf{m} \\times \\frac{\\partial \\mathbf{m}}{\\partial t}$$"
      ],
      "text/plain": [
       "<IPython.core.display.Math object>"
      ]
     },
     "execution_count": 18,
     "metadata": {},
     "output_type": "execute_result"
    }
   ],
   "source": [
    "dynamics.add(damping)\n",
    "dynamics.show()"
   ]
  },
  {
   "cell_type": "markdown",
   "metadata": {},
   "source": [
    "## Mesh"
   ]
  },
  {
   "cell_type": "code",
   "execution_count": 12,
   "metadata": {
    "collapsed": false
   },
   "outputs": [
    {
     "name": "stdout",
     "output_type": "stream",
     "text": [
      "The autoreload extension is already loaded. To reload it, use:\n",
      "  %reload_ext autoreload\n"
     ]
    }
   ],
   "source": [
    "%load_ext autoreload\n",
    "%autoreload 2"
   ]
  },
  {
   "cell_type": "code",
   "execution_count": 19,
   "metadata": {
    "collapsed": false
   },
   "outputs": [
    {
     "ename": "ImportError",
     "evalue": "No module named micromagneticmodel.mesh",
     "output_type": "error",
     "traceback": [
      "\u001b[0;31m---------------------------------------------------------------------------\u001b[0m",
      "\u001b[0;31mImportError\u001b[0m                               Traceback (most recent call last)",
      "\u001b[0;32m<ipython-input-19-e54c0f1b67a3>\u001b[0m in \u001b[0;36m<module>\u001b[0;34m()\u001b[0m\n\u001b[0;32m----> 1\u001b[0;31m \u001b[0;32mfrom\u001b[0m \u001b[0mmicromagneticmodel\u001b[0m\u001b[0;34m.\u001b[0m\u001b[0mmesh\u001b[0m \u001b[0;32mimport\u001b[0m \u001b[0mMesh\u001b[0m\u001b[0;34m\u001b[0m\u001b[0m\n\u001b[0m",
      "\u001b[0;31mImportError\u001b[0m: No module named micromagneticmodel.mesh"
     ]
    }
   ],
   "source": [
    "from micromagneticmodel.mesh import Mesh"
   ]
  },
  {
   "cell_type": "code",
   "execution_count": 17,
   "metadata": {
    "collapsed": false
   },
   "outputs": [],
   "source": [
    "cmin = (0, 0, 0)\n",
    "cmax = (100, 100, 100)\n",
    "d = (10, 10, 25)\n",
    "\n",
    "mesh = Mesh(cmin, cmax, d)"
   ]
  },
  {
   "cell_type": "code",
   "execution_count": 18,
   "metadata": {
    "collapsed": false
   },
   "outputs": [
    {
     "data": {
      "application/javascript": [
       "/* Put everything inside the global mpl namespace */\n",
       "window.mpl = {};\n",
       "\n",
       "mpl.get_websocket_type = function() {\n",
       "    if (typeof(WebSocket) !== 'undefined') {\n",
       "        return WebSocket;\n",
       "    } else if (typeof(MozWebSocket) !== 'undefined') {\n",
       "        return MozWebSocket;\n",
       "    } else {\n",
       "        alert('Your browser does not have WebSocket support.' +\n",
       "              'Please try Chrome, Safari or Firefox ≥ 6. ' +\n",
       "              'Firefox 4 and 5 are also supported but you ' +\n",
       "              'have to enable WebSockets in about:config.');\n",
       "    };\n",
       "}\n",
       "\n",
       "mpl.figure = function(figure_id, websocket, ondownload, parent_element) {\n",
       "    this.id = figure_id;\n",
       "\n",
       "    this.ws = websocket;\n",
       "\n",
       "    this.supports_binary = (this.ws.binaryType != undefined);\n",
       "\n",
       "    if (!this.supports_binary) {\n",
       "        var warnings = document.getElementById(\"mpl-warnings\");\n",
       "        if (warnings) {\n",
       "            warnings.style.display = 'block';\n",
       "            warnings.textContent = (\n",
       "                \"This browser does not support binary websocket messages. \" +\n",
       "                    \"Performance may be slow.\");\n",
       "        }\n",
       "    }\n",
       "\n",
       "    this.imageObj = new Image();\n",
       "\n",
       "    this.context = undefined;\n",
       "    this.message = undefined;\n",
       "    this.canvas = undefined;\n",
       "    this.rubberband_canvas = undefined;\n",
       "    this.rubberband_context = undefined;\n",
       "    this.format_dropdown = undefined;\n",
       "\n",
       "    this.image_mode = 'full';\n",
       "\n",
       "    this.root = $('<div/>');\n",
       "    this._root_extra_style(this.root)\n",
       "    this.root.attr('style', 'display: inline-block');\n",
       "\n",
       "    $(parent_element).append(this.root);\n",
       "\n",
       "    this._init_header(this);\n",
       "    this._init_canvas(this);\n",
       "    this._init_toolbar(this);\n",
       "\n",
       "    var fig = this;\n",
       "\n",
       "    this.waiting = false;\n",
       "\n",
       "    this.ws.onopen =  function () {\n",
       "            fig.send_message(\"supports_binary\", {value: fig.supports_binary});\n",
       "            fig.send_message(\"send_image_mode\", {});\n",
       "            fig.send_message(\"refresh\", {});\n",
       "        }\n",
       "\n",
       "    this.imageObj.onload = function() {\n",
       "            if (fig.image_mode == 'full') {\n",
       "                // Full images could contain transparency (where diff images\n",
       "                // almost always do), so we need to clear the canvas so that\n",
       "                // there is no ghosting.\n",
       "                fig.context.clearRect(0, 0, fig.canvas.width, fig.canvas.height);\n",
       "            }\n",
       "            fig.context.drawImage(fig.imageObj, 0, 0);\n",
       "        };\n",
       "\n",
       "    this.imageObj.onunload = function() {\n",
       "        this.ws.close();\n",
       "    }\n",
       "\n",
       "    this.ws.onmessage = this._make_on_message_function(this);\n",
       "\n",
       "    this.ondownload = ondownload;\n",
       "}\n",
       "\n",
       "mpl.figure.prototype._init_header = function() {\n",
       "    var titlebar = $(\n",
       "        '<div class=\"ui-dialog-titlebar ui-widget-header ui-corner-all ' +\n",
       "        'ui-helper-clearfix\"/>');\n",
       "    var titletext = $(\n",
       "        '<div class=\"ui-dialog-title\" style=\"width: 100%; ' +\n",
       "        'text-align: center; padding: 3px;\"/>');\n",
       "    titlebar.append(titletext)\n",
       "    this.root.append(titlebar);\n",
       "    this.header = titletext[0];\n",
       "}\n",
       "\n",
       "\n",
       "\n",
       "mpl.figure.prototype._canvas_extra_style = function(canvas_div) {\n",
       "\n",
       "}\n",
       "\n",
       "\n",
       "mpl.figure.prototype._root_extra_style = function(canvas_div) {\n",
       "\n",
       "}\n",
       "\n",
       "mpl.figure.prototype._init_canvas = function() {\n",
       "    var fig = this;\n",
       "\n",
       "    var canvas_div = $('<div/>');\n",
       "\n",
       "    canvas_div.attr('style', 'position: relative; clear: both; outline: 0');\n",
       "\n",
       "    function canvas_keyboard_event(event) {\n",
       "        return fig.key_event(event, event['data']);\n",
       "    }\n",
       "\n",
       "    canvas_div.keydown('key_press', canvas_keyboard_event);\n",
       "    canvas_div.keyup('key_release', canvas_keyboard_event);\n",
       "    this.canvas_div = canvas_div\n",
       "    this._canvas_extra_style(canvas_div)\n",
       "    this.root.append(canvas_div);\n",
       "\n",
       "    var canvas = $('<canvas/>');\n",
       "    canvas.addClass('mpl-canvas');\n",
       "    canvas.attr('style', \"left: 0; top: 0; z-index: 0; outline: 0\")\n",
       "\n",
       "    this.canvas = canvas[0];\n",
       "    this.context = canvas[0].getContext(\"2d\");\n",
       "\n",
       "    var rubberband = $('<canvas/>');\n",
       "    rubberband.attr('style', \"position: absolute; left: 0; top: 0; z-index: 1;\")\n",
       "\n",
       "    var pass_mouse_events = true;\n",
       "\n",
       "    canvas_div.resizable({\n",
       "        start: function(event, ui) {\n",
       "            pass_mouse_events = false;\n",
       "        },\n",
       "        resize: function(event, ui) {\n",
       "            fig.request_resize(ui.size.width, ui.size.height);\n",
       "        },\n",
       "        stop: function(event, ui) {\n",
       "            pass_mouse_events = true;\n",
       "            fig.request_resize(ui.size.width, ui.size.height);\n",
       "        },\n",
       "    });\n",
       "\n",
       "    function mouse_event_fn(event) {\n",
       "        if (pass_mouse_events)\n",
       "            return fig.mouse_event(event, event['data']);\n",
       "    }\n",
       "\n",
       "    rubberband.mousedown('button_press', mouse_event_fn);\n",
       "    rubberband.mouseup('button_release', mouse_event_fn);\n",
       "    // Throttle sequential mouse events to 1 every 20ms.\n",
       "    rubberband.mousemove('motion_notify', mouse_event_fn);\n",
       "\n",
       "    rubberband.mouseenter('figure_enter', mouse_event_fn);\n",
       "    rubberband.mouseleave('figure_leave', mouse_event_fn);\n",
       "\n",
       "    canvas_div.on(\"wheel\", function (event) {\n",
       "        event = event.originalEvent;\n",
       "        event['data'] = 'scroll'\n",
       "        if (event.deltaY < 0) {\n",
       "            event.step = 1;\n",
       "        } else {\n",
       "            event.step = -1;\n",
       "        }\n",
       "        mouse_event_fn(event);\n",
       "    });\n",
       "\n",
       "    canvas_div.append(canvas);\n",
       "    canvas_div.append(rubberband);\n",
       "\n",
       "    this.rubberband = rubberband;\n",
       "    this.rubberband_canvas = rubberband[0];\n",
       "    this.rubberband_context = rubberband[0].getContext(\"2d\");\n",
       "    this.rubberband_context.strokeStyle = \"#000000\";\n",
       "\n",
       "    this._resize_canvas = function(width, height) {\n",
       "        // Keep the size of the canvas, canvas container, and rubber band\n",
       "        // canvas in synch.\n",
       "        canvas_div.css('width', width)\n",
       "        canvas_div.css('height', height)\n",
       "\n",
       "        canvas.attr('width', width);\n",
       "        canvas.attr('height', height);\n",
       "\n",
       "        rubberband.attr('width', width);\n",
       "        rubberband.attr('height', height);\n",
       "    }\n",
       "\n",
       "    // Set the figure to an initial 600x600px, this will subsequently be updated\n",
       "    // upon first draw.\n",
       "    this._resize_canvas(600, 600);\n",
       "\n",
       "    // Disable right mouse context menu.\n",
       "    $(this.rubberband_canvas).bind(\"contextmenu\",function(e){\n",
       "        return false;\n",
       "    });\n",
       "\n",
       "    function set_focus () {\n",
       "        canvas.focus();\n",
       "        canvas_div.focus();\n",
       "    }\n",
       "\n",
       "    window.setTimeout(set_focus, 100);\n",
       "}\n",
       "\n",
       "mpl.figure.prototype._init_toolbar = function() {\n",
       "    var fig = this;\n",
       "\n",
       "    var nav_element = $('<div/>')\n",
       "    nav_element.attr('style', 'width: 100%');\n",
       "    this.root.append(nav_element);\n",
       "\n",
       "    // Define a callback function for later on.\n",
       "    function toolbar_event(event) {\n",
       "        return fig.toolbar_button_onclick(event['data']);\n",
       "    }\n",
       "    function toolbar_mouse_event(event) {\n",
       "        return fig.toolbar_button_onmouseover(event['data']);\n",
       "    }\n",
       "\n",
       "    for(var toolbar_ind in mpl.toolbar_items) {\n",
       "        var name = mpl.toolbar_items[toolbar_ind][0];\n",
       "        var tooltip = mpl.toolbar_items[toolbar_ind][1];\n",
       "        var image = mpl.toolbar_items[toolbar_ind][2];\n",
       "        var method_name = mpl.toolbar_items[toolbar_ind][3];\n",
       "\n",
       "        if (!name) {\n",
       "            // put a spacer in here.\n",
       "            continue;\n",
       "        }\n",
       "        var button = $('<button/>');\n",
       "        button.addClass('ui-button ui-widget ui-state-default ui-corner-all ' +\n",
       "                        'ui-button-icon-only');\n",
       "        button.attr('role', 'button');\n",
       "        button.attr('aria-disabled', 'false');\n",
       "        button.click(method_name, toolbar_event);\n",
       "        button.mouseover(tooltip, toolbar_mouse_event);\n",
       "\n",
       "        var icon_img = $('<span/>');\n",
       "        icon_img.addClass('ui-button-icon-primary ui-icon');\n",
       "        icon_img.addClass(image);\n",
       "        icon_img.addClass('ui-corner-all');\n",
       "\n",
       "        var tooltip_span = $('<span/>');\n",
       "        tooltip_span.addClass('ui-button-text');\n",
       "        tooltip_span.html(tooltip);\n",
       "\n",
       "        button.append(icon_img);\n",
       "        button.append(tooltip_span);\n",
       "\n",
       "        nav_element.append(button);\n",
       "    }\n",
       "\n",
       "    var fmt_picker_span = $('<span/>');\n",
       "\n",
       "    var fmt_picker = $('<select/>');\n",
       "    fmt_picker.addClass('mpl-toolbar-option ui-widget ui-widget-content');\n",
       "    fmt_picker_span.append(fmt_picker);\n",
       "    nav_element.append(fmt_picker_span);\n",
       "    this.format_dropdown = fmt_picker[0];\n",
       "\n",
       "    for (var ind in mpl.extensions) {\n",
       "        var fmt = mpl.extensions[ind];\n",
       "        var option = $(\n",
       "            '<option/>', {selected: fmt === mpl.default_extension}).html(fmt);\n",
       "        fmt_picker.append(option)\n",
       "    }\n",
       "\n",
       "    // Add hover states to the ui-buttons\n",
       "    $( \".ui-button\" ).hover(\n",
       "        function() { $(this).addClass(\"ui-state-hover\");},\n",
       "        function() { $(this).removeClass(\"ui-state-hover\");}\n",
       "    );\n",
       "\n",
       "    var status_bar = $('<span class=\"mpl-message\"/>');\n",
       "    nav_element.append(status_bar);\n",
       "    this.message = status_bar[0];\n",
       "}\n",
       "\n",
       "mpl.figure.prototype.request_resize = function(x_pixels, y_pixels) {\n",
       "    // Request matplotlib to resize the figure. Matplotlib will then trigger a resize in the client,\n",
       "    // which will in turn request a refresh of the image.\n",
       "    this.send_message('resize', {'width': x_pixels, 'height': y_pixels});\n",
       "}\n",
       "\n",
       "mpl.figure.prototype.send_message = function(type, properties) {\n",
       "    properties['type'] = type;\n",
       "    properties['figure_id'] = this.id;\n",
       "    this.ws.send(JSON.stringify(properties));\n",
       "}\n",
       "\n",
       "mpl.figure.prototype.send_draw_message = function() {\n",
       "    if (!this.waiting) {\n",
       "        this.waiting = true;\n",
       "        this.ws.send(JSON.stringify({type: \"draw\", figure_id: this.id}));\n",
       "    }\n",
       "}\n",
       "\n",
       "\n",
       "mpl.figure.prototype.handle_save = function(fig, msg) {\n",
       "    var format_dropdown = fig.format_dropdown;\n",
       "    var format = format_dropdown.options[format_dropdown.selectedIndex].value;\n",
       "    fig.ondownload(fig, format);\n",
       "}\n",
       "\n",
       "\n",
       "mpl.figure.prototype.handle_resize = function(fig, msg) {\n",
       "    var size = msg['size'];\n",
       "    if (size[0] != fig.canvas.width || size[1] != fig.canvas.height) {\n",
       "        fig._resize_canvas(size[0], size[1]);\n",
       "        fig.send_message(\"refresh\", {});\n",
       "    };\n",
       "}\n",
       "\n",
       "mpl.figure.prototype.handle_rubberband = function(fig, msg) {\n",
       "    var x0 = msg['x0'];\n",
       "    var y0 = fig.canvas.height - msg['y0'];\n",
       "    var x1 = msg['x1'];\n",
       "    var y1 = fig.canvas.height - msg['y1'];\n",
       "    x0 = Math.floor(x0) + 0.5;\n",
       "    y0 = Math.floor(y0) + 0.5;\n",
       "    x1 = Math.floor(x1) + 0.5;\n",
       "    y1 = Math.floor(y1) + 0.5;\n",
       "    var min_x = Math.min(x0, x1);\n",
       "    var min_y = Math.min(y0, y1);\n",
       "    var width = Math.abs(x1 - x0);\n",
       "    var height = Math.abs(y1 - y0);\n",
       "\n",
       "    fig.rubberband_context.clearRect(\n",
       "        0, 0, fig.canvas.width, fig.canvas.height);\n",
       "\n",
       "    fig.rubberband_context.strokeRect(min_x, min_y, width, height);\n",
       "}\n",
       "\n",
       "mpl.figure.prototype.handle_figure_label = function(fig, msg) {\n",
       "    // Updates the figure title.\n",
       "    fig.header.textContent = msg['label'];\n",
       "}\n",
       "\n",
       "mpl.figure.prototype.handle_cursor = function(fig, msg) {\n",
       "    var cursor = msg['cursor'];\n",
       "    switch(cursor)\n",
       "    {\n",
       "    case 0:\n",
       "        cursor = 'pointer';\n",
       "        break;\n",
       "    case 1:\n",
       "        cursor = 'default';\n",
       "        break;\n",
       "    case 2:\n",
       "        cursor = 'crosshair';\n",
       "        break;\n",
       "    case 3:\n",
       "        cursor = 'move';\n",
       "        break;\n",
       "    }\n",
       "    fig.rubberband_canvas.style.cursor = cursor;\n",
       "}\n",
       "\n",
       "mpl.figure.prototype.handle_message = function(fig, msg) {\n",
       "    fig.message.textContent = msg['message'];\n",
       "}\n",
       "\n",
       "mpl.figure.prototype.handle_draw = function(fig, msg) {\n",
       "    // Request the server to send over a new figure.\n",
       "    fig.send_draw_message();\n",
       "}\n",
       "\n",
       "mpl.figure.prototype.handle_image_mode = function(fig, msg) {\n",
       "    fig.image_mode = msg['mode'];\n",
       "}\n",
       "\n",
       "mpl.figure.prototype.updated_canvas_event = function() {\n",
       "    // Called whenever the canvas gets updated.\n",
       "    this.send_message(\"ack\", {});\n",
       "}\n",
       "\n",
       "// A function to construct a web socket function for onmessage handling.\n",
       "// Called in the figure constructor.\n",
       "mpl.figure.prototype._make_on_message_function = function(fig) {\n",
       "    return function socket_on_message(evt) {\n",
       "        if (evt.data instanceof Blob) {\n",
       "            /* FIXME: We get \"Resource interpreted as Image but\n",
       "             * transferred with MIME type text/plain:\" errors on\n",
       "             * Chrome.  But how to set the MIME type?  It doesn't seem\n",
       "             * to be part of the websocket stream */\n",
       "            evt.data.type = \"image/png\";\n",
       "\n",
       "            /* Free the memory for the previous frames */\n",
       "            if (fig.imageObj.src) {\n",
       "                (window.URL || window.webkitURL).revokeObjectURL(\n",
       "                    fig.imageObj.src);\n",
       "            }\n",
       "\n",
       "            fig.imageObj.src = (window.URL || window.webkitURL).createObjectURL(\n",
       "                evt.data);\n",
       "            fig.updated_canvas_event();\n",
       "            fig.waiting = false;\n",
       "            return;\n",
       "        }\n",
       "        else if (typeof evt.data === 'string' && evt.data.slice(0, 21) == \"data:image/png;base64\") {\n",
       "            fig.imageObj.src = evt.data;\n",
       "            fig.updated_canvas_event();\n",
       "            fig.waiting = false;\n",
       "            return;\n",
       "        }\n",
       "\n",
       "        var msg = JSON.parse(evt.data);\n",
       "        var msg_type = msg['type'];\n",
       "\n",
       "        // Call the  \"handle_{type}\" callback, which takes\n",
       "        // the figure and JSON message as its only arguments.\n",
       "        try {\n",
       "            var callback = fig[\"handle_\" + msg_type];\n",
       "        } catch (e) {\n",
       "            console.log(\"No handler for the '\" + msg_type + \"' message type: \", msg);\n",
       "            return;\n",
       "        }\n",
       "\n",
       "        if (callback) {\n",
       "            try {\n",
       "                // console.log(\"Handling '\" + msg_type + \"' message: \", msg);\n",
       "                callback(fig, msg);\n",
       "            } catch (e) {\n",
       "                console.log(\"Exception inside the 'handler_\" + msg_type + \"' callback:\", e, e.stack, msg);\n",
       "            }\n",
       "        }\n",
       "    };\n",
       "}\n",
       "\n",
       "// from http://stackoverflow.com/questions/1114465/getting-mouse-location-in-canvas\n",
       "mpl.findpos = function(e) {\n",
       "    //this section is from http://www.quirksmode.org/js/events_properties.html\n",
       "    var targ;\n",
       "    if (!e)\n",
       "        e = window.event;\n",
       "    if (e.target)\n",
       "        targ = e.target;\n",
       "    else if (e.srcElement)\n",
       "        targ = e.srcElement;\n",
       "    if (targ.nodeType == 3) // defeat Safari bug\n",
       "        targ = targ.parentNode;\n",
       "\n",
       "    // jQuery normalizes the pageX and pageY\n",
       "    // pageX,Y are the mouse positions relative to the document\n",
       "    // offset() returns the position of the element relative to the document\n",
       "    var x = e.pageX - $(targ).offset().left;\n",
       "    var y = e.pageY - $(targ).offset().top;\n",
       "\n",
       "    return {\"x\": x, \"y\": y};\n",
       "};\n",
       "\n",
       "/*\n",
       " * return a copy of an object with only non-object keys\n",
       " * we need this to avoid circular references\n",
       " * http://stackoverflow.com/a/24161582/3208463\n",
       " */\n",
       "function simpleKeys (original) {\n",
       "  return Object.keys(original).reduce(function (obj, key) {\n",
       "    if (typeof original[key] !== 'object')\n",
       "        obj[key] = original[key]\n",
       "    return obj;\n",
       "  }, {});\n",
       "}\n",
       "\n",
       "mpl.figure.prototype.mouse_event = function(event, name) {\n",
       "    var canvas_pos = mpl.findpos(event)\n",
       "\n",
       "    if (name === 'button_press')\n",
       "    {\n",
       "        this.canvas.focus();\n",
       "        this.canvas_div.focus();\n",
       "    }\n",
       "\n",
       "    var x = canvas_pos.x;\n",
       "    var y = canvas_pos.y;\n",
       "\n",
       "    this.send_message(name, {x: x, y: y, button: event.button,\n",
       "                             step: event.step,\n",
       "                             guiEvent: simpleKeys(event)});\n",
       "\n",
       "    /* This prevents the web browser from automatically changing to\n",
       "     * the text insertion cursor when the button is pressed.  We want\n",
       "     * to control all of the cursor setting manually through the\n",
       "     * 'cursor' event from matplotlib */\n",
       "    event.preventDefault();\n",
       "    return false;\n",
       "}\n",
       "\n",
       "mpl.figure.prototype._key_event_extra = function(event, name) {\n",
       "    // Handle any extra behaviour associated with a key event\n",
       "}\n",
       "\n",
       "mpl.figure.prototype.key_event = function(event, name) {\n",
       "\n",
       "    // Prevent repeat events\n",
       "    if (name == 'key_press')\n",
       "    {\n",
       "        if (event.which === this._key)\n",
       "            return;\n",
       "        else\n",
       "            this._key = event.which;\n",
       "    }\n",
       "    if (name == 'key_release')\n",
       "        this._key = null;\n",
       "\n",
       "    var value = '';\n",
       "    if (event.ctrlKey && event.which != 17)\n",
       "        value += \"ctrl+\";\n",
       "    if (event.altKey && event.which != 18)\n",
       "        value += \"alt+\";\n",
       "    if (event.shiftKey && event.which != 16)\n",
       "        value += \"shift+\";\n",
       "\n",
       "    value += 'k';\n",
       "    value += event.which.toString();\n",
       "\n",
       "    this._key_event_extra(event, name);\n",
       "\n",
       "    this.send_message(name, {key: value,\n",
       "                             guiEvent: simpleKeys(event)});\n",
       "    return false;\n",
       "}\n",
       "\n",
       "mpl.figure.prototype.toolbar_button_onclick = function(name) {\n",
       "    if (name == 'download') {\n",
       "        this.handle_save(this, null);\n",
       "    } else {\n",
       "        this.send_message(\"toolbar_button\", {name: name});\n",
       "    }\n",
       "};\n",
       "\n",
       "mpl.figure.prototype.toolbar_button_onmouseover = function(tooltip) {\n",
       "    this.message.textContent = tooltip;\n",
       "};\n",
       "mpl.toolbar_items = [[\"Home\", \"Reset original view\", \"fa fa-home icon-home\", \"home\"], [\"Back\", \"Back to  previous view\", \"fa fa-arrow-left icon-arrow-left\", \"back\"], [\"Forward\", \"Forward to next view\", \"fa fa-arrow-right icon-arrow-right\", \"forward\"], [\"\", \"\", \"\", \"\"], [\"Pan\", \"Pan axes with left mouse, zoom with right\", \"fa fa-arrows icon-move\", \"pan\"], [\"Zoom\", \"Zoom to rectangle\", \"fa fa-square-o icon-check-empty\", \"zoom\"], [\"\", \"\", \"\", \"\"], [\"Download\", \"Download plot\", \"fa fa-floppy-o icon-save\", \"download\"]];\n",
       "\n",
       "mpl.extensions = [\"eps\", \"jpeg\", \"pdf\", \"png\", \"ps\", \"raw\", \"svg\", \"tif\"];\n",
       "\n",
       "mpl.default_extension = \"png\";var comm_websocket_adapter = function(comm) {\n",
       "    // Create a \"websocket\"-like object which calls the given IPython comm\n",
       "    // object with the appropriate methods. Currently this is a non binary\n",
       "    // socket, so there is still some room for performance tuning.\n",
       "    var ws = {};\n",
       "\n",
       "    ws.close = function() {\n",
       "        comm.close()\n",
       "    };\n",
       "    ws.send = function(m) {\n",
       "        //console.log('sending', m);\n",
       "        comm.send(m);\n",
       "    };\n",
       "    // Register the callback with on_msg.\n",
       "    comm.on_msg(function(msg) {\n",
       "        //console.log('receiving', msg['content']['data'], msg);\n",
       "        // Pass the mpl event to the overriden (by mpl) onmessage function.\n",
       "        ws.onmessage(msg['content']['data'])\n",
       "    });\n",
       "    return ws;\n",
       "}\n",
       "\n",
       "mpl.mpl_figure_comm = function(comm, msg) {\n",
       "    // This is the function which gets called when the mpl process\n",
       "    // starts-up an IPython Comm through the \"matplotlib\" channel.\n",
       "\n",
       "    var id = msg.content.data.id;\n",
       "    // Get hold of the div created by the display call when the Comm\n",
       "    // socket was opened in Python.\n",
       "    var element = $(\"#\" + id);\n",
       "    var ws_proxy = comm_websocket_adapter(comm)\n",
       "\n",
       "    function ondownload(figure, format) {\n",
       "        window.open(figure.imageObj.src);\n",
       "    }\n",
       "\n",
       "    var fig = new mpl.figure(id, ws_proxy,\n",
       "                           ondownload,\n",
       "                           element.get(0));\n",
       "\n",
       "    // Call onopen now - mpl needs it, as it is assuming we've passed it a real\n",
       "    // web socket which is closed, not our websocket->open comm proxy.\n",
       "    ws_proxy.onopen();\n",
       "\n",
       "    fig.parent_element = element.get(0);\n",
       "    fig.cell_info = mpl.find_output_cell(\"<div id='\" + id + \"'></div>\");\n",
       "    if (!fig.cell_info) {\n",
       "        console.error(\"Failed to find cell for figure\", id, fig);\n",
       "        return;\n",
       "    }\n",
       "\n",
       "    var output_index = fig.cell_info[2]\n",
       "    var cell = fig.cell_info[0];\n",
       "\n",
       "};\n",
       "\n",
       "mpl.figure.prototype.handle_close = function(fig, msg) {\n",
       "    fig.root.unbind('remove')\n",
       "\n",
       "    // Update the output cell to use the data from the current canvas.\n",
       "    fig.push_to_output();\n",
       "    var dataURL = fig.canvas.toDataURL();\n",
       "    // Re-enable the keyboard manager in IPython - without this line, in FF,\n",
       "    // the notebook keyboard shortcuts fail.\n",
       "    IPython.keyboard_manager.enable()\n",
       "    $(fig.parent_element).html('<img src=\"' + dataURL + '\">');\n",
       "    fig.close_ws(fig, msg);\n",
       "}\n",
       "\n",
       "mpl.figure.prototype.close_ws = function(fig, msg){\n",
       "    fig.send_message('closing', msg);\n",
       "    // fig.ws.close()\n",
       "}\n",
       "\n",
       "mpl.figure.prototype.push_to_output = function(remove_interactive) {\n",
       "    // Turn the data on the canvas into data in the output cell.\n",
       "    var dataURL = this.canvas.toDataURL();\n",
       "    this.cell_info[1]['text/html'] = '<img src=\"' + dataURL + '\">';\n",
       "}\n",
       "\n",
       "mpl.figure.prototype.updated_canvas_event = function() {\n",
       "    // Tell IPython that the notebook contents must change.\n",
       "    IPython.notebook.set_dirty(true);\n",
       "    this.send_message(\"ack\", {});\n",
       "    var fig = this;\n",
       "    // Wait a second, then push the new image to the DOM so\n",
       "    // that it is saved nicely (might be nice to debounce this).\n",
       "    setTimeout(function () { fig.push_to_output() }, 1000);\n",
       "}\n",
       "\n",
       "mpl.figure.prototype._init_toolbar = function() {\n",
       "    var fig = this;\n",
       "\n",
       "    var nav_element = $('<div/>')\n",
       "    nav_element.attr('style', 'width: 100%');\n",
       "    this.root.append(nav_element);\n",
       "\n",
       "    // Define a callback function for later on.\n",
       "    function toolbar_event(event) {\n",
       "        return fig.toolbar_button_onclick(event['data']);\n",
       "    }\n",
       "    function toolbar_mouse_event(event) {\n",
       "        return fig.toolbar_button_onmouseover(event['data']);\n",
       "    }\n",
       "\n",
       "    for(var toolbar_ind in mpl.toolbar_items){\n",
       "        var name = mpl.toolbar_items[toolbar_ind][0];\n",
       "        var tooltip = mpl.toolbar_items[toolbar_ind][1];\n",
       "        var image = mpl.toolbar_items[toolbar_ind][2];\n",
       "        var method_name = mpl.toolbar_items[toolbar_ind][3];\n",
       "\n",
       "        if (!name) { continue; };\n",
       "\n",
       "        var button = $('<button class=\"btn btn-default\" href=\"#\" title=\"' + name + '\"><i class=\"fa ' + image + ' fa-lg\"></i></button>');\n",
       "        button.click(method_name, toolbar_event);\n",
       "        button.mouseover(tooltip, toolbar_mouse_event);\n",
       "        nav_element.append(button);\n",
       "    }\n",
       "\n",
       "    // Add the status bar.\n",
       "    var status_bar = $('<span class=\"mpl-message\" style=\"text-align:right; float: right;\"/>');\n",
       "    nav_element.append(status_bar);\n",
       "    this.message = status_bar[0];\n",
       "\n",
       "    // Add the close button to the window.\n",
       "    var buttongrp = $('<div class=\"btn-group inline pull-right\"></div>');\n",
       "    var button = $('<button class=\"btn btn-mini btn-primary\" href=\"#\" title=\"Stop Interaction\"><i class=\"fa fa-power-off icon-remove icon-large\"></i></button>');\n",
       "    button.click(function (evt) { fig.handle_close(fig, {}); } );\n",
       "    button.mouseover('Stop Interaction', toolbar_mouse_event);\n",
       "    buttongrp.append(button);\n",
       "    var titlebar = this.root.find($('.ui-dialog-titlebar'));\n",
       "    titlebar.prepend(buttongrp);\n",
       "}\n",
       "\n",
       "mpl.figure.prototype._root_extra_style = function(el){\n",
       "    var fig = this\n",
       "    el.on(\"remove\", function(){\n",
       "\tfig.close_ws(fig, {});\n",
       "    });\n",
       "}\n",
       "\n",
       "mpl.figure.prototype._canvas_extra_style = function(el){\n",
       "    // this is important to make the div 'focusable\n",
       "    el.attr('tabindex', 0)\n",
       "    // reach out to IPython and tell the keyboard manager to turn it's self\n",
       "    // off when our div gets focus\n",
       "\n",
       "    // location in version 3\n",
       "    if (IPython.notebook.keyboard_manager) {\n",
       "        IPython.notebook.keyboard_manager.register_events(el);\n",
       "    }\n",
       "    else {\n",
       "        // location in version 2\n",
       "        IPython.keyboard_manager.register_events(el);\n",
       "    }\n",
       "\n",
       "}\n",
       "\n",
       "mpl.figure.prototype._key_event_extra = function(event, name) {\n",
       "    var manager = IPython.notebook.keyboard_manager;\n",
       "    if (!manager)\n",
       "        manager = IPython.keyboard_manager;\n",
       "\n",
       "    // Check for shift+enter\n",
       "    if (event.shiftKey && event.which == 13) {\n",
       "        this.canvas_div.blur();\n",
       "        event.shiftKey = false;\n",
       "        // Send a \"J\" for go to next cell\n",
       "        event.which = 74;\n",
       "        event.keyCode = 74;\n",
       "        manager.command_mode();\n",
       "        manager.handle_keydown(event);\n",
       "    }\n",
       "}\n",
       "\n",
       "mpl.figure.prototype.handle_save = function(fig, msg) {\n",
       "    fig.ondownload(fig, null);\n",
       "}\n",
       "\n",
       "\n",
       "mpl.find_output_cell = function(html_output) {\n",
       "    // Return the cell and output element which can be found *uniquely* in the notebook.\n",
       "    // Note - this is a bit hacky, but it is done because the \"notebook_saving.Notebook\"\n",
       "    // IPython event is triggered only after the cells have been serialised, which for\n",
       "    // our purposes (turning an active figure into a static one), is too late.\n",
       "    var cells = IPython.notebook.get_cells();\n",
       "    var ncells = cells.length;\n",
       "    for (var i=0; i<ncells; i++) {\n",
       "        var cell = cells[i];\n",
       "        if (cell.cell_type === 'code'){\n",
       "            for (var j=0; j<cell.output_area.outputs.length; j++) {\n",
       "                var data = cell.output_area.outputs[j];\n",
       "                if (data.data) {\n",
       "                    // IPython >= 3 moved mimebundle to data attribute of output\n",
       "                    data = data.data;\n",
       "                }\n",
       "                if (data['text/html'] == html_output) {\n",
       "                    return [cell, data, j];\n",
       "                }\n",
       "            }\n",
       "        }\n",
       "    }\n",
       "}\n",
       "\n",
       "// Register the function which deals with the matplotlib target/channel.\n",
       "// The kernel may be null if the page has been refreshed.\n",
       "if (IPython.notebook.kernel != null) {\n",
       "    IPython.notebook.kernel.comm_manager.register_target('matplotlib', mpl.mpl_figure_comm);\n",
       "}\n"
      ],
      "text/plain": [
       "<IPython.core.display.Javascript object>"
      ]
     },
     "metadata": {},
     "output_type": "display_data"
    },
    {
     "data": {
      "text/html": [
       "<img src=\"data:image/png;base64,iVBORw0KGgoAAAANSUhEUgAAAoAAAAHgCAYAAAA10dzkAAAgAElEQVR4nOydd5gUVdaHhyQCiuiqCEZ0CWbQFUX9kLSyBhBUBANBVEzoqiCuiqKrghgWMSIIigprQBRcXQQXFgVdAwgioIAkoXOs7q6qjr/vj/JWV3VX93So7tvFnPd5zrPrTM9QU33n1jv33nNOXR1BEARBEARBEARBEARBEARBEARBEARBEARBEARBEARBEARBEARBEARBEARBEARBEARBEARBEARBEARBEARBEARBEARBEARBEARBEARBEARBEARBEARBEARBEARBEARBEARBEARBEARBEARBEARBEARBEARBEARBEARBEARBEARBEARBEARBEARBEARBEARBEARBEARBEARBEARBEARBEARBEARBEARBEARBEARBEARBEARBEARBEARBEARBEARBEARBEARBEARBEARBEARBEARBEARBEARBEARBEARBEARBEARBEARBEARBEARBEARBEARBEARBEARBEARBEARBEARBEARBEARBEARBEARBEARBEARBEARBEARBEARBEARBEARBEARBEARBEARBEARBEARBEARBEARBEARBEARBEARBEARBEARBEARBEARBEARBEARBEARBEARBEARBEARBEARBEARBEARhSUAQBEEQhOXg7Q+ExeE9gAmCIAiCKB7e/kBYHN4DmCAIgiCI4uHtD4TF4T2ACYIgCIIoHt7+QFgc3gOYIAiCIIji4e0PhMXhPYAJgiAIgige3v5AWBzeA5ggCIIgiOLh7Q+ExeE9gAmCIAiCKB7e/kBYHN4DmCAIgiCI4uHtD4TF4T2ACYIgCIIoHt7+QFgc3gOYIAiCIIji4e0PhMXhPYAJgiAIgige3v5AWBzeA5ggCIIgiOLh7Q+ExeE9gAmCIAiCKB7e/kBYHN4DmCAIgiCI4uHtD4TF4T2ACYIgCIIoHt7+QFgc3gOYIAiCIIji4e0PhMXhPYAJgiAIgige3v5AWBzeA5ggCIIgiOLh7Q+ExeE9gAmCIAiCKB7e/kBYHN4DmCAIgiCI4uHtD4TF4T2ACYIgCIIoHt7+QFgc3gOYIAiCIIji4e0PhMXhPYAJgiAIgige3v5AWBzeA5gg9kWSySRisRiSySTvSyEIYh+Ftz8QFof3ACaIfYlUKoVYLIZwOAyv1wu/3w9BECCKIgkhQRCmwtsfCIvDewATxL5CKpVCOBxGKBRCOBxGIBBAMBhEIBCAzWaDx+NRhVCSJMRiMaRSKd6XTRCEReHtD4TF4T2ACWJfIJFIQJIkuFwuBAIBiKKIQCAAQRAgCAJsNptOCH0+H3w+HwkhQRAlw9sfCIvDewAThJVhW76iKEKSJLjdbvj9fvj9frhcLvh8PgSDQVUAmRCyyCeE8XichJAgiJzw9gfC4vAewARhVZLJJGRZVuVPlmW4XC44HA7Y7Xa4XC78+qsDNpsNNptNJ4SZIqgVQr/frxPCUChEQkgQRBa8/YGwOLwHMEFYjVQqhXg8DkmSdPIXCoVgs9ngdDoRDodx0klx1NWl0K1bHPPne7B9uwt2ux02mw0OhwNut7tgIWRSSEJIEASDtz8QFof3ACYIK5FKpRCNRnXiJ0kSfD6fKnY2mx833hhHXR100bRpCmefncD48RIWLgxi1y4SQoIgSoe3PxAWh/cAJgirYLTlG4lE4HK51FW/Vat8OPHEhE78DjssiaZNU1lCuN9+KZx7bhwTJkhYtCiI3bvLE0IWJIQE0TDg7Q+ExeE9gAmi1mFbvqIo6uRPEATY7XZ4vV6IooSXX46hRYuUKnfduimrgDfcEMW2bXZ88EEI99wj409/SqBJk2wh3H//FHr2jOOBByR88kkQe/aULoRsdZCEkCD2XXj7A2FxeA9ggqhlcm35er1e2O12CIIAp1PGkCHpVb/jj09g9WoJV18dRV0dMHp0FDabTc3wFQQBe/YIeP/9CO68M4pu3RJo3DhbCFu2TKF37zgeekjCkiVB7N1bnhCyCAQCJIQEsQ/A2x8Ii8N7ABNErcJq+2Vu+TqdTrhcLkQiEaxaFUWHDml5GzJExu7dfoiiiGuvVQRw5Mgo7Ha7TgAzY/duAe++G8Htt0dx2mkJNGqULYQHHJBCv35xPPqoiGXLArDZ9ELICk3nE0Kfzwe73U5ZxgSxD8DbHwiLw3sAE0Stoa3tJ4qiuurHOnr4fD5EIhKmTImrZ/tatUrhtddiqoSJoogRIxQBHD68fgHMjJ07BcybJ+Lmm6M46aRElgzW1QGtW6fwl7/E8PjjIpYvD8BuTwuh0+k0FEK/36+uXAaDQSo7QxAWhrc/EBaH9wAmiFrCKNFDFEV4PB7Y7XaEQiHs3i3jwguTqoiddloSP/4YhSzL8Hg88Pl8EEURo0bJqKsDrrkmVrQAZsb27SG8+aaIG2+MonNnYyFs0yaFSy6JYcoUEV98EYDDkS2EXq8XNpst53ZxLiGUZZmEkCBqDN7+QFgc3gOYIGqBVCpluOUbDofV83aiKOLf/46iXbv09uxtt8URCMiQZSW8Xq8qgDfcoAjg0KHlC2BmbN0awpw5Iq6/PooTTkgaCuEhhyQxcGAMTz0VwapVfjgcTrUoda4VwkKEMBwOQ5ZlJBIJEkKC4AhvfyAsDu8BTBC8yWznxrZ8/X6/mrwRCkm47764ejbv4INTeP/9mCp+RgJ4003y7+cCzRfAzPj55xBmzVK2nY87zlgIDzssiUGDonjyyQC+/tpnqhBGo1ESQoKoMrz9gbA4vAcwQfAk15Yva+kWDoexZYuMHj3SUnXuuUls3SpnyV+mAN58syKAl18eUxMvKiWAmbFxYwivvCLimmtiOPpoYyE84ogkhgyJYfr0CL77rjQhDAQCOiEMBAIkhARRJXj7A2FxeA9gguABW/WLRCKGtf08Hg8kScK778Zw8MHKql+jRincf38c4bCx/GUK4K23KgI4eHD1BVAvagLWrw/hxRclXHVVFO3aGZ8hPOqoJIYNi+LFFyNYu9YHp5OEkCBqGd7+QFgc3gOYIKoNq+3ncrng9/uz2rkp25wSbrklLUrt2qWwZEk0p/hpBVApDC1i7FhFAAcO5CuA2lC2te1YuzaE6dMlXHFFDIcfbrxCeOyxSVx3XRSvvBLGjz+mhdBut8PpdMLr9SIQCBQshH6/n4SQIEyEtz8QFof3ACaIapJMJtVED7fbDb/fr9b2czqdiEQiWL8+ilNPTUtR//4J/PZbfvFj4fP5VAG8805FAC+9NAaHw1EzAsjKwGhXCL/7Loxnn5UwaFAMf/iDsRAef3wSI0ZEMXNmGD/95NUJocvlKkoImRR6PB6EQiESQoIoAd7+QFgc3gOYIKqBUW0/j8cDt9uta+c2c2YMLVsqW77NmqUwdWocoliY/GUK4N13S6irAy66KF7TApgZgYCA//0vjKeekjBgQHoLPDM6dkxg9Ogo5swJY/Pm0oTQZrPB6/WqQhgIBBCJREgICaIAePsDYXF4D2CCqDSpVCor0UOSJDgcDrUmntstY9iw9JZvhw4prFpV/5ZvPgEcN076fQXRWgJoJISrVoUxebKEiy6K46CDjIXwxBMTGDMmijfeCOGXXzzq/c0UQu331rbIy3WGkISQIIzh7Q+ExeE9gAmiUtRX24+t/H31lb6W3pAhCbhcxYmfkQDee68igP36WVsAs7+HgJUrw3j8cQkXXhjHgQcaC+EppyRw660y3n47hK1bjYUws0dy5gohCSFB5Ia3PxAWh/cAJohKkKu2n7adm9vtwRNPRNCsmSIwLVqkMGNGDJJUmvxlCuB99ykC2KfPviWAmeHzCfjPf8J45BEZffrE1S10bTRqlELXrgmMHSvjnXcEbN9e2AphMUKYTCZJCIkGBW9/ICwO7wFMEGaTq7YfO+8XCoWwZ4+M/v2jmtWqJNatK37LNzP8fj88Hg9EUcQDDygC2KvXvi2AmeHxCFi2LIyHHpLRq1cc+++fLYSNG6dwxhkJ3HZbCO+9J2DHDrdpQiiKIgkh0SDg7Q+ExeE9gAnCLFKpFOLxuJroweQvFArp2rl99lkU7dunpWTMmAT8/vLEz0gAJ05UBLBnT0UAvV5vgxDAzHC7Bfz73xHcf7+M88+PY7/9soWwadMUundPYNw4GQsXCti1Sy+EbrcbPp8vZ0KJVgiZDGqFMBaLkRAS+xy8/YGwOLwHMEGYAavtl6udWyAQQCgk4YEH0u3cDjooiddfF0wRv0wBlCQJkyYpAnjeeQ1bADPD6RTw8ccRTJggo3v3qLoFr41mzVLo0SOOCRNkLFok4Lff0kLIZL4UIQwGgySExD4Db38gLA7vAUwQ5aKt7Zerndu2bTLOPz+d6HHOOUmsXx+A1+utmAA++qgigD16kADmCpvNhr17A/joowjGjZNx1lkJNGmSLYTNm6fwf/8XxwMPSPjkEwF795YvhKyriVYICcJK8PYHwuLwHsAEUSqZtf1ytXNbsCCGQw5Jt3O79944QqF0wkalBPDxxxUB7N49QQKYRwAzz/nt3StgwYII7rpLxhlnJNC4cbYQtmiRQu/ecTz0kIQlS4LYu9cFu91ethD6fD5EIhESQsIS8PYHwuLwHsAEUQq5avux0iLBYBDBoIzbb4+r0tC2bQqffJJO9KiEAAYCAbjdbkiShMmTFQH8058Saus03sJVSwLICkHnS/QQBAG//Sbg3XcjGDs2itNPT6hb+Npo1SqFvn3jeOQREUuXBmCzlSaENptN7XlMK4RErcPbHwiLw3sAE0SxGNX2y2zntmFDFF27prd8//znJHbtMl6tq5QATp2qCGC3biSA5QhgZuzcKWD+fBG33hrFKacksmSwrg5o3TqF/v3jeOwxEcuXB2C31y+EmdejXSEkISRqEd7+QFgc3gOYIArFqLafLMvqg9vn80GSJMyeHUOrVik1u3TyZON2bpUWwGeeEVFXB3TtSgJopgBmxo4dIbz1loibboqiSxdjIWzTJoWLL45h8mQRK1cG4HAYC2G+6zESQkEQSAgJbvD2B8Li8B7ABFEIRrX9JEmCx+NRhcbjkXHttWkBOPbYFL74Indtv0oL4LPPKgJ46qkkgJUUwMzYti2E118XMXp0FB07GgvhIYckMWBADE89JWL16gCcTnPOEJIQEtWEtz8QFof3ACaIfLDyLmzrLbOdm8vlgiiK+N//oujYMb3le8UVCTgchclapQTwuecUATz5ZBLAfAKYT7LMiF9+CeG110SMHBlFhw5JQyE87LAkBg+OYsqUAL7+2qcTQqfTqZ4LLEUIJUkiISQqAm9/ICwO7wFMELnQyp/D4VBX/Vg7N7/fD1GU8I9/xNTiwvvvn8JLLxXWzq0SAhgMBuFyuSBJEp5/XhHALl0SqkTwlq6GKICZsWlTCDNmiLj22hiOOcZYCI84Iokrr4xh+vQIvvvOXxEhpBqERLnw9gfC4vAewARhBNvyjUQiEAQBDodDbefmcDgQCoWwd6+MSy9Nb/GddFISa9YU3s6t0gL40kuKAHbqRAJYSwKYGRs2hPDyyyKGDo2iXTvjLeMjj0xi2LAoXnghgjVrfHA6nbDZbKYJYTweJyEkioa3PxAWh/cAJggtRrX9QqGQriWYKIr4/PMojjwyXQ7khhsS8PmK3651uVwVE8BXXlEE8IQTkiSANSyALAKBAPbutWHtWgHPPy/hyitjaNvWeIXwmGOSuPbaKF55JYz160sXQm0fY7/fj1AoREJIFAxvfyAsDu8BTBCMXO3cPB6PmiwQDkt4+OG4Why4desU5s2LlSVrlRLAmTMVAezQgQTQKgJos9kyrlHAmjUhTJsm4fLLYzj0UGMh7NAhiREjopg5M4wNG7ymCaEgKEklJISEEbz9gbA4vAcwQQC5a/uxdm42mw3bt8vo2TP9AD7rrCQ2by5f1iolgK+9Fvk9GzkJl8tFAphDuGpZALMlTcA334Tx9NMSBg6M4eCDs4tS19UBf/xjEtdfH8Xs2WFs2lS6ELIjD7RCSBjB2x8Ii8N7ABMNm1y1/QRBaefm9XoRDofx5pteHHpo+mE7bpzSzs0MWTNTAAVBgNPphCRJmDNHEcCjjyYBtIIA+v3+egUw+2cQsHp1GE8+KeGSS2Jo08ZYCLt0SeCmm6KYOzeMX34xFsJAIJB1LzweD5xOpyqErP4gCxLChg1vfyAsDu8BTDRcctX283q9GkmRcccdMfVBevjhKXz8ceGJHoXIWiUEMBgMYuZMP+rqgHbtaAt4XxXA7O8h4IsvwnjiCQn9+8dx4IHGQnjyyQnccouMt98OY9u2tBDa7Xa4XC54vV41Scnlchn+W3SGkODtD4TF4T2AiYZHKpVCPB7XJXqwLV+n0wmXy4VIJIKNG2WccUZ6y7dPnwR27jRf1szeAmblQl5/Pfh7D+KELomlvq0/EkB+Amj2vfH5BCxfHsajj8ro1y+udqjRRqNGKZx+egJjx8r45z9D2L5dv0LIVsKNVghJCBs2vP2BsDi8BzDRsMiV6MFkgLVzmzs3pq6eNGmSwv33BxGJSKbKmtkCKIqiel4xHA5j3ryIWmSY9Sl2uYqvJ1frklOuAPK+jmreG69XwLJlYTz8sIzeveNo0SJbCBs3TuGMMxK4804Z8+f7sXWrQx1XmSuE+WSQhHDfh7c/EBaH9wAmGg5GW76iKKrt3EKhELxeGSNGpGuxHXNMCsuXy7DZbLozgmZEKBRSC0ybIZPs4exwOCBJEt55RxHAP/xBOQPodrt1KzXsfJf2LFghKz21LjkkgIWH2y1gyZIIHnhAxv/9XxzNm2cLYZMmKZx1VgL33CPjgw8E7NrlJiEkAJAAEmXCewAT+z5Gtf1kOd3OjdX2++67KDp3Tm/5DhqUgN2urBDabDaIolhzAihJEnw+n24rkwnge+8pAtimTUongEYP50whLPTBbgXJsYoA+nw+7vfG5RLwyScR3HefjHPPjaNZs2whbNYshR494pgwQcZHHwnYvdtcIZRlmYTQIvD2B8Li8B7AxL5Nri1fduCetXObPj2mrn40b57C88+n27nVqgCKoqiu+IXDYd33lCQJH3ygCOBBB+UXQKOHs8/nU0uAaM8P+ny+slYHSQDzC6DD4eB+HdrYudOFBQsCGD9eRvfuCTRtmi2EzZuncP75cdx/v4R//UvAnj3mC2EikSAhrEF4+wNhcXgPYGLfxai2X6Y02e0yLrssveXbpUsS332nz/JlAhiJREwXQLvdXtbXejwe3da0VgAXLgyjrg444IDiBNDo4cyEkJ0fZCunxQohCaC1BDCzfJDNJmDhwgjuvlvGmWcm1ILo2mjRIoVeveKYOFHCv/8dxN695glhOBxGNBolIawRePsDYXF4D2Bi3yNzyzeXNK1YEcXRR6cfYKNGJeD1GgtXJQRQEdDiBFC7ehkIBLLOJWoFcNEiRQBbtkzB7XaXLIBG4uT1enUJJQ6Ho6CEkloSQDPKrpgZtSiA9ZUP2rNHwHvvRXDHHVF07ZpAo0bZQtiyZQp9+sQxaZKEpUuDsNvTQljoHxKsj7H2qILSmSesZu8T1Ye3PxAWh/cAJvYtctX2056TC4clPPpoHE2aKA+rAw9MYe7c/O3cakEARVFUt2XZlq/RyiATwI8/DqtbdGYKoNGD2estrNsECWDu8Hq9NSmAXq+34Nfv2iXgn/8UcdttUZx6aiJLBtnv24UXxvHYYxKWLw/C4ShOCNkYYkK4Zs0a/OUvf+E99TRIePsDYXF4D2Bi34Ct+kUiEcPafk6nE5FIBDt2yOjdO53oceaZSWzcWL982e32nNJVDQHMteWb63WSJOHTT8Pqof1KCWBm1JdQoi+yzTdIAOuPYgUwM3bsEPD22yLGjInixBONhbBNmxQuvjiGyZNFrFwZhMPhynvUIDNZZvXq1bj88st5T0ENEt7+QFgc3gOYsD5M/rxeLzwejypDrCiy1+uFJElYvDiKww5Lb1HddVccglCYrFVCACORCGw2W1lbvrmkUpIkLFkSVuu6VUsAM0MrhGyVx2azVSTDuNiopdVIQRDUVVTe16ENh8NRlgBmxq+/hvDGGyJuuCGKTp2MhfDgg1MYMCCGqVNFrFoVgNOpF0Kn0wm73a4K4dKlS3HdddfxnoYaJLz9gbA4vAcwYW20W74+n09dIcts53bPPXH1AXPooSl89FH+Ld/McDgcakZitQSwkC3ffAK4bFlY/Zl5CWBmsK14bYZxqQkl5QYJYP3hcDjg8/kq9v23bAlh9mwRo0ZFcfzxSUMhPPTQJAYPjuGOOyTcemsEP/+srCzv2bMHvXr1wqhRozB48GCEw+Gc88TChQvRt29fHHTQQWjcuDGSyaTu81u2bEHv3r3RokULdOjQAXPmzMn6HlOmTEH79u3RsmVLDBw4EA6Hw/T5zGrw9gfC4vAewIQ1MWrn5vf71Qxf1s5t0yYZZ52VfrBccEES27cXL2vVFsDMGoWFfk+tAP7nP2kBdDpz93StZmRKF8swzkwoqYYQkgDWH5UWwMzYvDmEV18Vcd11MRx3nLEQnnpqDE6nE263Gy+99BIGDBiAgw46CE2bNsW5556LKVOmZM0Xb7/9NiZPnownn3wySwDj8Tg6duyIoUOHYuPGjZg9ezaaNWuG5cuXq6+ZM2cODjzwQHz00UdYv349evXqhQsuuKAaU11Nw9sfCIvDewAT1iNXbT+3261r5/bWWzG0bp1St0EnTYojEilN1iohgKIoZnUY0bal8/v9RXcf0Qrgf/+bFkC7vTYFMDOMMowr1bKu1gSQnZvkfR3asNvtVRXAzNiwIYQHH5R0Lev+8hdZd59mz56NBx98ENu3b8ecOXPw9NNP55w7/vvf/2YJ4KJFi9CiRQtEIhH1YyNGjMDgwYPV/z7jjDPw0EMPqf+9fft2NGrUCOvXrzd5drMWvP2BsDi8BzBhLZLJpGFtP1ajzul0wueTMXp0+nzRkUem8Pnn0bJkjT1wKimA2p+jVNnUCuAXX6QFcM8eawigNliGsVHLOo/HU3bLuloUwFp4j7Rht9vh9/u5/fsffRRRe3KzEjOzZgm6+/TCCy/giSeeKGj+MBLAiRMnomfPnrrXzZ07F+3btwcARKNRNGnSRLciCAAdOnTAzJkzy5zRrA1vfyAsDu8BTFiDfLX92JZhIBDAypVenHhieutowIAEbLbyZa3SAljqlm9msG1lSZKwenVaAHfvtp4AZobZLetIAOsPngL4yiui2nnk2GOTaNVK+f/vvBPQ3aennnoK06ZNK2geMRLAMWPG4Morr9S97tNPP0WzZs0AADabDY0aNcJPP/2ke0337t3x+OOPlzmzWRve/kBYHN4DmKh9ctX202bHiqKEadNE7L+/8pDYb78Upk1Lt3MzQwCDwWBFBLCcLd98Avj112kB3LmzNuTCTOnK1bLO5XIVdH6wFnrvaqMWBZCNy2r+m8GggAcflNWx261bAlu3hlQZXLTIr0toeuSRRwpeiSMBNBfe/kBYHN4DmKhdUqlUQe3cHA4ZV1yR3vLt2DGJb74pb8s3M1wuV8UEsJwt33wC+O23aQHcvt1bE3JRyVU3IyHMl1BSawLodtfGKq022B8o1fr3vF4BI0ZE1XHbv38cNpvycfaxZcv0AjhhwgTMmzevoDmFtoDNhbc/EBaH9wAmahPtlq92VUwQBF1B5JUrozj22PQB8aFDRXg85klapQSQbfnabDZT6wtqM4u//z4tgNu27fsCmBn1tayrpaLUgiDUTKkebVRTAPfuFdC3b7pc0+jRUfh8yud++y0tgF9+6dW1p7vjjjuwcOHCguYVIwFcvHgxWrZsqUsCGTlyJCWBFABvfyAsDu8BTNQeubZ8vV6v2s5NFGU8/nhc3RZq1SqFWbMkOBwO0+VPlmX1jKEZ3ysYDKrZyjabrawzf/kEcO3akPrQ/OWXhieAmWEkhDabrSIZxqVErQkgG6fVEMBffgnhtNPSq/iPPCIjGEx/fsuW9Fj+/nuPTgBvvPFGLF26NO+c4vP5sG7dOsyaNQuNGjXCmjVrsG7dOkQiEcRiMXTq1ElXBqZ58+ZYsWKF+vWvv/46WrdujQ8//BDr1q1Dnz590KtXrwrPhLUPb38gLA7vAUzUDka1/ZjUaNu57dolo1+/dKJH165JbNgQVRNCalUAJUmCx+NRBUiSJNN7DGsTS9atSz80N28mAcyUG/ZeaDOMtQkl1RbCWhXASt+Hb74J46ijkmrbwtdeE7Neox3LP/3k0nUnueaaa7Bq1aq8c8sbb7yBRo0aoXHjxrpYuXIlAGDr1q26QtCvv/561vd48skn0a5dO7Rq1QqDBg2C0+msxDRoKXj7A2FxeA9gojYwqu2XuVomSRL+9a8o2rZNb/necUccwWB6W7XQ3rrFBlslKmdlzul0wuVy6Vb8KimAGzZoH5q1UWS4VgRQEJQzgKz3rlHLunIyjEsJl8vV4ATwX/+K4KCDlN/ngw5K4V//ihi+TpvQtH27XgAHDRqEtWvX8p7CGiS8/YGwOLwHMMEfo9p+matloZCM8ePjai2wQw5J4YMP9O3calUAMyVW+7lKCuDGjWkB3LDBRwKYEVoBNJIfowzjSnYoqTUBZNnplRLA114T0ayZ8vt81FFJfPNNOOdrtV1t9u7V9yfu378/fvnlF97TWIOEtz8QFof3ACb4kVnbj8kRS5Bgq2U//yzj7LPTW77nn5/Etm3Gq2z5eutWWwAzexIbvcbsJBCtAP78c1oA160jAcyMfAKYGVohrFTLOpfLpTvbxjuYAJr9fYNBAZMmpcu8nHZaAr/8Esr7NZ98ElHLO2W2p+vZsyf27NnDezprkPD2B8Li8B7ABB9SqZQqLNpVv8yaeP/8Z0zdImrcOIWJE3O3c9OWQDFbAL1eL3w+X8Gvzzy3mOt1dru9YgKoPTi/di0JYGYUI4BGcmR2y7qGIIA+n4DRo9NlXvr2jWPv3vq/7v33FQFs0wALg80AACAASURBVCaV1Z7uzDPPhM/n4z2lNUh4+wNhcXgPYKL65Krtx7bbQqEQ/H4ZN92Uzgps3z6FpUvz1/Yz6q3LQwAFQSlV4/V6670WswWQJZaIoojt29PbZt9/7ycBzAiv11uyAGqDtazzer2GLesKFcJaE0BWaN2s72ezCejfP13mZcSIKLzewr72zTdF1NUB7dols7qTnHTSSYhGo7yntQYJb38gLA7vAUxUj1QqBVEUEQwGdWIUCoXU81WiKOKHH6I4+eT0lu/FFyewZ0/h8lMpAfR6vfX++/Vt+VZTAHfsSK8AfvstCWBmmCWAmVFqyzomjLzvSyXeq61bQ+jWLf0H3YMP6su81BczZigCePzxSV13kmAwiM6dO+vq+hHVg7c/EBaH9wAmqgOr7ef3K1X8maywWnisndsrr8TQokVKLQnxzDPxgtu5aeXHbAH0+Xx5BbDQLd/MYCuelRDA3bvTAvj11ySAmVEpAcwMJoRGLeu8Xq+6Ouh0OnXJDbzDrE4p338fxrHHKn/QNW2awiuvZJd5qS+mTZNQVwecckpCV5swGAyiU6dOSKVSvKe4BglvfyAsDu8BTFSWzNp+gYDSyD0SicDlcsHpdCIcDsPplDFkSHqF4IQTkvjqq+LauVWirl4hAigIhW/5VlMA9+xJC+Dq1SSAmcG2bKv97+ZqWcekkHdBahZmCOCSJRG0aaP8QXfggSksWmRc5qW+mDxZEcCzzopnCWDnzp1JADnB2x8Ii8N7ABOVw6i2XzAYVB92TJhWrYqiQ4d0bb9hwxJwu0sToEoJINvSy5QttoJZapu4Sgqg3Z4WwC+/DJAAZgQvAcyMYDCoHh1g5wdZhjHPDiXlJMkIgoDXXxex336p38/wJvHVV7nLvNQXEycqWcM9e8Z1pWmCwSC6dOlCAsgJ3v5AWBzeA5ioDLnaubndbvVguSjKePLJdDu3li1TmDUrVvCWr1GYfaYulwCKoqiuYJYjnExAzBZAZUs6LYArVwaqst1ZX5AA5g6Hw6GeETQ7w7jU+1PKmAkGBTz+uKSOvZNPTmDz5vxlXuqLceMUAezfP6YTQLfbjVNOOYX3dNdg4e0PhMXhPYAJc8lV24+dkXM4HHA4HNi9W0b//ukt39NOS+LHH4vb8q2mAAYCAfXsIkta8Xg8ZSecmC2AspxeBfV40gK4fDkJoJHg1JoAasubKDKVnVDChLDSLetKEUC/X8CYMekyL716xfHbb+Vfy623Kt9z8OCoTgB37tyJ7t278572Giy8/YGwOLwHMGEeRlu+2tp+7OG2YIEX7dqlt3xvvTWBQMAc+TF7S1UrgC6Xq+wt32oKoM+XFsDPPycBNBKcWhfAzCg1w7ga98fhEHDJJTF1zF19dQwejznXcv310d+/Z1RXmmbz5s244IILeE99DRbe/kBYHN4DmDCHXLX9WDu3UCiEcFjGhAlRtZ3bwQen8N57MVPlp1ICyMTF4XCYusJYSQEMBtMC+NlnJICZwSSK93WkBap+AcyMSrasK+b+/PprCGeemV7Rv+++4sq81BdDhypiOXq0rBs/a9euxcUXX8x7+muw8PYHwuLwHsBEeWi3fLXboaydG6vtt2WLjB490rX9zj03iS1bzJW0SgkV2/K12+2m1xhkWZ+VEEBBSAvgkiVBEsAyBKcakdnhopTIlWFcihB6PB64XK56X7dmTQjHHaf8bjdpksKLL0qm35uBAxUBHDtW0o2fL7/8EldeeSXvabDBwtsfCIvDewATpZMr0YN1EGDt3N57L4aDD1ZW/Ro1SuGuuwSEw+bLn9kCqP1ZmCyYfb2VEsBQKASPx4PGjZX7/sknJIBGgrOvCWBmGCWUOByOghJKChHAZcvCOOQQRf4OOCCFDz4orcxLfdGvn9JBZPx4UTeOP/vsMwwfPpz3VNhg4e0PhMXhPYCJ4sms7afd8nW5XOo2aSAg49Zb09tC7dql8MknlevWYaZQaVvThcNK+QorCSBLtmEZ1gsXemCz2Uw/J1ZskADmjswWZ2aHtmWdy+Wqt2Wd2+3OK4Bvvy1i//2V8dW2bRJffll6mZf64rzzFAF8+OGITgA/+ugj3HLLLbynxAYLb38gLA7vAUwUh1GihyxnZ8auXx/Faaelt3z790/gt98q26/XLKEKhUK67WtZVoo9V0IA3W43AoGAad8vFArBZrPB7XZDEAQ0b648oD/8MKCKoZnnxIqNWhPAQrY4qxWVFsDMqC+hxOVyqeMoM558UlLP8nbpksBPP5VX5qW+YG3kJk8O66R93rx5uOeee3hPiw0W3v5AWBzeA5gonFxbvtrMWFGUMHNmDC1bptu5TZ0ahyjK6usr1a6tXKHSZiwHAgGdpApCbQugdrvaZrMhHA4jHA6rbfU+/FBQV07YObFStgXLDRLA3FFtAcwMrRCyPxRsNpsuwzgQEHDbbekyL//3f3Hs2lX5a+vSRRHA557TC+Brr72GiRMn8p4aGyy8/YGwOLwHMFE/9dX2Y8WQ3W4ZV1+d3vLt0CGFVauiWaJSiwKYueVrtLLmcDhq5nrzXTurhRgOh3HAAYoALlgg5DwDyLYFc9WZM/NBTgKYO9i5Wd7XwYL9brOx9euvNlxySbrA85AhMbjd1bkW1kt4xgxBJ4DPP/88Jk+ezHuKbLDw9gfC4vAewER+cm35BoNBXTu3r76K4oQTkpqHQwIul7GwVKpdmyzL6ipWMV+TmbFs9JpKCmCx11vftafL7oTRurUigO+9JxQkXkarQGxb0IztYhLA3KHtcVsL4XK54PF4IAgCduwI4eyz4+rv99ixIezZU3qGcbFx2GHK3DJ3rqB7z6ZOnYrnn3+e9zTZYOHtD4TF4T2AidwY1faTJEntWyoIAiRJxtNPx9GsmSIaLVqkMGNG/nZulerWUawAard8WcZyPtGy2+01IawsgsGg4bWzWojhcBht2igPznfeKUwAMyNfWZFStotJAHNHrQrgunUh9Y+7xo1TmDZNKfNSzZZ1Bx6ozC/vvhvQvWeTJk3CrFmzeE+VDRbe/kBYHN4DmMgmc8s3c7XJ5XIhEolgzx4ZF1+c3vI95ZQkfvih/nZulRRAr9cLn89XkPxpi1QXstJWKwKYKeGZn9cKICvRMX9+yBTxyvfQL6QtWS0JYH1ZrtWOWhNAp9OJpUsDOPTQpNqr+913jcu8sAxjo5Z1hY6NXBEMCmjSRBHAxYv9usSUe++9F/Pnz+c9ZTZYePsDYXF4D2BCTyKRQCQSQSQSydnOTZIkLF0aRfv26XZuY8Yk4PcXJjCV6tZRqABqRbbQs4i1IoCs1A47d5nv/obDYXXr7O23w6aLVyltyUgAc9/LWhPAuXP9ahLRYYcl8d//Fl7mxcyWdR6PoM4zy5b5dAI4duxYfPTRR7ynzQYLb38gLA7vAUwosNp+kUhEl6TBEgy07dwefDCuFhg+6KAU/vnP4tq5sWSESgigz+eD1+vNuXKWa9u0vmD3hYewssgstZPv/jIBbNtWEcA33zRfAI0e+vV1oSABzH3vakkAn3lGUn/HO3ZM4McfyyvzkqtlXSFnS3fvTgvgqlVe9VyiIAgYPXo0li1bxnv6bLDw9gfC4vAewIRCMplUt3yZAGbWw9u2Tcb556cTPc45J4mffy5eeirRrq0+ASx2y7eWBDBfeZpcAigIAsLhMNq3V96v11+vvAAaPfSNulAwAa9m/UGjcLvdOevcVTuYAPK+J4GAgLvukjW/4zHs2FGZn7fQlnW//JJuafj9926dAF599dVYvXo17+mzwcLbHwiLw3sAEwqpVAqSJKllWrxer044PvgghkMOSbdzu/feOEKh0qSnEt0vWLBtp0x5czqdRW35ZkalCljXJ4BacS303CQT7HA4jKOOUgRw9uzqC2DmAz8QCMDtdqvnw0rdEjQrSAD14XIJuPzymCpbAwdKsNnMbU2XK3K1rHO73VizJqhe08aNynhhX3fZZZdh3bp1vKfPBgtvfyAsDu8BTKTRig6rKTd/fhS9e6cTPdq2TeFf/6o/0aNWBJA9WNnZxVK/b6UEMN+WdaniqhXAY45RBHDmTL4CyIJtAbPt4MwtwWp2J6klAWQrvLwEcOfOdLu1ujrgzjujsNkcpvcmLuZ+MCH8z3/c6nX9+qsihew+XXjhhdiyZQvvqbPBwtsfCIvDewATaQRBUP/6DoVCCARkNfuOyd8zz8SwY0d50mN2+zNtsFWm+jJla10A2XtRirhqBfC44xK/F9CtLQHM/Lh2S7Ba3UlIAJXYsCGETp0S6ur+009LuvHH+958/nlYnYP27FFWj1988UUMGDAA/fr1w5dffolUKlXwPOf3+zFq1CgcccQROOCAA9CjRw+sXLlS/fyWLVvQu3dvtGjRAh06dMCcOXMqMd3uE/D2B8Li8B7AhEIymYTD4UAwGNRl6bJesplx2mlJjB8fx2efRSEIxUlPObXvChFAliWbL1O22KhUB5NMAWSt9coRV60AnnCC8mB/+eUwbDYb94d5oUkg2hWgSnUnqUUBrPa/u3JlGIcfrqwS779/CvPni+rneLemY/HxxxHU1QHNm6fgcDjg9XrxzTff4P7778exxx6L/fbbD0cffTRGjRqFjRs31jvXDR8+HKeffjq+/fZbbN++HXfddRdat26NQCCAeDyOP/7xjxg6dCg2btyI2bNno1mzZli+fHkVZmHrwdsfCIvDewATaTIFQpZlXHaZIhD9+iUwZEgCBx+cLYQHHJDCgAEJvPBCDJs38xVAdnax3C1fHgLISrw4HI6yxJW9f5FIBB07Ku/fiy9GLCWA2shXUqSc7eKGLoDvvx9Bq1bK7/Mf/pDE55/ry7zUigC+954igG3apLKu6cQTT0QgEMDSpUtx3333YdOmTfXOcyeffDKmT5+u/nc4HEajRo3wzTffYNGiRWjRogUikYj6+REjRmDw4MEVmXOtDm9/ICwO7wFMpIlGo1kCeO21ikDceGMCsiwjEpHxxRdRTJwYx9lnJ9GoUbYQduyYxO23x7FoUQw+n7GkFVr6pBhBY/JXiZZtTADNbmHHxIbVJqyvxEshwc5YRiIRdOmivH/Tp1tXADPDrO4kLperwQrg9OmSerzj+OOT+OGH7DIvtdKbeO5cEXV1QPv2SZ0ABoNBdOrUCclksqh57u6770afPn3g8XiQTCbx3HPP4eijj0YkEsHEiRPRs2dP3evnzp2L9u3bmznV7jPw9gfC4vAewESaWCymEwhZlnHTTYpAXH11wlA29u6V8dZbMQwfnsARR2TLYPPmKfTrl8RTT8Wxbl0UkqQIYK7Eh1KCJUs4nU4EAgE4nU7TBVCWK9PD2OfzqataxdYmLEQATzpJef+ee27fEUAjeSqlJVktCaDf76/K+xMMChg/Pl3mpXv3BHbsMK7xVyt1CV95RRHAE05I6q6JCWAx5/8Apdj9ZZddhkaNGqFp06Zo164d1q9fDwAYM2YMrrzySt3rP/30UzRr1sy0eXZfgrc/EBaH9wAm0jAB1CZp3HWXkhk4aJCxAOpXyWR8+20Ujz8exwUXJNX+wNo4+ugURo6UMXeuAKezfIESBGWryuv1QpKUw+tWEUBJklT5M7MzilYATzlFEcBnnxX3WQHUC07hHShqTQArnaTj8Qi46qp0mZcBA2JwOnPfx1oRwH/8Q0JdHXDqqYksAezSpUvRAnjHHXegW7duWL58OdatW4d77rkHxxxzDLxeLwlgkfD2B8Li8B7ARBqtALIzevffrwjghRcmixYRt1vGggUxjBmTwLHHZstgkyYpnHdeEo8+GsfXX0chisXJk8/nUzMn2cdZ8epKCKCZPYzZqiVrSWfmdWoF8LTTFAF8+umGIYBGIpNru5j9L+97Uo37snu3gJ4902VebrklCr8//33jXZeQxRNPSL+vVsZ11xQIBNC5c+eiBDAcDqNJkyZYtWqV7uOdOnXCiy++SFvARcLbHwiLw3sAE2mYAGqTNB57THlonHde8QKoFzYZGzZE8eyzcfTrF1N7jGrj8MNTuOaaBN54I4bffsv9vfL1w7WCAApCetWS1cKrlAB266a8f08+2TAF0EhsjLKLK1luhvd92bQphBNPTJd5mTxZKug+1YoAPvigsmV9wQV6AXQ6nTj11FOLmuPC4TAaN26Mr776SvfxLl264Pnnn8fixYvRsmVLXRLIyJEjKQkkB7z9gbA4vAcwkSYej0OW9Uka//iHsmV0xhnlCaA2AoEAdu924+OPo/jrX+M48cRklgw2apTCn/6UxP33x7FiRRThcLY8GZ2XC4eVeneVEEBteZzSJFhSz3qxVUtWt9DM62Rb+JFIBGeeqQjg5MkkgJnhdDrhdrt128U2m41LdxJt6R8zY9WqMNq1S6rncd98Uyzo63gXptbGPfcoAviXv8R017Rz506cffbZRc9zvXv3xjnnnINvvvkG27Ztw4MPPoj9998fv/zyC2KxGDp16qQrA9O8eXOsWLHC/Al3H4C3PxAWh/cAJtIwAdSWJnnlFUUAu3QxTwCDwWDWtueWLTJeeimGQYMSaN06e3WwTZsUBg6M4pln/Ni0KXd9vFoVQFEU1W1H7Sqi0b0wUwC7d1cE8LHHxJp4oNeSALpcLl1fWZ7dSSohgAsXRnDAAcrv0sEHp7B0aaTgr60lAbzllijq6oDBg6O6P2I2bdqE3r17Fz3PORwOXHfddWjXrh0OPPBAnH322ViyZIn6+a1bt+oKQb/++usmzrL7Frz9gbA4vAcwkUYrgKyd2ty5MTV5o5ICqI1QSMbnn0cxYUIc3bplrw7W1QEnn5zE3XfH8emnUQSD6a+NRJRs11oSQFbixe12Z9URrLQAnnOOIoB//zsJYGZkCmBmVLM7ic/ng8PhMO37vfSSqJZ5Oe64JNasMc70zRW8ClMbxciRigBec42su6bvv/8el1xyCe9ps0HD2x8Ii8N7ABNpmABq++kuWKAI4KGHmieAglB4pm4oFMKPPzrx8ssChg1L4NBDs1cHW7ZM4eKLE5g2LYYff6xMyzZZ1tdHLEZ285V4qbQAnnuuIoCTJkkkgBlRnwAaSVG+7iTl3FuzBDAYFPC3v6XLvJxxRgLbthUnf+x9qhUBZJnLN9wg68bOF198gSFDhvCeNhs0vP2BsDi8BzCRJpFQSr1oz6V98klUlaxqCqD2vFwgEFDlSRRlrF4dxaRJcfTokUTjxtlCeNxxcdx8cxwLF8bg9fIRwEJ7EVdaAM8/XxHAiRNJADODJX+UJlrmdifxer1lC6DXK+Daa9NlXi66KA673frv04ABys80dqyku6YlS5Zg5MiRvKfNBg1vfyAsDu8BTKRhAqiVkhUrouoDRZLMEZT6MnW1LdHqy7q122XMnx/DqFEJHHlktgzut18KvXsnMWVKHGvWRMv6GbQFsvOFKIoF9yJmImK2APr9foiiiAsuUATwwQdrQwArlexQSpQjgJmRr9xMIUJYrgDu2SOgd+90mZcbb8xf5qW+qCUB7NtX+bnuvVfU3aOFCxfi1ltv5T1tNmh4+wNhcXgPYCKNVgCZlHzzTVoAjdq6lRL5EjVCoRDsdntJLdEkScb338t46KEg+vRJYL/9soXwyCNTGDUqgXnzYrDbzRfAYq+fiYiZAsjOqImiiN69ldWTv/1NJgHMCDMFMDOK7U7i9XrVFeZi4+efQ2rBb+W8p4xgcN95n9gxhocfjugEcN68eRg3bhzvabNBw9sfCIvDewATaZLJZJaU/PRTWgD37KmcAOba8i02WM9eURTh9cr48MMYbr01gRNOyE4madw4hXPOSeLhh+NYtar+QtT5BLDU69fe60oIYL9+igBOmEACmBns/F6l/51CupOUKoBffx3GkUcm1dXu2bMLK/NSyPtkZlJKOdGtmyK3U6aEdfdo1qxZeOihh3hPmw0a3v5AWBzeA5hIwwRQu0X766/pA+VbtpgjKJmZurlKpJQauVq2bdwo47nnYrj44gRatsxeHTz00BSGDk1g9uwYdu3K/r7aFnmZ8lfq9VeicLVWAC+8UBHAceNIADOjWgKYGUbbxXa7HXa7vajzg4sXR9SSSW3apPDpp4WXeSnkfaoVAezcmfWzDukEcPr06XjyySd5T5sNGt7+QFgc3gOYSMMEULtCZ7enBXDduqgpgiKK6UzdfCVSzBZAbQSDMv797yjuuSeOU04xLjXTrVsS994bx7JlUYRCxgIYiUTUdm6lXH+lBfAvf1EE8O67SQAzg5cAZgY7csEksJDuJK++Kqq9to85Jonvvgubek1mJKWYFccco/x+vvqqkrnNPj5lyhS88MILvKfNBg1vfyAsDu8BTKQxEkBBSAvgV1+ZK4BsyzRXiZRSo5SWbdu2yZgxI4YrrkigTZvs1cEDD0zhkktkTJsWwS+/yL/fGwE2mw0+n6/k66+UAPp8PoiiiIsvVgTwzjtJADOjVgRQEAR4PB71iIF2SzizO4nfH8BDD6V/J7t2TWDLluLLvNQX5ZxJNDsOPVQRwDffDOoE8OGHH8Zrr73Ge9ps0PD2B8Li8B7ARJpUKqWuarEVOkmS1YKyn39urgDa7fayWquZKYDaCIeV7Of774/jT39KolGjbCHs1CmBMWPC+PDDCPz+0q+VJY2Y+fOzVn6iKGpKaMjq+USeD3MSQONgApj5ce35wd9+c+CaayLqGOzXL4a9eysj9LUkgK1aKb9/772nlKdiHx8/fjzeeecd3tNmg4a3PxAWh/cAJtIwAdRu0cqyjAMPVCbgxYvLF0C25Wuz2Uw572cU5fbszYw9e5SOKEOHSjjssOzt4v33T+HCC5N45pk4fvyxuFIzlWhdpxXAyy5TBPC220gAM8PhcNS8ALKw2QT065cu83LddRJ++61y3UlYwgrv+xIMCmqtz48/9usE8Pbbb8eiRYt4T5sNGt7+QFgc3gOYSMMEUJtJK8syjjhCmYDfeSdWspRIkqS2l2Jbv/Wd0ytHAAWhuI4dhYTb7caePTYsX+7H3/8ew/nnJ9G0afbq4LHHpnDTTQm8/34Mbjc/AYxEIhg8WMnivuUWEsDMqCUBdLvdOQVwy5YQunZNl3l5+OF0mZdc3Uk8Hk9Z3UnqE9Lq3RdB/bk//9ynK9tz/fXX4/PPP+c9bTZoePsDYXF4D2AiTS4B7NBBkZw5c0oTQEmS4PF4dFu+5W7T5otSWrYVKq8ul0t33s/plPHuuzHccEMCRx+dLYNNm6bQs2cSjz8ex7ffZq8OVkoA2RbeoEHi7220JFW+eT7QSQBziY6xAH77bVhNgmjWLIWZM3OXeamv3EwxMlgrArhrV1oAV6/26gRw2LBh+Prrr3lPmw0a3v5AWBzeA5jQwyRCu0J38snKA+iFF4oXQLblm5klaxUB1Mqrx+OB1+vN81oZ69dH8fTTcfz5z0k0b54thEcckcJ11yXw5psx7N2bXRLHjHC73bDZbHC73bjqKiVhYNSoSFZCAY/VQBJA43C73brtTUEQ8OmnETUhqXXrFD7+uLgyL+V0J8m3IlnN+PnnkPq7s2aNWyeAAwcOxPr163lPmQ0a3v5AWBzeA5jQYyRo3bsrAvjUU/GiRCQYDObMkjX7nJ42Cm3ZVl9EIhE4nU5VXn0+X14BzAyfT8bixVGMHRtHp07ZZwcbNUrhrLMSuOceAStXRhGJlP+zs3vO2tANG6ZsAV9/fRQ2mw1er9dQCMw8P5Yvak0AfT4f9+tgwqUVwNmzRbWTzZFHJvH11+WXeSmmO4mRkPKItWvTArhpk0sn7P369cPWrVt5T5kNGt7+QFgc3gOY0BONRrME7YILFHl55JHCBFC7aiYIxitxZm/TZgqgUcHmYkIQBNjtdni9XlVeixXAzNi8WcYLL8QwYEACBxyQvTp48MEpDBmSwKuvxrB9e3HfW5IkeL1e2O12uN1ueL1eiKKIa69VBHDkyGjWGcBcQlDJ1UESQONgwhUMCnj00XSZl1NOSeDnn80v81LfdrHL5aoJAVy9Oqzei+3b9Su25513Hmw2G+8ps0HD2x8Ii8N7ABN6jATwoosSvzdjr18AM1fNcr2ukgKYq2NHoSLl8/nUmnnaz7EHphnXKAgyli6NYvz4GE4+OWZYiPrUU5MYNy6OJUuiEITc30sURbhcLnXVj4mqKIoYPjz6e9ZoLG8SSC4hKGS7sJggATQORcLduOGGdOvF3r3j2LOnOv++0XYxO0Zg5vtfbCxblhZAm03/fp1xxhkIBoO8p8wGDW9/ICwO7wFM6GECqBW0K65I/F5LLr8A5tvyzQyztmlzCaDf7y/66+prSWemAGr/TZvNhu3bJcyaFcOQIQkcckj26uABB6Rw6aUJPP98DJs3p7+enbH0eDxZK5WiKGLUKGU16Zpr8gtgPiEotDtFIUECaBw7drjQv39a/q69Ngavl9/1sD/iCtkurmQsXhxRSy2xVnnsc126dEE8Huc9ZTZoePsDYXF4D2BCTywWyxK04cMVARw9OpFz1YxtPwpCYat6lRRA9pAq5msKaUkXCCiFaCshgFphjkRkfPFFFBMnxnHOOUm1Dpo2OnZM4pZbZLz1lhd79+o7qWgFcPRoRQCHDo2VlQUcCARMyS4lAcyObdtC6NYtvQr8t7+ly7zwCiZ7giDU252kkslE774bUY9H2O12dfwGg0F06tQJyWSS95TZoOHtD4TF4T2ACT1MALXbqDffnPhdIrIFkG35su3HQsWnnG3a+oLVwSv09Wzlsr6WdNUSwMyw2WS8/XYMI0Yk0K5dtgw2b55C375JTJ0axw8/ROHzKSuVoijippsUARwypDwB1Ea+7NL6VodqSQAzV5R4xJo1IRx3XFItGfTyy7nLvFQz8nVJ0R4XYO9/JY4LCIKAN94Q1UQY7fgNBoPo3LkzUqkU7ymzQcPbHwiLw3sAE3qMBPDuu5UOBAMH6gWQPUS1iRKFRimrdGYLoHblspCMX7wxiAAAIABJREFU5EoIYGbNxfoiEhGxYoUXDz0UQs+eCTRrli2ERx6ZxPDhEubPl3H99YoAXn65eQKYGbmKERutDpEApmPp0ggOPlh5/1q1SuL99/n2adZGMW3yjI4LmJVd/sorigD+8Y9J3REGEsDagLc/EBaH9wAm9DAB1Aragw/Gf+89mswSJ0EoLZGj0gJYX7ZuKSuXwaDSjJ6XAGq3qZlwu90yFiyI4eabEzjuuGwZZH2MTzopgSVL3PB6K1sIur7VIe244R08BfDNN0W1TmS7dkn85z/emqlJKAjl1Ug0szvJs89KvydEJXQCGAgE0LlzZ97TZYOHtz8QFof3ACb0xOPxrFW0J55QBPDcc5Mlb/kaSVox27TFRH3lWkKhUEkrlzwFUBCEerepJUnGTz9FMXVqBP36RdGiRbYQHnpoEkOHxjBrlojt280vL5IZbHVIm0xgs9nKblVmRvAQwGBQwOTJkirmJ56YwKZNoaJW3KoRZp2PLLc7yeOPKwJ49tlxNTOfXd9pp53Ge7ps8PD2B8Li8B7AhB4mgFqJmjZNOaB++umJkrd8jQSwnJp6+SJXtq4kSWof4lISUARB2RqrhADmkmlWlqaY1Vb28/t8IgYNiqpZxEarg926JXDvvTKWLo3A56u0/ATh8XjUFSGtDPAoNaJNKqhG+P0Cbrklnenbs2ccu3cL6rjaFwXQaAwU053kgQeUIwy9esV0Arhjxw706NGD93TZ4OHtD4TF4T2ACT1GAvjqq4oAnnBC3LTM3XKLKhcrgJIk5S3xwksAZVnOKYDasjTFrLays4qiKOLuu5UVlIsuiuP7752YPj2Cyy6LoXXrbCE86KAULrsshhdekLBpU2VWB7Uym0sGqlVqpJoC6HAIGDAgnek7dGgMHo9euGpJAKu1Olpfd5K77pJ/H796Afzpp5/Qp08f3tNlg4e3PxAWh/cAJvQwAWQSJYoiZs4Moq4OOOqoZEUlzazITNYopMRLrQlgJBIp+Zq1AjhunCKA/fvHdcLj9Qr47LMIxo+X0a1bwrAQ9YknJnDHHVEsWhSB222+AOaTgWqUGqmWAG7fHsJZZ6Xv8fjx2WVealEAq7k6KgjG28U33KAUgh40SPk9Ya/97rvvcOmll/KeLhs8vP2BsDi8BzChJ5FIqBLhdDpht9vx9tuKAB5ySMpyAlhMcer6IhQKweFwVEQAtauS7AFc6jWzn1+SJEyYIP+ewBPP+1D/9dcQZs4UcdVVMfzhD9l9i1u2TKF//zieflrCDz+UvjpYaBawUTJJvq3CWpWcH34I4fjjlfvZpEkK06dLhq+rlZqE1bw3hYyB4cOV8TtsWEQdA4899hiee+45DBs2rKQ5bs2aNejbty9atmyJgw8+GEOHDlU/t2XLFvTu3RstWrRAhw4dMGfOHLOm1n0S3v5AWBzeA5jQk0gk1O1StuXy739H1Wr8lZA0syMYDKpnqsrJVK6WANrtdoTD4bLPKBoJ4N/+pjxA+/SJF7ytFwgI+O9/w3joIRk9esTRpEn2dvFxxyVx441RvPtuBDab+QJoJAOZySSlZpZWS3I+/zysynSrVim8/34k52trTQArVTKo2LjySmXb/MYblT+UvF4vrr/+ehx11FFo0qQJevXqhcmTJ2PNmjUFzW+bNm1CmzZt8Oijj2Lz5s34+eef8eGHHwJQdj86duyIoUOHYuPGjZg9ezaaNWuG5cuXV3LKtTS8/YGwOLwHMKEnFoupD1m23blyZfrguiiaJ2lmZ9SyYBJVbqZyZoTDYdjt9ooIYCgUKvuMopEAPvig9Psh+sIFMDN27xbw1lsiRo6M4sgjs1cHmzVL4YIL4njsMQlffx3O28XCjDqA+TJLi1kdrKTkzJsnYv/9FXE+/PAkVq4M5319LQpgJTt8FBqXXqoI4B13SHA4HOrHFyxYgGuvvRYvv/wyBg8ejP79+xc0v11xxRUYPXq04ecWLVqEFi1aIBKJqB8bMWIEBg8ebMrcui/C2x8Ii8N7ABN6IpEIPB6PuoomyzK++y4tgB5PbQsgK/Fit9vL3vKtlgCyrS2Xy1XWGcXMeytJEiZOlNSMUzMO9geDAr75JownnpDQu3cc++2XvTrYrl0Sw4dHMXeuiF279F9fiULQuQoR15dMUikBfOqpdJmXTp0S2LCh/i1z3kWpM+9nrQhgnz5KCaoJE0SdAL799tu49957i5rbkskkWrVqhb///e/o1asX2rZtiz//+c/48ccfAQATJ05Ez549dV8zd+5ctG/f3rT5dV+Dtz8QFof3ACb0JJNJVaTYdufGjbL6cN+92xzpEQRzEyokSUIgEFBrzFViq7YSAhgKhWCz2XTFnc0UwEmTFAE877x4RVaZ7HYB770Xwc03R3HCCdmrg40bp9C9ewIPPCBj+fIw3O7KdwLJ7FurrTunlRqzBTAQEDB2bPqPpfPOi2cJcO77yP/MHYtaEsAePRQBnDQpohPAmTNnYtKkSUXNbQ6HA40aNULr1q0xa9Ys/PDDDxg9ejTatm0LQRAwZswYXHnllbqv+fTTT9GsWTMTZ9h9C97+QFgc3gOY0KMVQCY7O3akBfDnn80TQLMkTZIkeDwedSu1Umf1IhHlILpZ18y2qgttRVeKAD76qCKAPXpURgAzY926EJ59VsJFF8XRqlX26uAhhyQxeLCIGTNEbN1anULUfr/fsO6cmQLocgkYPDhd5uXyy2NFZU7XogDyLNLNomtXJXv6ySfDcDqd6senTZuGqVOnFjW32Ww2NGrUCDfccIP6sXg8jrZt2+Ltt98mASwB3v5AWBzeA5jQwwRQu9rldKYFcO3aqGkrX2ZIGutMot0+rXUB1AorK1FTKQFknRS6d09U/ZyZ2y3g448j+Otfozj5ZONSM6efnsC4cTI+/TQCr7c6clNo3+JCY8cOAeecE1d/prvukhEIFPc9SACNo1MnZdxMnx7SCeDkyZPxwgsvFDW3xWIxNG3aNEsczznnHEyZMoW2gEuAtz8QFof3ACb0pFKpLNkJhdICuGqVOQJoxnYqe3Bmlkup1Fk9URRhs9nK2qo1Elb2YKuEAE6erAjgn/5UfQHMjJ9/DuGFF8IYOFBEmzbZq4MHHpjCpZfG8NxzEn76qfKrg6w8UGYySTGlZtavD6Fjx4S63f3MM8ZlXgq5lloRQHaUohYE8OijlWMFM2cKcLlc6scfeuihkkq0nHXWWbjpppvU/04kEjjiiCMwb948LF68GC1bttQlgYwcOZKSQPLA2x8Ii8N7ABN6mABmyk6zZsoDe+lS/gLI2qPlKpdSqwKYqwex2QIoCMr5SkmSMHWqIoDduvEXQEFIJ4H4fAKWLQvjvvtknHlmQk2a0EanTgncdlsUCxdG4HSafy2Z59yMkkm0XSkyhWjFijAOO0wRlBYtUnjnndxlXgq5lloTQN7XIQiCWkbnzTeDOgEcN24c3n333aLnt/nz56Nly5aYN28etmzZgttvvx3t2rVDKBRCLBZDp06ddGVgmjdvjhUrVpg/0e4j8PYHwuLwHsCEHiaArEctW6U66CDlAf3RRzFTJKXU7VRRFOFyufK2RzPzrJ4ZAqhNUAkEAlmfr6QAPv20iLo6oGvX2hLAzI/v2BHC7Nkirr46hsMPz04m2X//FPr1i2PKFAnff5+/1Ewx0pVv2zdfMsm770bQsqXyO3HooUksX56/zEu511LNqCUBZPf4/feV0kbs47fddhsWL15c0hz3/PPP49hjj0Xr1q3Rp08fbNy4Uf3c1q1bdYWgX3/9dZNm1n0T3v5AWBzeA5jQk0sA27VTJuL5880RwFJkStvSLd/XVUoAM+9JoV/DClLnOudXSQF89llFAE89NVET7cYKKQMTCAhYtSqMRx6Rcf75cTRtmr06eMwxSYweHcX8+SL27Km8dGmTSaZODaJxY+Wajj8+gbVrg2Vvl9aSALLkJN7XEQwK6vv98cc+nQCOGjWKCjTXALz9gbA4vAcwkQ0TCW2PWlbi47XX+AggO5ju9/vr/RozzuqZIYCiKMLpdMLpdOb9GpfLVVbnj3wCOG2aIoAnn2wdAcyMPXsEzJ8vYvToKI45Jnt1sGnTFM4/P45HHpGxalVhq4OllDoJBATcfXf6PGz37jFs3qzfLi4lmaSWyq4IgiKAlS7VU0i4XGkB/M9/lLOa7HNXXXUV/ve///GeKhs8vP2BsDi8BzCRDRMJlqUqyzJOPVV58L7wgjkCWKhMFbKCVm0BLKS7CDuH6PF46r2OSgrg888rAtili3UFUC9LAr7/PowpUyT07RtXu21oo23bJK65JoY5c0Ts2GGOdLnd6bZkdXXAZZfF1HOJRn2Li0kmqTUBrESx7lJi5860AK5e7dEJ4KWXXqoWcK5Fbr75ZnTs2BEulwurVq2Cz+fjfUkVgbc/EBaH9wAmsolGo6oAMuk6++zk7/W44lWTKZYxW2xLt1K2aguNQgRQ+0AvREIrIYAOhwOSJOHFF0U1oYKtUO1LcuF0Cli4MILbbouqJUO00ahRCmeemcB998lYtiwMv7946dq1S8D556fLvNx+ezRvmZd8fYuNkklqqewKe4+0RZd5xebNIU35Kbdu7Pbt2xfbtm3jPVUasmbNGixduhR2ux0zZszAzp07eV9SxeDtD4TF4T2AiWyYAGrr0/XurQjgww+bI4D1yVSujNlaFsBSVitlWYbb7TZMDik1WB1ESZLwyiuKAJ5wQnKfFMDM2LAhhOeek3DppTEccED26mCbNilcfnkML70kYu1aR73S9dNPIXTpklBl8skniyvzEgwGEQgEDPsWe71eBINBEsAcsWZNWgA3bdKP3XPPPRcOh4P3VJmXVCrF+xIqDm9/ICwO7wFMZMMEUJuccMklykNw/HjzBFC7xayVKHYIvZxVsUK3as24ZllOZycXu1pZaQF89VVFADt0aBgCqA2PR8Cnn0Zwzz0yTj/duBD1Kack8Ne/RvHxx5Gszh1ffBFG27ZJNQv5rbfEsq9JW2pG25mE1SSsBQn0er01IYCrVoXV92nHDn0Ge9euXSEIAu+pMida+duxYwe/C6kwvP2BsDi8BzCRTSymnPPTbk0OGaI8QG+7rXICKIqi+mA0kqxaFUCWnVzIeb9qC+Brr0VQVwcce2zDE8DM2Lo1hBkzRFx5ZQyHHJKdTNKqVQoXXRTH1KkS/vEPUS1BcsghSSxbVl6Zl1zBVgdZVxIzOpOUG6z0Dc9xIghKnUj23tjtegHs3Lkz4vE476nSkNWrV2PGjBmw2+346aef8NJLL/G+pIrB2x8Ii8N7ABPZGAngyJGKAI4alTBNVLRbzNoSL2Zs3eZaqTPzmmW5uOzkfALo9/srIoCzZysCePTRJID66wjik0/ceOABCd27J9SyLpnRoUMSa9dWtiuJtkZkZjIJ+52o5upgrQjgokURtci2tlVeMBhE586dkUwmeU+VWaxfvx47d+7E3r17cfzxx2PAgAGIRqO8L6ti8PYHwuLwHsBENkwAtStTt96qCOBVV5kngOwhY4ZEVVsAWTcSJjPlfE+WHFAJAZw7V9kCbt+eBFAbmefudu4U8MYbIoYPj6J5c2V1sEmTFH79tfIt6XIVXs6XTBIIBComhOy8Iu/36J13IuoKbKYAdurUqUGcsat1ePsDYXF4D2AiGyaAWjEZN07Jgrz0UnNXAFnbLUEwrxCyVtQqIYCCINTbjYSnALISNKIoYu5cZRvtiCOSqjzwfKjXqgBq49FHZfV8YDWupZDOG/mSScxeHfR4PLq2a7xizhzlj5ejjkrqMrbZCiAJIH94+wNhcXgPYCKbeFw55+f1euHz+SDLMiZOVASwT5+kKZLCavWZJVHVFEBW482s1cpKCKDNZoPH48Hs2V61XRm7bp4P9VoRQCZdRuI0aZIigOefH6/KtZTSeSNXMkmuUjPFRK0I4MsvKwLYsWNCJ4CBQABdunThPU0SIAEkyoT3ACay0Qqg1+uFLMuYMkURwHPOKV8AWYkXtq1jtqTJsvnt1WRZqa/HxMrMItNa0TbzOp1OJ+bNC6nbaCzJgK28lisKpYQVBHDiREUAL7igdgXQ6OfR9i222WxqqZlik0ncbndNCOAzz0ioqwNOO00vgHa7HV27duU9TRIgASTKhPcAJrJhAujz+VQBnD499vtkXLoASpKkO/DucrlMzX6tlACy835Mnsws2my2ALLtX1YH8b33Imr9O5fLBbdbKaibea6sWlmnVhDA++9XBLB37+oJoJn3RNu3uJRkErfbzX2lWBAEPPaY9PsfnXHde/Xrr7+iR48evKdJAiSARJnwHsBENkwAWUaiLMuYOVMRwD/+sTQBlCQJHo9Hl5xh9tanNszqrpFZmsbsrh1mCqAgKCt/Xq9XbYW3YIEigK1bKwKoPQNo1MKs0quDtSaARp+bMEERwH79rCmAmREMBg2lP1cySa0IYFrEYzoB3LBhA/r27ct7miRAAkiUCe8BTGSTSCiJHoFAAG63G7IsY948RQCPPDJVtJiwlm4ul0tX4qXWBTASiWSVpqmEAGpXWksJbfFsQRAQiURUAVy4UEkCOeCAbAHMJwrlbiPmCisI4Pjxinj0718dAazmPdFKf65kErZSzPs9uusu5X24+OKY7r369ttvMXDgQN7TJAESQKJMeA9gIhsjAfzww5i6lVjsqpTdbofP58s6N2f22TdtlFtcOdd1m120uVwBZCur2uLZWgH86KOwWkutPgE0EgWjbcRyVgetIIB3350Wj2pcC897ok0mYauDbIWQxxlRbYwZE0VdHXD55VHde7VixQoMGzaM9zRJgASQKBPeA5jIhgkgWw2QZRlLliiT8X77FSaAhdTJK3flqxICWF8ruloSQFEUDVdWtQL48ceKADZvXpwAGomCGauDVhDAO+9UxvqAAdUTwFpovcbuC8t0z+xbXO3OJMOHK+/DddfJujHzySef4Prrr+c9TRIgASTKhPcAJrJJJpPqKpjT6YQsy/jyy6jaHSEcrl9MCqmTV0kBLGV7WZKkelvRVWLbupT7wJI9jDKStQL46afKGcCmTcsTQG2UszpoBQG8/XZlrA8a1PAEkP3Oezyeiq0CFxpXXKHsOtx0k6QbMwsWLMDYsWN5T5MESACJMuE9gIlsmACyjhKyLGPNmrQAulz5xaTQvrjaJBPeApjrnGI1BLDY+yAIQt7OKVoB/OwzRQAbN05V7GwXK0FitDqYKQm1IoD5Sq/ccgvbemy4AmjUMSZXMkmlVgcvvlgRwDvvlHT356233sKECRN4T5MESACJMuE9gIlsjARw0yZZFcCdO41Xz9iqSqEt3djqQiUEsJjzhawuodfrrfe6eQog256ur3MKK7ItiiKWLQur75vTWfnD/blWjdh983q9NS+AN92kCOCQIdURQK/XawkBNHqfM5NJzOxb3Lu3Unv0vvsiuvszY8YMPPLII7ynSQIkgESZ8B7ARDZMANk2oyzL2LUrLYCbNmWLCSvxUkz3DW2SCQ8BrO+8X7liaaYAGiV7FCKA//lPWgAdjupndxqtDrJSNTwTDPIJ4A03KAI4bFj1BLAWeu+ycDgcRfeMNkomYVvJpW4Xn3OOIoCPPBLR3Z9//OMfeOqpp3hPkwRIAIky4T2AiWxSKSXRg20lyrIMtzstgGvWRFXZKHTr1Ci0SSZmR33n6ozqEvISwPpEOFeyRyECuGJFWgBtNr713YLBIDwej7oqaGb7smIjnwCOGqUI4LXXNlwB9Pl8ZX2PzM4k2mSSQt/n009PoK4OmDo1rLs/TzzxBF566SXe0yQBEkCiTHgPYCIbJoBMJCRJQjicFsAvvlAEUBCEgrdOcwkgSzKppgCWI62VSFzJJ4BsFbaYe6wVwC++SAvgnj38C/xqzwCaIQmlRr7iyyz7dMSIaFXuyb4ogNr4f/bOPU6m+v/js9aSRaV0QReqXUsiFTYhQqR8Q8r3iyjX+kWlm5QI3/AtFSVKbttNKpVL0m1JcqnkLvdLmJ3ZuezMmTkzZ66v3x/H58yZ++3MfObk83o83g8Pu2OdPfPZz3nu+/N+vd/R5hbHM5MUFYkA+NZbtqDRdC+++CKWLFlCe5tkAgNApjRFewEzhSsSAAqCgBo1/NBogHXrXEkfnUYKjuMyBoDRjlWTqfejDYBWq1Uam5fMtcrft02bAgB48mRuAWAoJMSqHVQaCGMB4MCBovng4YezA4Ckjo7m+yIP0v8yU18/UllAJDPJFVf4oNEACxZwQQD41FNP4bPPPqO9TTKBASBTmqK9gJkiSxDEY1KSSRIEAfXqiQD48ceWhGrR4oXcZJJpAAydQ5zq180EAIYehSfSQzFWyN+3LVsCAHj8eO4CYDRIyFR2MBYADhggAuDw4ecuAFZVVWXl/4o0jpCYSS66SATADz+0Bq3bRx99FGvWrKG9RTKBASBTmqK9gJkii8CEVquVevk1bChuyO+/b0366DTbACjPqjmdTsl9moxJJRGwVBoA5b0IY/VQTBQAt20LAODRo0bVAGAoJEQ6QkwnOxgLAPv3J/3nsgeA8gwX7SBOfhr/N3mvKysrcd554i+cy5ebJGOKxWLBkCFDsH79+pT3tnvvvRd5eXn46aefpI8dOnQIXbp0Qa1atdCkSRMsXrxYgV30ny/a/MCkctFewEyR5XKJdX7EJGG1WnHNNZ6zRzJuRcBH7jLOBACSGr/Kykro9fqUgSpbAJhObWI0APzjjwAAHj6sTgAMjWjZwWTaj8QCwH79RAB85BEGgLTCYuGkdbt6tfjL25IlS9CwYUN06tQJ06dPh9lsTnpfW7x4MXr27Ilq1apJAOjxeFBUVIQBAwZg3759WLRoEQoKClBeXq70tvqPE21+YFK5aC9gpsgiAKjVaqXWDi1bikXZc+YoB4DEZax0EINJtGkZ6YCl0q1r5Neaam1iNADcvt0mPUgPHKAPGko3gk41OxjrOvr0EQHwsceyA4AGg4H6+yIPUiZB8xp0ugAA/vSTSTom//LLL9G+fXtcd911yM/PR2lpKTZu3JjQnnbixAlcffXVOHPmTFAGcOXKlahVqxZ4npdeO2TIEPTt2zcje+s/SbT5gUnlor2AmSLL5XJJZgJyHFlaKh4BT5/uUQR85G1mlA6TyZSSgYIGACp9rXIA3LkzAID79//zADA0Es0OxrqO3r3JBIpzDwDlxiOa13H8eAAAN282Bo0w7Nq1K44dO4bTp09j8eLFOHToUNz9zO/3o3PnzigrKwOAIACcOHEiOnXqFPT6srIyNGzYUPmN9R8m2vzApHLRXsBMkUWOZysqKiSn7x13iAA4caIyABjqMlYiSL0fAVelwVJJACRmD6WvlQAgz/PYvTsAgHv2/PMBMBRmojUnJv0II/07MoJs3DghK9dpMNA358jvGXH307yO/fsD63bHDkNQY+rS0lLo9fqk9rNZs2ahd+/e0t/lADhq1Cj0798/6PVr165FQUFB+hvpP1y0+YFJ5aK9gJnC5feLc2MtFgv0er0EgL17i0fATz+dmwAor/ezWCwZAUClmlfLzR7kPit5nQQA9++3ywDQfE4BYGiEZgfJzOLQ7GCPHmKt6zPPMACkFfLShb/+Ch5N16pVK9hstoT3s7/++gsNGzaETqeTPsYAUBnR5gcmlYv2AmaKLFIDWFlZKQHgAw94zxbHexXNVCnhKLbb7VLtl9PpzJjDWAkADDV7ZOJaCQAeOBAAwJ07z20AlAdxhUfKDnbtKmYAn3vu3ANA0iqJNgD+8ktg3Z44EdyYumnTpvB6vQnvZUuXLkV+fj6qV68uRV5eHqpXr47BgwezI+A0RJsfmFQu2guYKbLcbtHoYTAYpL55Dz3kPTshQVkATNedS7IWVVVVUjYxUw5jjkuveXWkRtSZBMDDhwMP0j//ZAAovw6dThcEPsRo0KmTOPXm2WftSTmLU43KyuzPaI4WuQKA33/PQ6MB8vL80GoDjamtViuKi4vh8/kS3susViv27dsXFHl5eVi8eDHOnDmDVatWobCwMMgEMnToUGYCSUC0+YFJ5aK9gJkiiwAgcVMKgoDHHhOPxu6/XxkAlINKqgAZrWFyLgKgvMA+FAozBYBHjwYA8PffGQDKr0MOgPLo1Elc588/bw/LDlosFsXhqLKyMsjkQDMIANK+jq+/FgGwsNAf1JiaAKDf709rf5MfAbvdbhQXFwe1galZs2ZavQbPFdHmByaVi/YCZoosj0es8zOZTDCbzRAEAc88Iz4Ye/VSDgBJn8Fk/x2p94vWMDlTDmOOSx4A5aAaqRE1yQoqDYB2ux3HjwdqqbZtYwAov45oANihg7jOJ08WJCgi2cFU+w7GilwCQDLikfZ1LFvmgEYDXHyxL6gvodVqRdOmTdMGQHkfQAA4fPhwUCNoNms4MdHmByaVi/YCZoqsSAA4aZL4YOzc2acYqOh0uqSnc5B6P4PBENVAkikATDZbl8hkj0xkKwlYnzwZAMAtWxgAyq8jGgDeequ4zqdODa8BjOUsTjU7mGsAmAvvz6JFIgBeeaUvqC1NVVUVSkpKaG+PTGdFmx+YVC7aC5gpsggAymffzpwpPhjbtaMHgBwnNqo1m80x3cOZaDGTLAASs4fBYIhpdMkkAJ4+HQDAX3+toj5zNlcA0GQyRQXAtm3FWtdXXnHG/BpWqzVidtBgMCSVHSQASfueEMDKhfdn7lwnNBqguNgbBIBnzpxB69ataW+PTGdFmx+YVC7aC5gpsrxe8ZhXPvrs7bdFd2SLFsoBIAGSeK+T98xL5PWZAsBEYS2S2YMGAGq1AQDcuJEBIIlYAHjzzSIAzpgRGwBDI152MNq/yyUAzJX357XXRABs1cobZEo5cuQIbrvtNtrbI9NZ0eYHJpWL9gJmiiw5AJLGxwsXigB4zTX+rAKg/Bg10XpBJVvMJAtrpJA+1OwRLTJxXE0AUK8PAOCGDQwAScSJNNb7AAAgAElEQVQCwNatRQB89dXkAFAeyWQH9frgPne0359o9yWbMXWq6MS+9VZPEADu3r0b3bt3p709Mp0VbX5gUrloL2CmyCIAKJ988cknIgA2aKAcAMr7DEaDI1LvlwzM0QBAMoUkmtkj2wBos9lgMAQAsLzcwgDwbJCG0JE+R2Zev/566gAYGiQ7WFlZGZYd1Ol0DABD4vnnRQC84w53EABu3boV9957L+3tkemsaPMDk8pFewEzRRYBQHnj45UrRQC84ALlAFDeZzA0OI5DRUVF3Hq/WACYbo/BRGHN4XDAYDBAr9cn/X9mAgBJbaXZHADAH39kAEgiFgBef70IgG++qRwAykOp2sFM3ZdcAMAnnnCd7TjgDnIll5eX4z//+Q/t7ZHprGjzA5PKRXsBM0WWz+eTIIy0Pfn+e3FTrl49swDodDqldhSxsoPxIlsAKM9SplJzmIl6RQKAFksAAL/7jgGgHHSi3YuSEhEA33orMwAYGqStTKTsYKzawWzfl2zGyJHiXnPffa6g9bJmzRoMHz6c9vbIdFa0+YFJ5aK9gJkiKxIAbtrkkmDCZlMGVOSNpgn8JVvvFy1S7TGYDKwRs0cqWcpsAKDNFmgEvW6dlfrDXQ0AWFQkAuA77ziyci06XWDUmdVqlYxXNLKDuQKAgweLpw0PPigErZfPP/8cY8eOpb09Mp0VbX5gUrloL2CmyCIAKG97smNHAAD1emVARd5nMHRGbrpfO9MAKB+bpSRUKgWAVqsVOp0OeXl+aDTA6tVV1I/31ACA117rg0YDzJ+ffQAMjWi1gyaTKSPZQQKetN+ffv1EABw1yhm0XsrKyjB+/Hja2yPTWdHmByaVi/YCZoosAoBy08OBA4IEgMeOKQuAybRNSTYLlgkATMXskU0AJLBgNBpRvboIgF9+aYRWq1V0ikWyoQYAbNxYBMAFC+gDoDzk2UGdTpeR7KDRaKTeLJzjONx1l9hz9IknnEG/tMyfPx9TpkyhvT0ynRVtfmBSuWgvYKbI8vvFOj95zdvffwcAcN8+5QCQHHWlm0nLBgCS+xFrskeyobRjmcwcFrNEdmg0IgAOHuzAli2VSfepUzJyBQBjZbquukoEwEWLsgOApIQg2X+XieygwWDICQDs3JnMY+aDAPCNN97ArFmzaG+PTGdFmx+YVC7aC5gpskIBUGxxEgDA3393KQI+JJOh9FGtICTeZDoZ+CPXq6S5RCkAlM8c1ul0OHXKKj1I5VFc7MXYsS6sXm1DRUV2a83UAICNGokAuHRp9gCQzLpNNSJlB4kxKZn3M1cAsF07sQ5zyhQ+6H2aNm0a5s2bR3t7ZDor2vzApHLRXsBMkUUAUH486XAEAHDDhvQAkNT7kYeU0vCnNADKzR65CIBOp1N6+PM8jz//NKB5c6/0fjVs6MWll3rDYPCCC/zo18+N995z4PDhqozXmqkBAC+/XATADz9UDwCGRqrZQYPBAIPBQP39Ib0YX33VFvQ+vfDCC1i6dCnt7ZHprGjzA5PKRXsBM0VXJDg57zzxOHHt2tQBUF7vJ580onTEazKdKFiFmj0y0V4mna/pcDhQWVkJvV4Ph8OBX38VcNll4gO0Rg0/Fi0S2+qcOaNFebkJL7zAo00bt2QOIZGX50fbtl689JITGzdaYTAEZ5OIYzud7GAuAWC0TNcll4gA+Mkn6gVAecTKDoa+n5WVlTkBgNddJ74Hb79tC3qfxo0bh88//5z21sh0VrT5gUnlor2AmaJLDoAETi6+WISGFSvcacGUxWKR/p6rACif7CE/os4lACTH0kajEU6nE5995kJhofgeXXSRD19/bYJWq4VWq4XBYDjbGsYGjuNw+LAF8+bZcO+9As4/3xeWHWzUyIdhw1z49FM7Tp0yBR0Vp2okUQMAXnSReC+WL+ezci1arTajABgaVqsVJpMpYnZQr9fnBACSY/gFC6xB79Po0aPxzTff0N4amc6KNj8wqVy0FzBTdLlcrjA4ueIKES4++CA5AIw2Jk0+aUTpiDVlJF7Is2qhYJaJ9jKpAKD8WNrhcOJ//wtk9a67zoddu3iYTCbJDUwAjgCj1WqF3W4/OzLOglWrODz2mANFReF1g+ed58edd3rw+usO7N5dlbKRRA0AeOGF4j38/PN/JgDKI5azON1sbzpRr574Hnz0kTUISB988EFs2LCB9tbIdFa0+YFJ5aK9gJmiiwCgHHiKi8XfzN99N3EAjAVTHBdoNJ0rABhvskemADCZryk/lrbbBYwcGYC2Dh28OHnSLjXU5jgOPM+D53nY7XYp60oAjjzsSXbQYrFg+3Yrpk+3o3NnFwoK/GFAeP31Xjz9tIB162zQ68ONJNHgQQ0AWLcuaZuTPQDM9sSPaKHT6aRenNnoOxgtSKnJF19UBQFg//79sW3bNtpbI9NZ0eYHJpWL9gJmii4CgPJ2Kjfe6Ds7JzUxACR9BMkRZejnOS5zABg6ZSSR4Lj484cz0V4mUaiUO31tNhv0eie6dw+YO/7zHw+MRrFwXq/Xw2azSfAXGna7XToOJNkfvV4f1pLk77+r8MEHNgwaJODSS8OPii+6yIcBA9xYtIjHsWPBRpLKykqYTCYJBtUAgOQIfeXKcw8ACexxXHK1g0qGxcJJa+ubb8wwGo3S5+6++27s27eP9tbIdFa0+YFJ5aK9gJmiiwCg3E3bvr0IAP/9rycurJB+dKTeL9Jr5JNGaAJgMpM9aAGgfEwez/M4dMiJ668PANnEiS5YrZyUhbPb7VHhL1LYbDZUVYkAR7J55GiXHBWbzRb89JMVzz3nQKtW4UfF+fl+3HabB1OnOrF1qxWVlYYgeCBfm9bRIolY7U5q1hQBcM2azAOg/GeENvyFAmCkayW1g6SulAC+ktdfUREAwPJyUxAAdunSBcePH6e9NTKdFW1+YFK5aC9gpuhyu91hANitmwgcL7wQHQCj1ftlGwDlY+bigZXRaEw4C0eOVbMJgA6HI2hM3q+/CiDtSmrU8GPx4uAG0MnCX6TsoMVike4LedjLj4qtViv++suCOXNs6NXLhdq1w4+KGzf2YfRoF7780g6t1hRUZ0ZzIkksACSTU7799twDQJ1OFxUAQ6+bOPiVzg4eO2aT1s+WLcag62nXrh0qKytpb41MZ0WbH5hULtoLmCm6CADK3bT/+pd43DhuXGQAjFXvFynko+ZoAGBoC5VEvq7SDaYJVEaDZbvdHsPp68cPP4htXoiZIB3wiwaDHMcFTW0hmSL5g16vt+CLLziMGuVE48bhPQdr1/bj7rtdeO21KuzbF24kyWadWSwAJEaa777LHgDSzojKATDVqSRKZQf37QsA4M6dhiAAbNmyJXiep701Mp0VbX5gUrloL2Cm6CIAKDdT/Pvf4oN99GhvXFBJBHzko+aUDrPZDJPJFBM+k73ebAMgxwX6xMVz+lqtVsXhL9ZRscFgCDJ+yI+Kq6os2LrVgilTeLRv70Z+fnh2sHVrL8aPF1BebkNlZXbrzKIBoNUaOH784Qc7A8AUv6d0soN//GGX3oMDBwI1qVarFcXFxfB6vbS3Rqazos0PTCoX7QXMFF0ej5jlk9fSDRvmPTtXNhgAyYOsqqoqKZiSj5rLJgByHJfS9QqCMg2mEwHARJ2+xFSRDfiLZiSRGwXI0a685+Dx4xYsXGhD//5O1KsXbiS59FIfBg9248MPeZw4ETmTpCQkRZt4YTbL68/OPQBMdS5xrLBYLFGzg5G+740bAwB48qQuDAB9Ph/trZHprGjzA5PKRXsBM0VXJAAcM0aEkPvuEwFQ7krluOSzYvJRc0oDIHEwyj/mdAaOS1O53kwBoDyrGFpDmY7TN9shQpRZetjLew6SMXp6vRHffmvFuHEOXH99uJGkoMCPLl08mDnTie3brWGZJCUmkkQDQIMhAIA//5x5AJRDPm34IwCYjakksd7T777jpck0Wm1FEAA2bdoUfr+f9tbIdFa0+YFJ5aK9gJmiiwCgvJbuuefEB/Zdd3ml+jniSk0FfJSYg5soACZr9qABgPGcvi+9JDp9iaM2XbNHprODpOcgyfzo9fowI8nu3RbMmmVH9+4uqf+bPIqKvBg71oVVq2zQ6UxhPQdTMZJEA0CdLgCAmzYxAMzG9y/PDlZUVGD58iqpZlR+PVarFSUlJQwAc0i0+YFJ5aK9gJmiiwCg/Cj15ZdFAOzY0SvV9aQDb5kEQPmYuVTMHtEinQkjsQDQYrEk5PQl7VlyGf7kEGg0GqXj9ng9B8+cqcKnn3J46CEnGjUKN5Kcf74fffu68e67Dhw6lLqRJBoAarUBANyyJXsASBv8At8//akkZWVWaDTAxRd7pePiI0eOwGAwoKSkJKk97JVXXsFNN92EOnXqoEGDBnj44YdhMBiCXnPo0CF06dIFtWrVQpMmTbB48WIlt9F/tGjzA5PKRXsBM0WX1+sNy6S9+qrnbAG/K2az5GQBMNUMYiIAmKrZI5sAqNPpghpmZ9vpmyn4Ixni0GPqRHoOVlVZ8MsvVrz4Io+2bQPmFxJ5eX60aePFxIlObNxohcGQuJEkGgCeOhUAwN9+OzcBkHZLmoULHdBogCuv9Elg3717d9SvXx/FxcVYtmwZTCZTQnvY3XffjU8++QQHDx7E77//jnbt2qFr167S5z0eD4qKijBgwADs27cPixYtQkFBAcrLyzO1rf6jRJsfmFQu2guYKbpCAdDpdOKNN8QC7ebNw13AqUamANBqtUpAkIrZI1qkMmEkVpAHr5hNdWLmzADsFBUFO30tFgt1sEskxNrFxGoUE+k5yHEcjhyxYP58G/r0EXD++eFGkkaNfBg2zIVPP+Vx6lRs00FlZWVEADxxIgCA27fbMg478npU2pErPQnfftsJjQZo2tQrXY/RaMSyZctQVFSEli1bIj8/H126dEnaELJlyxZUq1YNHMcBAFauXIlatWqB5wOtZYYMGYK+ffsqupf+U0WbH5hULtoLmCm6CABaLBbpgTl3ruVsg1+/YgCUidm6pJYuHbNHNgCQZIDEBrzWMKfv33/Td/qmAn+p1ihG6jlImhMTeLPZbDAYLFi9msOYMQ4UFYUbSc47z4877/Rg1iwHdu2yBJkO9Hq9dH2h2UF5E+IdOxgA0oj//U8EwBtv9AbVR+7cuRN33nknAODUqVNYvXp10nvad999h8LCQgkcJ06ciE6dOgW9pqysDA0bNkx/Az0HRJsfmFQu2guYKbrkGUCSRfnkEwEaDXDZZcoBoNKj1eRmj0xMGTEajQlNGIl3jcTpa7fbcfSoAV27ulXh9I0VHMcpWqOYSM9Bi8WCP/+0Yvp0O7p0caFGjXAjSfPmXjz1lIB162yorDRJmcZQI8nhwwEA3L07OwCYC7OR5QBI25AyZYq4x9x6qyfoerZs2YI+ffqkvJ+5XC60adMG//d//yd9bNSoUejfv3/Q69auXYuCgoKU/59zSbT5gUnlor2AmaLL5/OB4zjpQel0OrFqlQsaDVC3bm4CoHxkGjFVKA2AiY6YiwV/BoNBmpZy8KATzZoFslhkpq8anL7yINlMs9mckWuO1XOQ4zjpqPjvv6tQVsZh8GAnLr00/Ki4Xj0/7rvPiffes+LYMbEOkQDhzp0G6XX79jEApBHjx4sA2LWrOyg7+tNPP2HgwIEp72X9+/dH27ZtwfOB414GgOmJNj8wqVy0FzBTdJEefeQ4ThAE/PijCIDVqvnhdCoDVEpN1gg1e2RqznA6AMjzfJjT97LL/JLTd968qqCWKRynjmNfGgYVjovec5BkB81mC8rLrRg/nseNN4YfFefn+3HbbR5MmeLEli1W7Nhhlh0BV2Z8Iom8hybtyJWWNI8/Lu4xd9/tCgLANWvWYMSIEUnvY36/H4MHD0bLli1hsViCPseOgNMTbX5gUrloL2Cm6PJ6vdKDlIDU5s0u6QFptSoHgOn21eO48MkemQLAeCPmYgFqRUUFTCZTVKcvaZZMWtaEtkvJtWyg3W7P+ii6aNdBXN8km0fgTd5z8MABC+bMsaFXLydq145sJAkAoDnIpUyyjUoCUi4CIO3rGDFC3GP693cF3Zvly5fj8ccfT3ofe/jhh1FcXIzKysqwz61atQqFhYXg+UBWcOjQocwEkqBo8wOTykV7ATNFl9/vDwIXQRCwc2cAACsqlAGqdBorx5rsIb9u2gAoB9RknL5iFit6los2/JFaS47LnUwlOSoO7TlIjCQ6ne5s2x0zVqzgMHq0E40bh/ccLCz04+673XjrLQf277eE9RwkbWvSBUCdTkcdujgudwwpgwaJtbAPPigEAeDSpUvx/PPPJ7WHjRo1Cpdccgl+//136X3X6XSSCcTtdqO4uDioDUzNmjWxfv36DOyo/zzR5gcmlYv2AmaKLgKAPC/O6xUEAYcOCdID8sgRZYAq1b56xOyh0+kiuohzAQBDAdVuFzBiROAosmPHxJ2+sbJc2YbBWD3+ci1Cew6S+xbac3DrVgsef9wRBoIkbrzRi/HjBfz0kw2VlUZFJpIwAAyPfv1EABw1yhl0b+bNm4dp06YltYfl5eWhWrVqUpC/nzx5UnrN4cOHgxpBL1myROGd9J8r2vzApHLRXsBM0RUKgE6nE6dPBwBwzx4XNQCUmz2iTfaQg6uSEWnGcDT4kzt9Q2f6Dhzogdlsl9qSJANS0bJc5Kg400BF3Mm0s5DJXLNOp5NG0UXrOfj773bp/Xn7bRseeEDAxReHHxVfcokPgwa58cEHPE6cMAcZSZKZSJJrAJgLx9E9e4q/ID35pCPo3syaNQuvv/467W2RSSba/MCkctFewEzRRQCQmEGcTifM5gAAbtumDAAm21ePZPbiTfaQg2u2AVA+eo7nRaevfKbvpEkucFzq/fIiAU42joo5jpOmbKgF/jiOk7J08muO1HNw/XqjrMRBzA6aTBasW2fFuHEOtGgRbiQpKPCjc2cPZsxwYvv2YJcyeR+iGUkIwNOGLgKjuQCAt98u3uMJE3jJCMVxHKZOnYr58+fT3haZZKLND0wqF+0FzBRbJJNF5vU6nQEALC9XBgCTcdWSVhWJTPaQg6uSACifMRwNPPV6PQwGA5xOJzZtCnb6LlmS2Zm+oUfFob3zUv26aptDLIe/RK7ZZrNh48bAJJCjR8N7DlqtVuzZY8Hrr9vRo4cLtWqF9xy87jofxoxxYeVKGyoqTEFHxaFGklwDwFy4ljZtxCz51KnBADhhwgR88MEHtLdEJplo8wOTykV7ATPFlhwAeV4c10acq2vWZA8AxexjIEORyNelAYChTt/lywOQcNFFfvz4ozOoX16mASjSUTGBkGSOnLN5zUoF+WUhmWvetClQA1hZGb/noFZbheXLOTz8sBNXXBFuJDn/fD/69nVj/nwHDh6sCjOSkON/2tCVSwB4ww3ifXz1VRsqKyuljz/xxBP44osvaG+JTDLR5gcmlYv2AmaKLZdLhDw5ANavLwLN55+7FQGqeKYK0jhZp9NJ15BIyDOXSgNgZWVl2MdFIBBdvNGcvqTNC62ZvuRBH2nMWrQMGY0ef+kGAdZkr/nnn52yNkfh9y1Wz8GqKgs2bbJg4kQe7dq5Ua1acHYwL8+PNm28mDhRwMaNHAyGQB1iOkYSpSJXspHXXiuWSsydGwyAo0aNwtq1a2lviUwy0eYHJpWL9gJmii0CgPJ5vVddJT7YysqUA8BoNXU8z8c1e8QDwGSgMZGwWq1BAKik0zebYbfbY45Zy5Uef8kGeS9Sgezy8gAA2u3R71u8noMcx+HIEQvmz7ehb18BF1wQbiRp2NCHIUOc+OADM06fDjaSVFZWBs0/zhYAyo9caUXDhuK9ev99KwwGg/TxwYMH4+eff6a9JTLJRJsfmFQu2guYKbYIAMrHtZWUiBv0vHnKAGA0U0XocWoqXzvTACifO0ycvt26hTt9c71lSqQxawRGaGUrU/ke0gXWH390Stm6ZO5bpJ6DcqgxGi1Ys4bD2LEONG0abiSpWdOP7t09mDXLgV27LFLGOxEjyT8NAC+8UPwF8+OPLUEAeN999+H333+nvSUyyUSbH5hULtoLmCm23G63BIAcJ9be3XSTCICvv+5RBKgi1dSR+i2LxZJWDZ9Wq43YIzCd4DgOer0+yOnrcDgy7vTNJkjp9XpUVFSEHRWLGc7c+z6Uakr93XciAFavnhgAhkZoz0FiQJEbSSwWC3bssGLGDDu6dBFQo0a4kaR5cy/GjRPw7bc26PWxjSRKhdFozAkArFlTvB8rVlQFAeBdd92F/fv3094SmWSizQ9MKhftBcwUWwQA5fN6b7tNhJxp05QHQLnZg2Qc0wn50bWSAEgmCtBy+mYqIvX4I1AjPyqWQw3ta7bb7VLGLN0M69q1Tikjp8R1WSyWqD0HSbbyxAkjPviAw4MPOnHZZeFHxfXq+XH//W4sWsTj6NFwI4kSE0kIAMpr7mhEVVXAhb12rVgaQj53++2348SJE7S3RCaZaPMDk8pFewEzxRYBQPm4tjvvFB9Szz+vDACSI9VUzR6xQn50rVSQGrNEnb65AEmJBAHbWD3+5EfFkaCGBvwpeby+erVTGgOn9HVyXHDPQVI7KDeSmM0WrF9vxfPP82jdOvyoOD/fj/btPZgyxYktW0QjiTxLS2oRU8kO5gIAarUBACwvNwYBYNu2bWE0GmlviUwy0eYHJpWL9gJmii0CgPJpHX36iDVuTzyhDAAS8EjV7JFNACRH0xUVFXA6BcyYkXtO31QilWxlJKiR179lGnzJUbWSE0m+/loEwLp1lQVA+TWTzJ/JZIpqwCE9Bw8csOCtt2zo3VtA7drhR8VXX+3DqFEurFhhx5kzpqBxd8kaSQwGA3UAPHrUJn1vW7cag2opW7RoAYfDQXtLZJKJNj8wqVy0FzBTbHk8HgkAybSO//xHBMCRI70Zyagpma2TH12nE8TpW1FRgaqqKpw+rQty+nbqJDp9SWZMTa5ZpXr8xat/U/KayWg3pWsrV6wQAfDCC5UHwGh1ipEMOJF6DlZWWvDllxweecSJJk3Cew4WFvrRq5cbc+Y4sH9/8kYSg8EQVHNHI/bsCQDgzp2VEgBarVYUFxfD6/XS3hKZZKLND0wqF+0FzBRbBADl49pGjPCedbgmCIB2O4T9++Nm1JQEPyUBkDh9dTod7HY7zpyxoXPnwESUQYPU4fSNFJnKVsarf0vna3Nc5NFuSsTnn4vv68UXK38EnGidIscl1nNw2zYLpk3j0aGDG9Wrh2cHW7Xy4rnnBPz0kw0GQ3wjSS4AoHwW88GDgdnWVqsVTZs2hc/no70lMslEmx+YVC7aC5gptggAyqd1PP64mPnq2zcBAHQ44O3VC36NBt677oL73XchnDoVZPYgmbVMAKC8djGViOz0DWRfJkzgYTZXSQ9VtdT7kaPIbGQrox0Vk4d7MveMwF+mjDWffioC4CWXKAeA6dQpJtpz8MSJKixezGHAACcuvjjcSHLJJT4MGuRGWRmPEyfMYUYS8t7QBsCffw4A4IkTFWEA6Pf7aW+JTDLR5gcmlYv2AmaKLQKA8mkd48eLANijRxwANJng7dsX/oYN4a9TB56pU+Fr0wb+/Hy4S0vBvfwyHHv2SP3+cg0AeZ6P6vStWdOPhQv5sJqrqqqqnIdAko2i1ZQ69Kg4NMMV7d+lMtot2fj4YxEAL7/cpyj86fX6tDOf8XoOkuygyWTBd99Z8dRTDtxwQ7iRpKDAj86dPZg+3Yk//gjv/ZiOkSTdWLeOh0YDVKvmh1Yr/nLIADB3RZsfmFQu2guYKba8Xm8YAE6dKj5UOnTwRQeow4fha9UKvo4d4dq4Ef6aNSWoMuzaBe7VV+Ht1g3+ggL4mjcH9+STcG3eDEHhGkC5eSWZsNlsqKgQMxDxnL6k0D7debvZgr9cOqqOleGSw2Cqo92SjQ8+EAGwUaP0ATATJhV5JNpzcO9eC954w44ePQJrWB7XXefDY4+58MUXZpw6pU/LSJJufPmlCIB16vil95tkj5s1a0Z7O2QKEW1+YFK5aC9gptgiACif1jFrlgiAN98cGQBdGzbAf9ll8A4fDoHjIBw5Amg0sJ11mgaZPfR6CEuXwnHvvfDXrQt/o0bwPvIIXN98A0EB924qABjchDrc6bt7tyNm7Ryp4cq1JsqZMk4oFdEyXARIsuGqXrJEBMArr0wPAEk/xWzd63g1l+SoWKutwvLlHIYNc+KKK8KNJHXq+NCnjxvz5ztw6FBkI4nFYskYEH78sUM6sibvOcdxOHXqFG655Rba2yFTiGjzA5PKRXsBM8UWAUB5s+Z33nFDowGaNQsHQPfChfAXFsL95puBbJ5WC2g0qDhyJCKMORwOaLVaOC0WuFavhnfkSPgbNID/wgvh/fe/4f74Ywghk0ISDbl5JV6ENqG22wUMH56e0zdalibecafSQWrnMmGcyOQ1y7NRiR4VpxMLF4oA2Lhx6gBIG7RJzWWkX0JCjSSbNlnw0ks8SkvdqFYtODuYl+fHLbd48eKLAn7+mYPRGGwkMRgMik8kef99EQCvuioYAA8ePIiOHTvS3g6ZQkSbH5hULtoLmCm2fD6flBUj82+XLnWf3aT9AYDieXiefhr+Cy+Ea82aIKgynT4tZgCPH48KXlqtNrj/n8MB1y+/wPPss/CVlIhHxRdeCPfMmRkBQLnTl+f5sJm+Sjh9I2VpIh13Kh1WWeZVLfAX2jIl9Kg4tG+eUv/ve++JAHjttakBIIG/XALtSJNcQnsOGo1G7N1bgfnzOfTrJ+CCC8KNJA0b+vDQQy4sW8bj1CnRpRxqJEl3Islbb4lteEpKvNJMZ47jsHPnTvTo0YP2dsgUItr8wKRy0V7ATLEVCQA/+8wtOSUFQYBQWQlvr17wFRfDtWdPUGbPYDBAr9MBGg2EQ4cSB0B5VFbC16ED/NWrwz1xYlIAKHcvR4t4M30nTw7M9FWqnkOipc4AACAASURBVCvScWcm6gaV6vGXzYjXMiWT927ePBEAi4uTB0CSZc3l0X+Reg6SP8lxMcdxMBot+OYbDmPHOtC0abiRpGZNP7p182DWLAd27Qr/eqkaSWbOFAGwdetgANy8eTP69etHeztkChFtfmBSuWgvYKbYIgDIcRz0ej0EQcDq1S5oNEDt2n4I+/fD17w5fN26QdDpJKji+WAHrb9WLbh2744KYVqtFjwfYfzbX3+JX797d/hKS+FeskRRACTXaTQaIzp9lywRsnJ8mom6QTVOJEnFpCKOUIt+3JnM/z93riCVNyT7/qkty8rzPIxGo5TBi9Zz0GKxYMcOC2bOtKNrVxdq1Ag3kjRr5sW4cQK+/dYOvd4UVPIQqedgtJg8Wbz/7dt7ggDwhx9+wKBBg2hvh0whos0PTCoX7QXMFFsEAMnRliAIKC8XAbCzphz+iy+GZ+xYsdnzWagKddAKggD/xRfDtXVrTAC0y76GIAhwlZfDX78+PP/3fxDsdvi6dYN7/vykAFDuXg6N0Ov89NOAS/Lii8Odvtl6sKdbN5jNHn9Kf9/pumbtdrt03JnKUfGcOeLavv76xAFQfsRO+x4mE+QXBLJGEu05eOpUFT78kMOQIU5cdln4UfGFF/px//1uLFzI49ixYCOJXq+XjCSRAPC550QA7NbNDa1WK3181apVGDlyJO3tkClEtPmBSeWivYCZYsvvF4955b36tm51YYOmA9yafDhemhIEVQSYQnvv+Rs1gmv9+qigVlFREQSA7kWLRDPJnDnSx7z33AP37NmKACBx+lqt1ohO3z17Ak7fTLceiQc0ydQN0u7xl2pkwjgRa8RatOziG2+IANiyZWIAmI3ehJkIYnaK9guC/Jg92pxnYiRZv96KCRN43HRT4GeIRLVqftx6qwdTpgjYsoWDwWCMaSQZO1a8//fc4woCwE8//RRPPPEE7e2QKUS0+YFJ5aK9gJliKxIA7t7twg5NK5zSNBTNGS1awPPCC7CsX48KrRa2CO1bfEVFcK1dGxXUyJGf4HDA89xz8F9wQZCZRBAEePv3h2fGjKQAUN6+RhASc/qeOpWbM33j1b7J+87lQo+/RCNbDuV4zlie5zFrlkuqQYv39bLVm1DpINnhZH5BSKTnoNVqxcGDFrz9tg29ewuoUyc8O3jVVT6MHOnCihV2aLXhRpKHHxZrAO+/3yVdI8dxWLJkCV544QXa2yFTiGjzA5PKRXsBM8UWAUCe56HVaiEIAg4fFvC6Zhze0DyJo3/q4Sorg/Pee+GrXRu+q6+GZ+xYuL7/HgIfqOnztWwJ94oVsQFQpxMnh1xzDVw7d4a9xjtoEDyTJ6cMgE6nUzqO4vn4Tt9cz6CFAg2Bmmy3mEn3e6BhnIjkjDUajZg+XWxDcsstsQFQjfAnLw1IZ21H6zlIfhEhR8V6fRW++orDo4860aRJeM/BwkI/evVyY/ZsB/btE7/eAw84zv4s8tL9tVgsmDt3Lv773/+mvZ/NmDEDDRs2RGFhIf71r39Bp9Olv0mew6LND0wqF+0FzBRbBAClXn1OJ7RaAdM0L+JdzSj8+acjYPaoqoL766/hffhh+C+5BP769eEdMgTuFSvga9MG7o8+igpqhp074b3xRvg6dIBw5kzE13iHD4dn/PikAJDUNDkcDqkxL3H6Nm8e7vRVawYttGkyrX6DyUSuHJ/Kj4onT7aeBUC3VPsW+vqqqipVmmuUgL9IXzeRnoMWiwW//WbBf/9rR8eOblSvHm4kadXKi6IiERRHjhT3mwMHDqBRo0bo1asXhg0bBo7jUt7LFi9ejLp16+Lrr7/Grl270LlzZ9x+++3KbZbnoGjzA5PKRXsBM8UXyZ6RVi0Wi4AJmlfwgWYwvvvOEGT2kILn4frpJ3ieeAL+xo3hr1YNvptuEl28MrewIAhwbd4M7+WXwzV4sDg5JArMecaMgefJJ5MGQJLRi+b0Xbo0O07fTASBKLlJhVa/wWQiVzNo06aJR8Clpe6ItW8mkynIOKGGyBT8RYpEeg5yHIcTJ6qwZAmHf//bifr1w4+KL7rIJ4HkypUrce+99+Kyyy5DQUEBunfvjjVr1iS9j91000146aWXpL8fO3YMeXl52LVrl5Lb5Tkl2vzApHLRXsBM8RUKgA6HE09o3sQXmn5Yt84eH8ScTvg6dID3rrvga9VKrBvs2hXu2bPhnjkT/jp1YJs0CdY4I9s8zzwD7+jRSQEgeWBXVVXllNNXiUgEorLVbzCZyOUM2ssviwDYsaM3CGhC5+Mq3YA6UxHaUDvb/3eoCUev18NsNoPjOOm42Gy2YM0aKxo3DhwT33CDWyrD4DgO48ePx4cffojDhw9j9uzZ+Pbbb5Paw1wuF/Lz81FeXh708SZNmmDBggVKbpfnlGjzA5PKRXsBM8WXy+WCIARatZhMJjxW4118q+mB1atdCYGY97774CFTPP76C55XX4Xvhhvg12jg/vjjhGb2el58Ed6hQ5PK/pEjqWhOXwIjuZaJihep9vijOaeYrJ1czqBNmiQC4O23B2oA5ddtNpujztulfe2R7jct+IsUpF8jgWmSla+stKJnz4AR68UXeezdq5c+bzabMXbsWKxYsSLlPUyr1SIvLw979+4N+njbtm0VqS08V0WbH5hULtoLmCm+5ABIauQeqfshftZ0xPLl7sQAMJKB4+RJcULI2Tq9eCPbPNOmwTtgQNz/S+70raqqwpkzetU4fZN5qKd73dmcU5xrMBItXnxRBMA77vDGvG5S+xbaJoVkt2hnB+XXnatwarFYcOaMAXfe6ZR+Nl97jZfaGFksFuk4uaSkBO+8807KexgDwMyINj8wqVy0FzBTfLlcLvA8L2U8nE4nRl7yJX7X3IwlSxIEwJEj4Xn22eCPV1aKAHgWPOIC4GuvwdunT1z4kzt9T5/m0KWLID1gBg9Wl9M39KFJvjelrzuTdYPxRrvlUjz/vDjmsHt3b1LXHQrToRM1aK2TXL7fFguP3r0Dv5jNmGGX1p5Wq8WUKVOwadMmDBs2DCNGjIDL5UprD2NHwMqLNj8wqVy0FzBTfJEegKQxqyAIGHHVt9ivKcHcuYkBoOfxx8WJIfKP22wiAB47ltDMXvfbb8Pbs2fUz4c6fQ8ccKJ580Bd0Qsv8KiqskgzfXP54RjpoZ4th7KSdYOpjHajGc8+KwJgz56elCEq1kSNbByzqwX++vQJwN/MmUJQZvvYsWO46667UFhYiNq1a2P06NFYs2YNHA5HyvsYM4EoL9r8wKRy0V7ATLHl9/thMBhgtVqh1+slABze9Gec0FyF117zJAaA48fDO3x42Mf9+fkQ9u1LDADffx++22+P+Dm73R7k9P3lFwGXXhpw+i5caA/ql5frLVLkkYkpGclEqnWDSox2y3Y89ZQIgD16CIpAVCSYlh8VK3ntaoE/q5VH//4B+HvlFSHsuNpms2HMmDEYPHgwvvnmG4wdOxaNGzcOArhktWTJEpx//vn46quvsHPnTtxxxx3o3LmzgrvluSfa/MCkctFewEzxRWoAKysrpRFvw1r/gUpNfUyZkiAAvvwyvAMHhgNg3bpwbd8ec2avBIAffghfaWnYx0kfvGhO359+ckrtUshRs3xWrHyiAe2HY2jkWnuaROsGaUNrqvHEE2IN4F13CRm57mhGiHR/GVEL/HEcjwceCMDflCmusBY1NpsN48aNw8CBA+HxeKR9yO/3p3UMDAAzZ85EgwYNULt2bfTp0wd6vT7d7fGcFm1+YFK5aC9gpvhyu8VjXrlTd3iHfeA1tfDccwkC4KuvwtuvXzgAXnopXJs2hY1siwiAn38O3403Bn1MPnvY6RQwfXriTl95m4pc7JcXqcdfLkW0ukHimM0VaE00bDYbRo/modEA997rydr9k/8yksr6UxP8/ec/AfibNCkc/ux2O5577jk88MADQfDHlJuizQ9MKhftBcwUXx6PJwwAR/Y8Dmg0eHxMYm1gotXv+a+6Cq4ffkgIAF2rV8NXUiKZPcjDw263R53pS14TzzErd3XmQr88tbWnITBNGgDLjzpzGUpIkIzlyJEiAN53X+YBMNL9S3b9qaXG0mbjMXiwvNVLZPh78cUX0bdvX7jdbtrbHlMCos0PTCoX7QXMFF8EAOVO3VH9RQfvo0OjT+5IpH7P17QpXKtXS5mQmAD4ww/wX3215PTV6/Xg+fCZvsTpm45jNrTuLVN1W5Ee6Kn2+KMd8tFuNPsNJg8nNmmc4ahRYg3g/fdnFwAjXVOs8WpkragF/h56KAB/48e7YTSGw9/LL7+Me+65J+1jXqbsiTY/MKlctBcwU3wRAJQbNR592A5oNBjZpyIxAPz4Y/jatg0HwBtvhPuzz6SRbTEB8Jdf4L/ssghO38AoqZdfVn6mb6QWH6EPYyVCLb3yIkWsqSTZ7DeYbJAaS6PRCLvdjhEjRAD897/pAmDougitWyW/3Oh0Our3MPa18xg+3C39fD79tBsmkzkM/qZPn46ePXvC6XTS3u6YkhBtfmBSuWgvYKb4kgMgMWo8+YQbPk0eRnQ/mhgAfvklfDfcEA6ApaVwl5XBarXGBUB+61b4LrgAJpMpotOXzPQl2ZxMPBjldVtKwoxasjmRIpnRbrk0pzgU/niex8MPi5mqQYNyBwAj3T95vzzao/2iXyuP0aMD8PfEE5Hh79VXX0W3bt3SavHCREe0+YFJ5aK9gJniy+v1QhCEIKfuhAkecJo6GHbr3oQA0PXtt/Bde204AHbpAve774LjOOj1+qj/nuM46H/5Bf7zzovp9K2oqMiaaSIazCTrKJa3S8m1h3i87z+d0W405xRHWytDhogAOGRI7gKgvLVOtKN22tlVu53H//1fAP4ee0yEP/lasdvtePPNN9GlSxfY7Xba2xxTCqLND0wqF+0FzBRfBADlRo1p0zzQaS7FsJbbEgPADRvgb9Qo7OPeXr3gnj07KgA6nU4pw2Tbtw/QaDD9FVfOzfSNBjPx5sSqtV1KJo6rs1U3KK9VDP0cMSo8/HDuAWAo/EVaS+SomGSnU/mFJP3r5DF2bAD+Hn00MvzNnTsXHTt2hM1mo73FMaUo2vzApHLRXsBM8UUAUG7UeOMNN45pGmN40frEAPC33+CvVy8cAO+7D54ZMyQQCoU/udPXduwUoNGgpsYZ5vRNNQuVqYg2J1YOg5GOINUQ2Wg7kqm6wVi1ijwfaFMyYoSb+n0OvefJNNWWtzhK5heS9K+Tx7hxAfgbOdINs7kqDP7mz5+P9u3bw2q10t7emNIQbX5gUrloL2Cm+PL5fBIAkjq9+fPd2KO5HsOv+CYxANyzB/7zzgsHwEGD4Jk0SRo3Rz7ucDhQWVkpOX11Oifuub0K0GhwgaYqyOmb66aJSM1/SZZGjfCX7VpFpeoG48EfzweaFI8enTsASOAv1SyxvMWR/BcSpbOrdjuPZ54JwN+wYW6YTOHwt3DhQpSWlqKqqor21saUpmjzA5PKRXsBM8UXAUC5UaOszI1tmjYYdfHnCQGgcOSIOPfX4QgGwBEj4Hn22SAA5Hkeer0eBoMBTqdTcvpW17gBjQavPX1ScadvNh/m8l55ueSIjRe5MNot1brBRI0qZETZo4/mBgCmC3/R3sdI2dV0j4onTAjA35AhnjD443keZWVlaNu2LUwmE+1tjUkB0eYHJpWL9gJmii8CgPI6vS++cGO95nY8UqcsMQA8c0YEwJB5v56xY+EZOxY8z0Or1UogGNHpW8MHX1412PbsUW3dHDmuJg/bSJMgcnEsXa7WKiZSN0j6KiZSItC3rwiAY8bQB8Bs3PNI2dVUjoonTnRJ8DdoUGT4+/jjj3HzzTfDYDDQ3tKYFBJtfmBSuWgvYKb4IgAor9P75hsX1mh6YUzB/MQA0GwWAfDMmWAAfPZZeEeMAM/zUlbMYrHA6XRi2bJwp6+/sBCVP/+syqPTWKYJWjVbiUSuzSOOFpEyWwQME22q/a9/eaSWJbS/l2wDd6pHxS+/HIC/AQM8MJksYfd8+fLlaN26NZu9+w8TbX5gUrloL2Cm+PL7/RIAkmPa9etd+EzTH+M0r8PhSAAAHQ4RAA8fDgbASZPgHTQoKEsTa6avr149WDdsoA4byT5Yk6mbizSWjtZYNQJ/uTqPOFrYbLYgEEy0bvDuu0UAfOopegCYK9nWRIw406YF4K9/fw+MxnD4W7FiBVq1aoWKigraWxmTwqLND0wqF+0FzBRfBADldXq//ebCUs0QvKiZBpMpAQAUBPjPOw+uPXuCPuaeMQPCvfdKD2mr1RF1pq9Wq4WvYUM4y8upA0YyD9F0axVDx4JlooA/UsRql5LLEZptTaZusGdPcaTgM8/QAUD5WLpcAu5IR8VTp9qkn9N+/SLD36pVq3DDDTfgzJkztLcxpgyINj8wqVy0FzBTfBEA5HnxmFYQBOzd68I7mkfximYCTp1KEAAvugiubYG+gQ6HA9zMmRC6dwfP8zhwoAJduwbgL5LT13fNNXCuXUv9gZjMwzyTBfw6nS4jJpJEHLO5GMRkU1FRERW4Y9UNdu/ukebV0lovuQZ/ke7xzJlO6ee0Vy8HTp0SwdpkMkmvW7t2LVq0aIGTJ0+mvQd9+eWX6Nq1Ky644AJUq1YNPp8v6POHDh1Cly5dUKtWLTRp0gSLFy8O+xozZsxAw4YNUVhYiH/961/Q6XRpX9e5Ltr8wKRy0V7ATPFFANDhcECr1cLpdOLoUQGvaZ7GbM3jOHgwQQBs1AiuDRskmNTpdODmzIG3c2ccOOBE06YBF2G0mb6+Zs3g/PJL6g/BeJGNHn+RTCRKuDmTGe2WS5FKf8JQoO7USYBGAzz/vJBVCFML/PE8jzfeCBz73nOPBzqdWQLpFStW4Nprr8WQIUPQuHFjHD58WJE96KOPPsL06dMxc+bMMAD0eDwoKirCgAEDsG/fPixatAgFBQUoLy+XXrN48WLUrVsXX3/9NXbt2oXOnTvj9ttvV+TazmXR5gcmlYv2AmZKTKEAWFEhYIrmJSzQjMCOHa6EANB33XVwrV0r1RKaTCa4yspgbVEaNNN3/nyxZx4p4pc/EL2tW0P45BPqD8FYQbJnZrM5qwX8xESSaq+8dEe70Qwl+hPa7XZ06iRmAJ99lsvanGI1wd+cOQH4u+suLwwGa1CmWK/X43//+x9uuOEGXHTRRahXrx4GDRqEHTt2KLIPbdiwIQwAV65ciVq1aoHneeljQ4YMQd++faW/33TTTXjppZekvx87dgx5eXnYtWuXItd1roo2PzCpXLQXMFNiIpM5tFqteHTLCRivmYGPNAPx668JAuANN4BfvlzKLgmCgI1Pf46deTdKTt8ff3RIhpBIbSm87dtDWLyY+oMwWtAeScfzkU0k8XrlZWK0Wza/X6X6E3bsKNYATp7sysqcYvLLkBpc7e+8I0jwd+edXlRWWsPW+oYNG1BSUoKDBw/C6/Vi8+bNmDBhAv744w9F9qFIADhx4kR06tQp6HVlZWVo2LAhAMDlciE/Pz8oIwgATZo0wYIFCxS5rnNVtPmBSeWivYCZEpPLJUKeVqsFz/NwOgU8njcHX2nuxQ8/xAdAp9MJT5s2qHrvPXAcJzl979Ssw1+apigu9mHv3sBMX2I8CK3XcnXqBPtbb1FvjRIJQnI1exZ6D4mjmIBeNka7ZfK+K9mcun17EQCnTnXFvIdKzClW0yjA+fMFyZXftasXen04/P3yyy8oKSnB/v37M7YPRQLAUaNGoX///kGvW7t2LQoKCgAAWq0WeXl52Lt3b9Br2rZti//+978Zu9ZzQbT5gUnlor2AmRITAUAyl1cQBPxfzffxnaY7Vq50x4U/o9EI1223QXjvPdhsAoYNE4/aOmg2oqLmVUFO32i1ZzabDa4ePcDNnBkRZGhCiFqyZ5FMJKR+MNevPdL3orTJpl07EQBfecUV8/9Nd06xmuBvwYIA/HXu7IVOFw5/W7ZsQdOmTbFnz56M7kMMAHNLtPmBSeWivYCZElMkAHzkgo/xi+Y2LFsWHQDlM329PXvCOnMOunb1SkdJk3ptga9+/YRn+nr69oVr+vSIIJON1iihQWM2rlLBcZwEgGocS5eJurlbbhHX5syZ0QEw9P1Pdk6xmnorLloUgL9OnbyoqAhvDfTbb7+hpKQEO3fuzPg+xI6Ac0u0+YFJ5aK9gJkSk9stQh4BHUEQMOLSr/Gn5kYsWhQZAHmelx7STqcTXI++mHnprCCnL//bb/DVrp0wQHn+/W+4Jk8OewhXVVVJM3azBTK5MBs3nWuXZ8+igUyujqXL1GSS1q1FAHzttcQAUB6J9BtUE/yVlQmoVk2Ev9tu80KrDYe/P/74AyUlJYrV+MVTJABctWoVCgsLwfMBE8jQoUOZCSQLos0PTCoX7QXMlJgIAOr1enAcB0EQMPzq73BAU4y33w4HQPKQNpvNcDqd2LhRwL78FvhR0wX1a1hQVia+xrBtG/z5+Qk/DD0PPwz3+PExH8KRWqMoDYMke6YG52aka48FUNFAJpfG0mXq6LRlSx80GuCNN5IHwEjXGlo3SMCa9n2MFx99JCA/X4S/W2/14swZTvp5Jq/ZsWMHSkpKsHXr1ozvP2azGTt37sT777+PvLw8bN++HTt37gTP83C73SguLg5qA1OzZk2sX79e+vdLlizB+eefj6+++go7d+7EHXfcgc6dO2f8uv/pos0PTCoX7QXMlJgIAFZWVsJqtYoA2OwX/K25Av/7nycI/sgECeL0XfaJgKcL3oRbUx2VefXhK6gBd48esLzxBsybNgEaDfgEe865H30U7ieeSOi1oa1RCPSkm9WyWq2qqd+Kdu3JZKAizYf9p46la9FCBMA5c9IHwND7LofAXD5uX7ZMQPXqIvy1a+fF6dPh8Ld79240a9YMv/76a1b2n6VLlyIvLw/VqlULip9//hkAcPjw4aBG0EuWLAn7GjNnzkSDBg1Qu3Zt9OnTh80lVkC0+YFJ5aK9gJkSUyQAHHbznzBp6mHyZI9k9jCbzdIUBqdTwIxpDszV/B90mkvR/8rN2LvXAW77dlhfeAGem26CPz8f0GjgmjED/JEjcR9O7iefhPuRR5J+qMlhUJ6JSbbHm7zHH+0HdaoQks61k7F02a69zNZYumbNRACcO1dQ7GsScCXXnkrdYLbis88C8HfLLV6cOhWAbvKaffv2oXnz5hJ8MZ27os0PTCoX7QXMlJg8HhHySAZNEAQM7/QXnJqaePZZj+T01el0Z0FBwP89aMYaTS/s1TTHA22P4NQpu9Tjjzh9Hbt3AxoNvG3bwp+fD29pKVwzZsCxf3/EB5T7+efhGTo0rYdctD558Y441Tohg+czM9qN1F6m44ZNJAj8ZaO3YtOmIgDOm6cMAMYD12TmFGc6vvjCiYICEf5at/bi77/D4e/AgQO4/vrrwwwVTOemaPMDk8pFewEzJSYCgEajEVVVVRAEAaPuPgloNHjsEUFy+jocDuh0TjzQ/gR2aFrhe003jB5ggNkcpVWK3Q5/tWoi8B07BuHtt+Ht2hX+ggL4brwRrsmT4fjzT+n1rpdfhmfAAEUffNH65JEHcC73+EskQqE7ExGp9lKJ4/ZszyS+7joRAN97L30ATCVrmYl+g4nEV185UaOGCH+tWvlw4kQ4/B0+fBgtWrTA999/T3s7YsoR0eYHJpWL9gJmSkwEAE0mE8xmMwRBwOgBRkCjwfAHdDAajXA6nThwwIl+jX/HGU0DvKcZiakv2WGzxW6V4q9dG47t24M/fvo0hAUL4LnnHvjPOw++Zs3gHj8erscfh6d374w9CMkRp/wBTDIzauuTRwtcIx23p2IioZFxbdJEBMCFC9MDQKWO27ORYV21yomaNUX4a9HCh+PHw2stjx49ipYtW2Lt2rW0tyKmHBJtfmBSuWgvYKbEFAkAHxlmEwHwnpOS03fwBSvBaerg+fz/oWypM6Fmvf769eHYtCn6Q0qvh/Dhh/Dcdx/81arBX7NmVmCAOH21Wi3VXoOpRK40p4503J6IiYTWcftVV4kAuGRJ6gCYiSPrTNUNfvONE+edJ8Jf8+Y+HDsWPpru+PHjaNWqFVauXEl7G2LKMdHmByaVi/YCZkpMXq8XgiDAbDbDZDLBarXikdEcPJp8jOh6GJ98LDp9bZraGFrnc5SXOxN2y/quuALOH3+M/bAyGODp3Ru+Jk3g/PDDjINAaI+/0F6DOp0uZ12cuTzaLTTDqtfrw6CaHFnTOG5v1EgEwLKy1AAwG/WKStUNrlvnRK1aIvw1a+bDsWP2sJ/XkydPonXr1lixYgXtLYgpB0WbH5hULtoLmCkxyQGQTI+YMMEFi+Z83H3ljjCnr9wtGw+QfEVFcK5eHf01x4/De8st8HboAP7UqYxDQLwef9nqNZgqHKhlMkmkaS4EDGnVWl5+uQiAH32UPABmu16RRCp1g99/70RhoQh/TZv6cPRoOPydOnUKN910E5YvX057+2HKUdHmByaVi/YCZkpMXq8XTqdTesjwPI/nnvOgQnMZftG0x15NcwxoF9npGy98N9wA4fPPI37O8eef8DVuDM8DD4DPQuuVZPvkZarXYCqh9skkBATl9W7Zvo+XXCJC0bJlyQEgLfiLdB/j1Q3++KMTtWuL32dRkQ+HD9uljDZ5zZkzZ9CmTRt89NFH8Pv9tLcfphwVbX5gUrloL2CmxOR2u6HX66V6PqfTiWsae+DT5MGgqYchBR/hseEcVq+24PTpiqQyON62bSF88EHYx53ffQd/vXpwP/ss+Cxks9Lt8RcKg9ns75ZIrWWuBjmyJvWKNO/jxReLYPTZZ4kDIFk3udYeKFLd4LffVqFuXfF7vOYaHw4etIdluysqKlBaWoqlS5cy+GOKKdr8wKRy0V7ATInJ4XBIGZnKykrwPI9Bg9yYpnkeb2sexVFNE3CaOlimGYDhFyzHYw9VYc0aw+SOLwAAIABJREFUJ6zW+A8qb6dOEN57L+hjwpIl8BcWQpg7NysPS6VbpaTaazCViDfaLZcjXr1itPuYqT55F14owtGKFc6EXp+r8BfpPpaX21C3rnjEfdVVHvz5pwjd8l8adDodbrvtNixYsCAj8FdVVYWHHnoIl19+OerUqYNbb701qKH0oUOHgiZ6LF68WPFrYFJOtPmBSeWivYCZEpPP55PGvOl0OulI6dQpHnv22DF5khUDm23DfzUv4C9NU/CaWvhC0w+j6nyE0f8x4auvnKiqivxw8vboAdecOeLf7Xa4Xn4Z/rp14fzqq6w8GE0mEyoqkstaJhvxeg2mGqmMdsuVSKVeMdp9VMrpTLJjX30VHwDVAn88z2PTJocEt1df7cOePZxUsnDy5EnceuuteOaZZ3Drrbdi7ty5Gcv8Pfjgg2jVqhV+++03HDt2DE8++STOP/98WCwWeDweXHfddUEzfQsKCljT6RwWbX5gUrloL2CmxOTz+eB0OoNaoxAHJzmis9vtOHTIgddeFTC49S5M1kzGLs0NEDQ1sEpzDx6ttRgj+unx2WcCTKbAw8nTp484Cs5qhefhh+Fr0ACOzZuzAiDyo8dsPYwjOWFTgZhsjUfL1L0nzcNTBddIJhLiUE/1axJjxKpVsQFQTVNhNm92oF498fu68kof9u4NPvY1Go145513UFpaipo1a+Kqq67CmDFjsGnTJsX3keuvvx5z5syR/m6325GXl4dt27Zh5cqVqFWrFnielz4/ZMgQ9O3bV/HrYFJGtPmBSeWivYCZEtNff/2FQ4cOSTVaNpsNJ06ckIr2I2W0jh7lMWeOCw+2248X8l7B75qb4dZUxzrNnRhb810Mu+cMPvpIgLP/v+F6/nl4u3eH7/rr4Th4MGsAQtstGw1i4vUazBXTQar3XmmzityZnU7TZNIQ+ZtvogOgmuBv61aHVNfYqJEPu3bZw2pFTSYTunXrhlmzZsHhcGDt2rUYPXo0Jk2apPg+Mm7cONxxxx0wGo3w+XyYPXs2rrzySvA8j4kTJ6JTp05Bry8rK0PDhg0Vvw4mZUSbH5hULtoLmCkxff3112jbti1KS0sxffp0TJo0CfXr18fp06ejZrTkYPX33zzmzRMwpONhPFvtNfyquRUeTT7KNZ3xR97NsNSoj9PXd4XuoDbjD8VcNUwk2mswG6Pd1HzvozVNTsRRXL26CEvr1kUGQAJ/ahgJ+NtvDtSvL34/DRr4sHMnD71eH3TvzWYzevbsiRkzZmTF8OH1enHvvfciLy8P1atXR4MGDbBr1y4AwKhRo9C/f/+g169duxYFBQUZvy6m1ESbH5hULtoLmClx+f1+HDlyBB06dEBhYSHuvPNOTJs2Dbt375YeKKEZLXmjX/JgOnOGx8KFAh7qdhzjqs+BRXM+zmguR3WNGzVq+NGzpxfvvivg1CnlH4pqMUxEm61L4FANABIaBP6yee+jNU2OZsbJyxOB6YcfwgFQTfD3xx8B+LvsMj/+/DMc/qqqqtC7d29MnTo1a27fsWPHonXr1igvL8fOnTvx1FNP4aqrroLJZGIAqELR5gcmlYv2AmZKXA6HA71790ZJSQmOHDmCv//+G7Nnz0anTp3QunVrTJo0Cdu3b48Kg/LjTfKg0ut5fLiUR78+Lqk3GYnq1f3o2tWLt98WcPx4+g9FtRomCAzKx9LR6jWYatCAv0hBHMWRstV2Oy+tvfLyYACkOZ0k2fjzTwcuvVT8WbrkEj/++CMc/iwWC/r27YuXXnopa/Bnt9uRn58fVltYXFyMuXPnsiNgFYo2PzCpXLQXMFPi8vl8eOWVV2A2m4M+7vf7odVq8c477+COO+5Ay5YtMWHCBPz2229SloUcb8aqdTMaeXz6qYABAzw4//xgGKxWzY9Onbx4/XUXjhxxJP1QTLfHH82Qt0rhOI5aj7xUg2Rd440EzHaQ0gWyJs+c0UnrbcOGwBpTE/zt2uWQppnUr+/Hb7+Fw5/VasX999+P8ePHw+fzZW3/sNvtqFatGjZv3hz08ZKSErz11ltYtWoVCgsLwfMBE8jQoUOZCSSHRZsfmFQu2guYSVn5/X5UVlZiwYIF6NGjB1q0aIFnnnkGv/76axgMymvdQt2bZjOPFSucePBBDy66KBgGNRqgtNSLGTNc+Ouv+DCo5pq5WGaVbPYaTDUI/OV61lU0plRJ62vdOgOMRiOMRqNq4G/PHgcaNhTh7+KL/di6lQ8z23Ach4EDB+Kpp57KKvwRdenSBaWlpdi2bRuOHDmCF198Eeeddx4OHjwIt9uN4uLioDYwNWvWxPr167N+nUyJiTY/MKlctBcwU+bk9/thMpmwePFi3HPPPWjevDnGjRuHn3/+OQgG47k3LRYeq1c7MXy4WxrVJY+bbvJiyhQXdu0KhkHS4iLTPf4yFcmOdstUr8FUQ21taozGwBHwxo2cdB/VcOS+d68DV1whwt9FF/mxZYsjIvwNHToUY8aMoQJ/AKDT6TB48GA0aNAAdevWRbt27bBu3Trp84cPHw5qBL1kyRIq18mUmGjzA5PKRXsBM2VPFosFH374Ifr06YOmTZtizJgx+PHHH6WawEjGh1AY5Dge333nxKOPuqVshzxatPBh4kQXfv+dp9LjT6lI1y2rVK/BVENt8MfzYj0qWUe//GKRfnEgR+65mmXdv9+BK68UfxYuvNCPTZscYT0WbTYbhg8fjtGjR1ODP6Z/nmjzA5PKRXsBM9ERx3H49NNP0b9/fxQXF2P06NH49ttvpUxdIjBos/FYv96Jxx934+qrw2GwqMiD555zYfNmB+x2+g/qRENpp3KqvQZTDbX2KNRqeVkNoCEMliMdudPOsh444EDjxuLav+ACPzZujAx/o0ePxrBhw+D1emn/6DP9g0SbH5hULtoLmIm+7HY7vvjiCwwcOBBFRUUYPnw41qxZI9XskVYe5DiXwJH8SM5uF8ddPf20C9dc4wmDwSZNfBg3zo2ff3bmNAxm2qmcaK/BVENNTZJD4++/7dJ6+eOP+PciUpY1k2AdGocOOXDNNSL8nX++H+vXR4a/MWPG4MEHH2Twx6S4aPMDk8pFewEz5ZYcDgdWrlyJBx98ENdddx2GDh2Kr776SsomhcKgvD6LwFNlpQFbt/J44QU3mjULzwxecYUPjz3mxg8/OGGz0QcPEtk+Nk0ky5pMqBn+7HY7DhwwSWsktJ40XkTKsioJ1qFx5IgD110nru06dfz46afI8PfUU09h4MCB8Hg8tH+0mf6Bos0PTCoX7QXMlLtyuVxYu3Ythg0bhqKiIgwcOBDLly+HyWSSHtqhMKjT6cJaouzY4cDLL7vQqlU4DF5+uQ+jRrnxzTdOWK30AIT2sWkiWdZYoaZWKZG+d6PRiF279NK62Ls3+VZD8q8XCayVMpEcPcqjuFhcy7Vr+/H9944wp7jdbsf48eNx//33M/hjypho8wOTykV7ATOpQ263Gz/88ANGjRqFoqIiPPDAA/jkk09gMBiwdOlSPPbYYzCZTBFbosgfunv3OvDKKy60aeMNg8H69f146CEPvv7aiaqq7AFIrrWpiZZljdRr0G63w2QyqdZpLXeKHzhgk9ZCIu2FlL6XicSxYzxKSkT4Kyz0Y906h9QjUg5/EydORJ8+feB2u2n/6DL9g0WbH5hULtoLmEl98ng8WL9+PR577DFcfvnlKCwsxOTJk6HX66UHYLT+ePKH7sGDDrz6qgu33eaVRoCRuPBCPwYO9ODzzwWYTJmDj1yHp1j3kuM4CWzU6LSWw5/NZsOBAw7p/T90SBkATOReJmoiOXGCl0oaatXy45tvIsPflClTcM8998DlctH+UWX6h4s2PzCpXLQXMJM65fP58NRTT+GSSy7BggUL8OSTT6KkpAS9e/fGwoULodVqg/qfxWuWfPQoj9mzXejc2Yv8/GAYrFPHj/79Pfj4YwGVlcrDh5rgifQalI+lMxqNOdMSJZn7HwpP+/YFAPDIkezdy0Ra9Zw8yeP660X4O+88P1avjgx/06dPR8+ePeF0Omn/iDKdA6LND0wqF+0FzKRObd++XZpJTOTz+bB161Y8++yzaN68Oe666y7Mnz8fp06dCoLBeM2ST57kMW+egDvv9KKgIBgGa9Xyo08fD5YsEVBRoRx8qCnI9RO3Mq1eg+lef+j93707AIBKzJ5OJqK16rFarfj7bztathThr2ZNP77+2hkR/l577TV069YNDoeD4k8m07kk2vzApHLRXsBM6lWs+iafz4ft27djwoQJaNGiBbp164a5c+fixIkTQS7JeDB45gyP998XcM89HtSsGQyDNWr40auXB++9J+D06cThI9poNzVEtOvPdq9BpeGP50WzEHlv//6b7jUSE8n+/RW44Qa3tN6++MIhNaWWw9/s2bPRpUsX2O32jP28bd++HV27dkVhYSHq1auHAQMGSJ87dOhQ0ASPxYsXZ+w6mHJHtPmBSeWivYCZ/vny+/3YvXs3Jk2ahBtvvBGdO3fGm2++iaNHjyYFgzodj7IyAf36eVBYGAyD1av70a2bF3PnCjhxInqWJ5nRbrkWBP70en1MeM10r8FMwB/P8/jjjwAAnjlD/35rtTxuvlk0KxUU+FFWZpaO3cl9tdvteOedd9CxY0dwHJexn6H9+/fjwgsvxJQpU/DXX3/hwIED+OqrrwCINblFRUVBM3wLCgpQXl6esethyg3R5gcmlYv2AmY6t+T3+7F//35MnToVN998Mzp06IBXX30VBw8eDIJBeTZL3uCXPJwNBh7Llgl44AEP6tYNhsFq1fzo1MmLN95w4cgRh/Q10xntRjvsdntK8Kp0r8F0rj9e5nXbtgAA6nR073dFBY+2bb3SLxfLljkloDYajVi8eDFq1qyJ2267Dddeey2OHj2a0Z+b++67D8OGDYv4uZUrV6JWrVrgeV762JAhQ9C3b9+MXhMTfdHmByaVi/YCZjp35ff7cfjwYcyYMQPt2rVDaWkppk+fjv3790eFQfnRJnlYm808VqxwYvBgD+rVC4bBvDw/Sks9ePllK3bsyMx0j0wHyVymC6/p9hrMJPzxPI/NmwMAaDDQu986HY/SUhH+8vP9+OgjZ5BbmXxPr7/+OkpLS3HzzTcjPz8fHTt2xPr16xX/OfH5fKhduzamTp2Kzp0747LLLkP37t2xe/duAMDEiRPRqVOnoH9TVlaGhg0bKn4tTLkl2vzApHLRXsBMTIAIg8ePH8esWbPQvn173HLLLZg6dSp27dolGzdnj1vnZrHwWLnSiWHD3KhfPxgGNRrg5pu9mDrVhd27lW8zkin4y0TmUun+ePHgL96xNc+LowTJ+2Q207nfej2P9u29Uia5rMwptQqS/9JRVlaGNm3awGQyAQBOnz6NefPmYceOHYr/bOh0Ovx/e/ceFWW56HH8HcRtTkpWu624TrndAYEYiRfw0lFE3drBS7rRlqYhuEXz0ibzlFa601S0XFsz7YIGelKPti0vLXW7TM1bamxOYmGheSsdx0Fuw7zA3N7f+WPixXFGBWR45pXfZ61ZK2ZGfGQel9/ey/PodDoEBQVh9erV+O6775CSkoLWrVvDbDYjNTUViYmJbr9m165daNq0ab2PhfyL6H4gjRM9gYlupigKfvnlFyxfvhy9e/dGdHQ05s6di5ycHI8YvPE6t6q7NqveU1RUii1brmPixAoEB3vuQvLkk07MmWNFTo5/xmBV/BUUFPj8CF1Nluq5m/iryfgPHapQPxsRu8KYTDL+8z+r4y8rq9Jr/G3cuBFdunRBQUFBg/x9MBgM0Ol0mDBhgvqc3W5H69atsX79egZgIya6H0jjRE9g8i49PR1t27aFXq/H0KFDYTQaRQ9JCEVRYDAYsGrVKsTHxyMqKgqzZ8/Gt99+63Y6ruo6N4PB8Nt+xCa3fX3LymTs21eB6dNtePRRzxgMD3di1iwbjh0rh8UiPv7MZrN6vV5Dn7auyVI99R1/sizjwIHqAGzoz6CgQEafPg71soE1a7zH3+bNm9GpUydcu3atwf4O2Gw2BAYGYsmSJW7Pd+/eHenp6TwF3IiJ7gfSONETmDxlZmaiZcuW2LZtG3JzcxEXF4c+ffqIHpZwiqLAZDIhIyMDAwcORGRkJGbOnImjR4+6xeCpU6fUOzW93fRgscg4fLgCr7xiw+OPe8bgn/7kxIwZNhw6VCEkBqvir7BQ/DWLt7o7+3ZrDdb1hpWvvqpQA6wh/4yFhTLi46vj7+OPvcff559/jqeeegpXr15t8LnfrVs3TJw4Uf3a4XCgTZs22LBhA3bs2AG9Xg9Zrr4JJCkpiTeBNAKi+4E0TvQEJk+dO3fGnDlz1K/Pnz8PnU6H3NxcgaPyL4qioLCwEJmZmRg8eDAiIiKQlpaGKVOm4OGHH1YXn77THbAWi4zjx8sxe7ZN3ebrxsejjzoxbZoNX31VgbIy38dIaWmpGn8iw+9WMXinazDrGn+yLGPPngr1xouGjL8BA6r3pf7gg0oUFRV5xN+OHTvw5JNP4vLly0Lm+8aNG6HX67FhwwacOXMGU6dORXBwMMrKymCz2RAWFua2DEyzZs18ckMK+RfR/UAaJ3oCkzur1YomTZp4rOHVvn17ZGRkCBqV/ysqKsKAAQNw//33o1evXpg2bRq++uor9R/xmt4Bm5NTjrlzrerODzc+2rRxYtIkG3btqvDJNWqlpaVup639+XGrtQaNRqO6Pl5tv+euXRXqgssN8WcoKpIxaFB1/L3/vvf427VrFyIjI3Hp0iWhc3zFihVo164dgoKCEB8fj7y8PPW1s2fPui0EnZWVJW6g1GBE9wNpnOgJTO6qLvj+4Ycf3J6PiYnBggULBI3KvzkcDowePRohISG4cOECzGYzNm3ahMTERISFhWHSpEnYvXs3SktLvcZg1R2wN8fg99+X4+23reja1eERg7//vYLkZDu2batAScndx0hJSQkMBgOKi4uFx11dY7DqZ1nXtQa//LJC3e7P12MuLpaRkGBXP89ly6woKnIt9Fw1T2RZxp49e9ChQwecP39e9DQn8iC6H0jjRE9gcscArD1FUfDee+95vVHGYrFgy5YtGD16NEJDQzFhwgR8+eWXKCkpqVUM/vRTOZYssaJnTwd0OvflZR58UMHzz9uxZUtFnZYvqYq/qjFp7VF12tdkMqGsrKzOaw1u2+YKwBYtfBuAJSUyhg6tjr+lS73H3759+xAREeG23zWRPxHdD6RxoicwueMpYN8pLy/H9u3bMW7cOISEhCApKQlbt25Vj7rdbjmUG+Pl559lLFtmRZ8+DgQEuMdgy5YKRo60Y+PGyhotZlxcXKzp+LvdOoW1XWvw889dAfjAA74LwNJSGcOHV8ff4sVW9TO4Mf4OHjyI8PBw5Ofni562RLckuh9I40RPYPLEm0B8z2q1YteuXUhJSUFISAjGjBmDzZs3qzdf1DQGL16UsWpVJfr3dyAw0D0G9XoFw4fbsXZtpdetzbwdddLSozaLVNdkrcF//rMSkgQ89JBvArC0VEZiYnX8LVzoPf6OHDmC8PBwnD59WvQ0Jbot0f1AGid6ApOnrKwsBAUFYevWrTh58iTi4+MRFxcnelj3LJvNhr179yI1NRWhoaEYNWoUNmzYgIKCAjUKarJQ8uXLMjIyKpGQYEezZu4x2KyZgoQEOzIyKnH5sqwuM6L1+KvrItXe1hr89NMy9frK+h6v2Sxj1Kjq+Js3z3v8HTt2DOHh4fj+++9FT0uiOxLdD6Rxoicwebd48WIEBwfj/vvvx7PPPtugC882Zna7HQcOHMDUqVMRFhaGESNGYN26dTAajbeMF5PJ5LFQstEoY+3aSgwfbode7x6DgYEK+vatxPvvV+DSJfEx19Dx5+37FRUV4ZNPSiBJwB/+4LjjWoO1jb/Ro6vjb+5c7/GXnZ2N8PBwnDx5UvQ0JKoR0f1AGid6AhP5K4fDgcOHDyMtLQ3h4eEYMmQI1qxZA4PBoIbPrRZKvjEGCwpkbNxYiZEj7WjRwn15mSZNFPTp48CyZVb8/LP4uGvo+Lvx8T//4zoF3Lat87ZrDdZuvDLGjauOv9dft3m96SYnJwfh4eHIzs4WPe2Iakx0P5DGiZ7ARFrgdDpx/PhxzJw5Ex06dMCgQYPw4YcfqgtO3ykGLRYLCgoKcPGiEZ99Vo7nn7ejVSv3I4M6nYKePR1YssSK/Hz/25/Y13sTZ2VVqotvy/Kt1xqs6fIyZWUyxo+vjr/XXrOhuNgz/k6ePInw8HAcP35c9DQjqhXR/UAaJ3oCk39YuHAhOnfujBYtWiA4OBjJyckem92fOXPGbbHZzMxMQaMVy+l0IicnB7Nnz0bHjh3Rv39/rFy5EhcvXvSIwaojWVXr4914yrGkRMb27RVITrbj9793j0FJArp2deDtt634/nvxMVhWVubzvYnXrHEF4B//6PR4rSa7uri/X8Zf/2pTf5avvOI9/k6dOoWIiAgcOXJE9LQiqjXR/UAaJ3oCk39ISEjAxo0bkZ+fj+zsbMTGxqJfv37q63a7HaGhoW7bTTVt2tRjuZrGRlEUnDp1CnPnzkWnTp0QFxeHZcuW4dy5c+pRv48++ghXr15VjwzeeFqzKkRKS107YUyaZEObNp67kERFOTF3rhX/938NH4MNEX+yLOPjj10B+PjjngF4cwzebq1Bi0XG5MnV8fe3v3mPv7y8PHTo0AEHDx4UPY2I6kR0P5DGiZ7A5J+OHTuGgIAAmM1mAMD27dvRvHlzyHL1hvMvvPACN5y/gaIoOH36NObPn48uXbqge/fuiI6ORrdu3XD9+nU1Xu60n25ZmYyvvqrAtGk2PPqoZwxGRDgxe7YNx4+Xw2LxbfyZzeYGiT9ZlvHBB64ADAu7fQDeLgavXDEgNbVc/VlNneo9/n766SdERkZi3759Pp8Xw4YNg06nc/u9eDSd6oPofiCNEz2ByT/t2bMHer0eTqcTAPDmm2+id+/ebu9Zt24d2rZtK2J4fu/69euIiopCeHg4evbsie7du2PRokXIy8tTQ8rbNW43x6DFIuPQoQrMmGHDn/7kGYOPP+7EK6/YcPhwRb3HYEPGnyzLWLmyUg3cuvz6sjILpk2zqj+b5GQLjMZrHvsrnz17Fh07dsSePXt8Pg8yMzMxaNAgBAQEqAHIo+lUX0T3A2mc6AlM/sdqtaJbt26YMmWK+lxqaioSExPd3rdr1y40bdq0oYfn9+x2Ozp16oThw4ejsrISiqLgwoULWLp0KXr06IGuXbti/vz5yM3NdYvBqmvcbrWfrsUi49ixcsyaZUN4uGcMPvaYE9On27BvXwXKyuon/goLCxsk/mRZxooVrniLjKx9AFosMl5+ufq078SJNhQVFas/y0OHDqFXr16YN28eIiIisHPnTp/Pg4sXL6Jdu3a4cuWK2xFAHk2n+iK6H0jjRE9g8i9OpxOJiYmIiYlx+weKAVg7X3/9Nex2u8fziqLgl19+wfLly9G7d29ER0djzpw5yMnJqVUMyrKMf/+7HHPmWPHkk54xGBzsxOTJNuzeXQGz2f/jT5Zd2+tJEvDkk7ULQItFxn//d3X8paTYUFxcCoPBoG7zd/HiRbz11lsIDw9HQEAAYmNjsWTJEpw7d84nn7+iKIiLi8O6desAwC0AeTSd6ovofiCNEz2ByX8oioKxY8ciKioKJSUlbq/xH636pygKDAYDVq1ahfj4eERFRWH27Nn49ttv1XUEa3r366lT5Zg/34ouXRweMfjIIwpSUmzYvr0CJSU1j7+GCr+qx9KlrgDs1Kl2Afj669Xx98ILdo/4k2UZly5dQnR0NLZs2QKTyYRPPvkECQkJWLhwoU8+26VLl2LIkCHq1zcGoC/+Z6qyshIff/wxhg8frt69v3LlSnz00Ud1/p7k/0T3A2mc6AlM/iM5ORlhYWEwmUwer+3YsQN6vd7tqGBSUhJPW9UTRVFgMpmQkZGBgQMHIjIyEjNnzsTRo0fdYvB2d79Wxc6PP5Zj8WIrevTwjMEHH1Qwdqwdn39egaIi/4k/WZaxZIkrALt0cdT418yZU33N3/PPV8ffjdf8/frrr+jSpQs2bdrUIJ/ljz/+iLZt28JoNKrP+ToAt2zZAqvViqioKJw9exYAMGDAAN7hfI8T3Q+kcaInMPmH1NRUPPLII8jOzobRaFQfVTeB2Gw2hIWFuV243qxZMxw4cEDswO9BiqKgsLAQmZmZSEhIQEREBNLS0vD111/fMgYNBoPXGPz553L84x9W9O7tQECA+1qDQUEKRo2y43//txJXr5bi6tWrbuHU0I9Fi1wxFxNTswB8663q+HvuOTuKijzj78qVK4iJicH69euhKEqDfH5r165FkyZNEBgYqD50Oh0CAwMxduxYnxxNN5vN+OGHHxAbGwvAtYvNQw89hMrKyrv6s5B/E90PpHGiJzD5B51Oh4CAAPVR9fWlS5fU95w9e9Zt6YqsrCxxA25ESkpK8Omnn+LZZ5/FE088gWnTpmHv3r3qOoI1jcELF1x32vbv70BgoHsMNm/uxLBhVqxbVwmjUUwAvv22K+h69LhzAFa9V5KAxEQ7iorMHgF79epV9OjRA1lZWQ0WfwBQWlqKvLw8t4dOp0NmZiauXLnis6PpCxYswPLlywEAJ06cQM+ePe/q+5H/E90PpHGiJzAR1ZzZbMamTZuQmJiI0NBQTJo0Cbt371Z3GLFYLDCbzSgsLITRaITBYIDJZEJxcbFbDP76q2vh5UGDbPjd79xjsFkzBYMH27F6dSWuXGm4AKw6ovf007cPwPT06vgbMcJ7/F27dg1PP/00MjIyGjT+buXGU8C+Opr+0ksvYffu3QCAefPm4dVXX73bYZOfE90PpHGiJzDRnXAhXe8sFgu2bNmC0aNHIzQ0FBMmTMCXX36pLnh8pxgsLXWdMr14sQhZWZUYNsyO5s3dY7BpUwV//rNsXrRIAAAN9klEQVQDH3xQiUuXfBuAc+e6wq5371sH4LvvVsffsGF2FBZ6XrdoMpnQp08frFq1yi/iD4DbOoCAb46mZ2dnIy0tDZ988glCQkKwY8eOu/6e5N9E9wNpnOgJTHQ7XEi3ZsrLy7F9+3aMGzcOISEhSEpKwhdffOF2VOzmGKw6VVx1XaErnmSsX1+JxEQ7WrRwj8EmTRTExTmwfLkV587VfwC+8YYr7vr29R6A//hHdfwNHmzH9eue8Xf9+nX07dsX7733nt/EX0NzOBwIDg5Wd/Ghe5fofiCNEz2BiW6FC+nWjdVqxc6dO5GSkoKQkBCMGTMGmzdvVkNp27Zt2L9/P0wmk7o/sclkQlFRkVsMFhbK+OyzSowZY0erVu4xqNMp6NXLgXfesSI/v372J541y7WcS//+ngFYtUi0JAHPPOPwGn+FhYUYMGAAli5d2uji7+jRo+jVqxcAYMWKFfj73/8udkDUIET3A2mc6AlM5A0X0q0fNpsNe/fuRWpqKkJDQzFw4EDo9Xp89NFHajiVlZWhqKhIjcFr1655xGBxsYytWyswfrwdDz/sHoOSBHTr5sDChVbk5dU9BqsWcx440D0AV62qVH+fP//ZgYICz4Wqi4qK8MwzzyA9Pb3RxR8AnD9/HosXL0ZmZiaWLVsmejjUQET3A2mc6AlM5E1DL6TbGGzbtg333Xcfhg8fjrCwMIwYMQJr166F0WisVQyWlsrYubMCqak2tG7tGYNPPeXEW29Z8d13tYvBGTNcAfhf/2VXn/vww0rodK7fo18/BwoKyjz2Jy4uLsaQIUMwb968Rhl/1HiJ7gfSONETmOhmIhbSvdcdOXIEer0eW7ZsAeC6Tuzw4cNIS0vDE088gSFDhmDNmjUwGAxqWFXFoMlkcovBquVnXNcVyti7twJTp9rwH//huSVdRIQTr79uw4kT5bBYbh+Af/ubKwCHDHEF4OrV1fEXF+eAyeQZfyUlJRgxYgTefPNNxh81OqL7gTRO9AQmupmIhXTvdZWVlTh06JDX15xOJ44fP46ZM2ciIiICgwYNwocffohff/3VLQaLi4vVGDQajSgsLHSLQYtFxsGDFUhLs6F9e88YDAlxYuZMG44c8R6D06a5AvDZZ+3IzKxUF67u3duBa9c846+0tBQjR47Eq6++qi5YTtSYiO4H0jjRE5joZqIW0iVXDObk5GD27Nno2LEj+vfvj/fffx8XL15Uw8tisdwyBqvfI+Obb8rx6qs2PPGEZwy2a+fESy/ZsH9/BcrKXAH44os2dSeQqvjr1csBo7EMRqPRLf7MZjPGjBmDl19+mfFHjZbofiCNEz2BiWqiIRbSJXeKouDUqVOYO3cuOnXqhLi4OCxbtgznzp2rVQzKsox//7scb75pRceOnjHYtq0TL75ow5AhdvUO46odQQwGV/wVFBS4xV9SUhKmTp3K+KNGTXQ/kMaJnsBENdEQC+nSrSmKgtOnT2P+/Pno0qULevXqhXfeeQf5+fluMVhSUoKCggIYDAb1lG1paalbDObmlmPePCs6d3Z4xGDVIzbWgStXPOOvrKwMEyZMQGpqKuOPGj3R/UAaJ3oCE5G2KIqCs2fPIj09HTExMejevTsWLVqEvLy8Wsfg6dPlSE+3Ija2OgabNVNw+bL3+Js8eTKSk5PhcDhE/xiIhBPdD6RxoicwEWmXoii4cOECli5dih49eqBr166YP38+cnNzvcbg1atXbxmD69ZVICTEifT0Cq/xN336dIwdO5bxR/Qb0f1AGid6AhNpRU5ODvr16we9Xo8HH3wQzz33nPoa9yZ2xeAvv/yC5cuXo3fv3oiOjsacOXOQk5PjFoOlpaW4fv26GoMFBQUoKSmBxWJBWZnryJ/JZHKLv1deeQWjR4+G3W73ydgXLlyIzp07o0WLFggODkZycjIKCgrc3sPPmPyN6H4gjRM9gYm04PTp02jVqhXmzZuHH3/8ET/99BO2bt0KgHsTe6MoCgwGA1atWoX4+HhERUVh1qxZOHHihLqo9M0xWHWq2Gg0ur1n1qxZGDlyJGw2m8/Gm5CQgI0bNyI/Px/Z2dmIjY1Fv3791Nf5GZM/Et0PpHGiJzCRFvzlL39BSkqK19e4N/HtKYoCk8mEjIwMDBw4EJGRkZg5cyaOHj2qht6VK1dw+PBh9ahgYmIiRowYgQkTJmDw4MGwWq0NOuZjx44hICAAZrMZAD9j8k+i+4E0TvQEJvJ3TqcT999/P+bPn4+4uDi0bt0aAwYMwKlTpwBwb+LaUBQFhYWFyMzMREJCAsLDwzFlyhRER0dj6NChsFgssFgsOHjwIEaOHIlWrVpBr9dj5MiR2Lx5MyoqKhpknHv27IFer1fvNOZnTP5IdD+QxomewET+zmg0QqfTISgoCKtXr8Z3332HlJQUtG7dGmazmVvT3YXLly8jLCwM7du3R4cOHTB16lTs3bsXCxcuxMCBA1FeXo7c3Fx1LcKSkhKfj8lqtaJbt26YMmWK+hw/Y/JHovuBNE70BCbydwaDATqdDhMmTFCfs9vtaN26NdavX884qCNZltGnTx/069cP5eXlMJvN2LRpEwYNGoT27dujvLy8wcfkdDqRmJiImJgYt9O9/IzJH4nuB9I40ROYyN/ZbDYEBgZiyZIlbs93794d6enpPD1YRzabDQsWLHALrSqKojT4eBRFwdixYxEVFeVxpJGfMfkj0f1AGid6AhNpQbdu3TBx4kT1a4fDgTZt2mDDhg3cm/gekZycjLCwMJhMJo/X+BmTPxLdD6RxoicwkRZs3LgRer0eGzZswJkzZzB16lQEBwejrKyMexPfA1JTU/HII48gOzsbRqNRfVTdBMLPmPyR6H4gjRM9gYm0YsWKFWjXrh2CgoIQHx+PvLw89TXuTaxtOp0OAQEB6qPq60uXLqnv4WdM/kZ0P5DGiZ7AREREVHui+4E0TvQEJiIiotoT3Q+kcaInMBEREdWe6H4gjRM9gYmoboqLizF+/Hi0adMGLVq0QI8ePXDw4EH19TNnzrhds5aZmSlwtERU30T3A2mc6AlMVJ8OHTqEdevW4cUXX8T27dvxwQcf4LnnnhM9LJ8YN24cnnrqKXz77bc4f/480tLSEBQUhJKSEtjtdoSEhLjdtdq0aVPs379f9LCJqJ6I7gfSONETmKi+FBcX47PPPgMAvPvuu5g8eTLOnTuHl156SfDIfCMyMhLvvfee+rXFYoFOp8OJEyewfft2NG/e3G3duhdeeIHr1hHdQ0T3A2mc6AlMVF/Ky8vVddtGjRqFnTt3Ch6Rb7388suIj4/H9evX4XQ6sXz5cjz66KOQZZk7VxA1AqL7gTRO9AQm8oU2bdrAbDYDAEpLSwWPxjccDgeGDRsGnU6HwMBABAcHIzc3FwD3riVqDET3A2mc6AlMVF927NiBjIwMHDlyBGFhYQCAwsJCbNq0SfDIfGP69OmIjo7G/v37cfLkScyYMQOPPfYYCgsLGYBEjYDofiCNEz2BiepLZmYmZsyYgTVr1uC1117D6tWrsXr1atHD8gmLxYImTZrgyJEjbs+HhYVh5cqVPAVM1AiI7gfSONETmIhqz2KxICAgAN98843b8+Hh4VixYgV27NgBvV7vdhNIUlISbwIhuoeI7gfSONETmIjqpm/fvujevTtOnDiBn3/+GW+88Qbuu+8+5Ofnw2azISwszG0ZmGbNmuHAgQOih+1T6enpaNu2LfR6PYYOHQqj0Sh6SEQ+I7ofSONET2Aiqhuj0YixY8ciODgYLVu2RGxsLP71r3+pr589e9ZtIeisrCxxg20AmZmZaNmyJbZt24bc3FzExcWhT58+oodF5DOi+4E0TvQEJiKqD507d8acOXPUr8+fPw+dTqfeGU10rxHdD6RxoicwEdHdslqtaNKkicdOJ+3bt0dGRoagURH5luh+II0TPYGJSLu++OIL9OvXDw888AACAgLUhbir1GQ/4vq4bs9gMECn0+GHH35wez4mJgYLFiyo9fcj0gLR/UAaJ3oCE5F2rV+/HosWLcLixYs9AtButyM0NPS2+xHX13V7DEBqjET3A2mc6AlMRNr39ddfewRgTfYjrq/r9ngKmBoj0f1AGid6AhOR9nkLwDstRl3f0cabQKixEd0PREREfSRJckqSFHDDcx9LkvTPm973jCRJtt/+O1iSJEWSpMib3nNCkqQ36jCG8ZIklUqS9KwkSU9JkrRPkqQDdfg+RERERFQD/hCAkiRJr0mSZJAkySJJ0lZJkv5Qx+9DRERERHfgLQDfliTp4E3ve0GSpCu//ffvJElySJLU96b3nJckaaIPxkhERERE9chbAA6RJEmWJEl/w3NrJUn64oavcyRJmn/D1+0l11HBKJ+MkoiIiIju2oOS63q7v0qucOv829d6SZKaSpKUL0nSJkmSOkiSlCJJUqUkSXE3/PrxEq/bIyIiItKUJMkVfs6bHr1/ez1EkqT9kiSVS65Tu+O9fA9et0dERERERERERERERERERERERERERERERERERERERERERERERERERERERERERERERERERERERERERERERERERERERERERERERERERERERERERERERERERERERERERERERERERERERERERERERERERERERERERERERERERERERERERERERERERERERERERERERERERERERERERERERERERERERERERERERERERERERERERERERERERERERERERERERERERERERERERERERERERERERHRL/w9GpIr0quyJ+AAAAABJRU5ErkJggg==\">"
      ],
      "text/plain": [
       "<IPython.core.display.HTML object>"
      ]
     },
     "metadata": {},
     "output_type": "display_data"
    }
   ],
   "source": [
    "mesh"
   ]
  },
  {
   "cell_type": "markdown",
   "metadata": {},
   "source": [
    "## Abstract micormagnetic Model"
   ]
  },
  {
   "cell_type": "code",
   "execution_count": 22,
   "metadata": {
    "collapsed": true
   },
   "outputs": [],
   "source": [
    "from micromagneticmodel import MicromagneticModel"
   ]
  },
  {
   "cell_type": "code",
   "execution_count": 23,
   "metadata": {
    "collapsed": true
   },
   "outputs": [],
   "source": [
    "cmin = (0, 0, 0)\n",
    "cmax = (100, 100, 100)\n",
    "d = (10, 10, 10)\n",
    "\n",
    "mesh = Mesh(cmin, cmax, d)"
   ]
  },
  {
   "cell_type": "code",
   "execution_count": 24,
   "metadata": {
    "collapsed": false
   },
   "outputs": [],
   "source": [
    "Ms = 8.6e5\n",
    "\n",
    "mumagmodel = MicromagneticModel(mesh, Ms, name='mumag_model')"
   ]
  },
  {
   "cell_type": "code",
   "execution_count": 25,
   "metadata": {
    "collapsed": false
   },
   "outputs": [],
   "source": [
    "A = 8.78e-12\n",
    "D = 1.58e-3\n",
    "K = 1.5e3\n",
    "u = (0, 0, 1)\n",
    "H = (0.5*Ms, 0, 0)\n",
    "\n",
    "mumagmodel.hamiltonian.add(Exchange(A))  # or mumagmodel.add_energy(Exchange(A))\n",
    "mumagmodel.hamiltonian.add(DMI(D))\n",
    "mumagmodel.hamiltonian.add(Zeeman(H))\n",
    "mumagmodel.hamiltonian.add(UniaxialAnisotropy(K, u))\n",
    "mumagmodel.hamiltonian.add(Demag())"
   ]
  },
  {
   "cell_type": "code",
   "execution_count": 26,
   "metadata": {
    "collapsed": true
   },
   "outputs": [],
   "source": [
    "gamma = 2.21e5\n",
    "alpha = 0.1\n",
    "\n",
    "mumagmodel.dynamics.add(Precession(gamma))\n",
    "mumagmodel.dynamics.add(Damping(alpha))"
   ]
  },
  {
   "cell_type": "code",
   "execution_count": 27,
   "metadata": {
    "collapsed": false
   },
   "outputs": [
    {
     "data": {
      "image/png": "[encoded data removed]",
      "text/plain": [
       "<matplotlib.figure.Figure at 0x7fea68097990>"
      ]
     },
     "metadata": {},
     "output_type": "display_data"
    }
   ],
   "source": [
    "mumagmodel.show_mesh()"
   ]
  },
  {
   "cell_type": "code",
   "execution_count": 28,
   "metadata": {
    "collapsed": false
   },
   "outputs": [
    {
     "data": {
      "text/latex": [
       "$$\\mathcal{H}=A [(\\nabla m_{x})^{2} + (\\nabla m_{y})^{2} + (\\nabla m_{z})^{2}]+D \\mathbf{m} \\cdot (\\nabla \\times \\mathbf{m})- \\mu_{0}M_\\text{s} \\mathbf{m} \\cdot \\mathbf{H}+K (\\mathbf{m} \\cdot \\mathbf{u})^{2}+w_\\text{d}$$"
      ],
      "text/plain": [
       "<IPython.core.display.Math object>"
      ]
     },
     "execution_count": 28,
     "metadata": {},
     "output_type": "execute_result"
    }
   ],
   "source": [
    "mumagmodel.show_hamiltonian()"
   ]
  },
  {
   "cell_type": "code",
   "execution_count": 29,
   "metadata": {
    "collapsed": false
   },
   "outputs": [
    {
     "data": {
      "text/latex": [
       "$$\\frac{\\partial \\mathbf{m}}{\\partial t}=\\gamma \\mathbf{m} \\times \\mathbf{H}_\\text{eff}+\\alpha \\mathbf{m} \\times \\frac{\\partial \\mathbf{m}}{\\partial t}$$"
      ],
      "text/plain": [
       "<IPython.core.display.Math object>"
      ]
     },
     "execution_count": 29,
     "metadata": {},
     "output_type": "execute_result"
    }
   ],
   "source": [
    "mumagmodel.show_dynamics()"
   ]
  },
  {
   "cell_type": "code",
   "execution_count": null,
   "metadata": {
    "collapsed": true
   },
   "outputs": [],
   "source": []
  }
 ],
 "metadata": {
  "kernelspec": {
   "display_name": "Python 2",
   "language": "python",
   "name": "python2"
  },
  "language_info": {
   "codemirror_mode": {
    "name": "ipython",
    "version": 2
   },
   "file_extension": ".py",
   "mimetype": "text/x-python",
   "name": "python",
   "nbconvert_exporter": "python",
   "pygments_lexer": "ipython2",
   "version": "2.7.6"
  }
 },
 "nbformat": 4,
 "nbformat_minor": 0
}
