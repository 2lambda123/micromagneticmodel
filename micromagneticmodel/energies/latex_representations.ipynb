{
 "cells": [
  {
   "cell_type": "code",
   "execution_count": 4,
   "metadata": {
    "collapsed": false
   },
   "outputs": [],
   "source": [
    "from exchangeabstract import ExchangeAbstract\n",
    "from zeemanabstract import ZeemanAbstract\n",
    "from demagabstract import DemagAbstract\n",
    "from uniaxialanisotropyabstract import UniaxialAnisotropyAbstract"
   ]
  },
  {
   "cell_type": "code",
   "execution_count": 5,
   "metadata": {
    "collapsed": true
   },
   "outputs": [],
   "source": [
    "class Exchange(ExchangeAbstract):\n",
    "    \"\"\"Implementation of the abstract class for testing.\"\"\"\n",
    "    def calculator_script(self):\n",
    "        raise NotImplementedError()\n",
    "\n",
    "class Zeeman(ZeemanAbstract):\n",
    "    \"\"\"Implementation of the abstract class for testing.\"\"\"\n",
    "    def calculator_script(self):\n",
    "        raise NotImplementedError()\n",
    "        \n",
    "class Demag(DemagAbstract):\n",
    "    \"\"\"Implementation of the abstract class for testing.\"\"\"\n",
    "    def calculator_script(self):\n",
    "        raise NotImplementedError()\n",
    "        \n",
    "class UniaxialAnisotropy(UniaxialAnisotropyAbstract):\n",
    "    \"\"\"Implementation of the abstract class for testing.\"\"\"\n",
    "    def calculator_script(self):\n",
    "        raise NotImplementedError()"
   ]
  },
  {
   "cell_type": "code",
   "execution_count": 6,
   "metadata": {
    "collapsed": true
   },
   "outputs": [],
   "source": [
    "e = Exchange(1.12e-12)\n",
    "z = Zeeman((0, 0, 1e6))\n",
    "d = Demag()\n",
    "ua = UniaxialAnisotropy(1e3, (0, 0, 1))"
   ]
  },
  {
   "cell_type": "code",
   "execution_count": 7,
   "metadata": {
    "collapsed": false
   },
   "outputs": [
    {
     "data": {
      "text/latex": [
       "$A [(\\nabla m_{x})^{2} + (\\nabla m_{y})^{2} + (\\nabla m_{z})^{2}]$"
      ],
      "text/plain": [
       "<__main__.Exchange at 0x7f7d53867450>"
      ]
     },
     "execution_count": 7,
     "metadata": {},
     "output_type": "execute_result"
    }
   ],
   "source": [
    "e"
   ]
  },
  {
   "cell_type": "code",
   "execution_count": 8,
   "metadata": {
    "collapsed": false
   },
   "outputs": [
    {
     "data": {
      "text/latex": [
       "$-\\mu_{0}M_\\text{s} \\mathbf{m} \\cdot \\mathbf{H}$"
      ],
      "text/plain": [
       "<__main__.Zeeman at 0x7f7d53867190>"
      ]
     },
     "execution_count": 8,
     "metadata": {},
     "output_type": "execute_result"
    }
   ],
   "source": [
    "z"
   ]
  },
  {
   "cell_type": "code",
   "execution_count": 9,
   "metadata": {
    "collapsed": false
   },
   "outputs": [
    {
     "data": {
      "text/latex": [
       "$-\\frac{1}{2}\\mu_{0}M_\\text{s}\\mathbf{m} \\cdot \\mathbf{H}_\\text{d}$"
      ],
      "text/plain": [
       "<__main__.Demag at 0x7f7d6c1f2e10>"
      ]
     },
     "execution_count": 9,
     "metadata": {},
     "output_type": "execute_result"
    }
   ],
   "source": [
    "d"
   ]
  },
  {
   "cell_type": "code",
   "execution_count": 10,
   "metadata": {
    "collapsed": false
   },
   "outputs": [
    {
     "data": {
      "text/latex": [
       "$K (\\mathbf{m} \\cdot \\mathbf{u})^{2}$"
      ],
      "text/plain": [
       "<__main__.UniaxialAnisotropy at 0x7f7d6c1f2c10>"
      ]
     },
     "execution_count": 10,
     "metadata": {},
     "output_type": "execute_result"
    }
   ],
   "source": [
    "ua"
   ]
  }
 ],
 "metadata": {
  "kernelspec": {
   "display_name": "Python 2",
   "language": "python",
   "name": "python2"
  },
  "language_info": {
   "codemirror_mode": {
    "name": "ipython",
    "version": 2
   },
   "file_extension": ".py",
   "mimetype": "text/x-python",
   "name": "python",
   "nbconvert_exporter": "python",
   "pygments_lexer": "ipython2",
   "version": "2.7.6"
  }
 },
 "nbformat": 4,
 "nbformat_minor": 0
}
